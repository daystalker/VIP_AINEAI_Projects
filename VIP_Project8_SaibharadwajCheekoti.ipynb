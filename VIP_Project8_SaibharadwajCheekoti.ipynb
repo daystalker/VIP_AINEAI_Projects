{
  "nbformat": 4,
  "nbformat_minor": 0,
  "metadata": {
    "kernelspec": {
      "display_name": "Python 3",
      "language": "python",
      "name": "python3"
    },
    "language_info": {
      "codemirror_mode": {
        "name": "ipython",
        "version": 3
      },
      "file_extension": ".py",
      "mimetype": "text/x-python",
      "name": "python",
      "nbconvert_exporter": "python",
      "pygments_lexer": "ipython3",
      "version": "3.7.6"
    },
    "papermill": {
      "duration": 23.559325,
      "end_time": "2020-09-06T03:42:45.162369",
      "environment_variables": {},
      "exception": null,
      "input_path": "__notebook__.ipynb",
      "output_path": "__notebook__.ipynb",
      "parameters": {},
      "start_time": "2020-09-06T03:42:21.603044",
      "version": "2.1.0"
    },
    "colab": {
      "name": "VIP_Project8_SaibharadwajCheekoti.ipynb",
      "provenance": [],
      "collapsed_sections": [],
      "include_colab_link": true
    }
  },
  "cells": [
    {
      "cell_type": "markdown",
      "metadata": {
        "id": "view-in-github",
        "colab_type": "text"
      },
      "source": [
        "<a href=\"https://colab.research.google.com/github/daystalker/VIP_AINEAI_Projects/blob/main/VIP_Project8_SaibharadwajCheekoti.ipynb\" target=\"_parent\"><img src=\"https://colab.research.google.com/assets/colab-badge.svg\" alt=\"Open In Colab\"/></a>"
      ]
    },
    {
      "cell_type": "markdown",
      "metadata": {
        "id": "ydCQRCAsb-7x"
      },
      "source": [
        "# Project 8: Machine Learning for Predictive Analytics"
      ]
    },
    {
      "cell_type": "markdown",
      "metadata": {
        "papermill": {
          "duration": 0.02014,
          "end_time": "2020-09-06T03:42:27.375669",
          "exception": false,
          "start_time": "2020-09-06T03:42:27.355529",
          "status": "completed"
        },
        "tags": [],
        "id": "oYxbjYEJah5d"
      },
      "source": [
        "# Churn prediction \n",
        "is one of the most popular Big Data use cases in business. It consists of detecting customers who are likely to cancel a subscription to a service.\n",
        "\n",
        "Although originally a telcom giant thing, this concerns businesses of all sizes, including startups. Now, thanks to prediction services and APIs, predictive analytics are no longer exclusive to big players that can afford to hire teams of data scientists.\n",
        "\n",
        "As an example of how to use churn prediction to improve your business, let’s consider businesses that sell subscriptions. This can be telecom companies, SaaS companies, and any other company that sells a service for a monthly fee.\n",
        "\n",
        "There are three possible strategies those businesses can use to generate more revenue: acquire more customers, upsell existing customers, or increase customer retention. All the efforts made as part of one of the strategies have a cost, and what we’re ultimately interested in is the return on investment: the ratio between the extra revenue that results from these efforts and their cost"
      ]
    },
    {
      "cell_type": "markdown",
      "metadata": {
        "papermill": {
          "duration": 0.010838,
          "end_time": "2020-09-06T03:42:27.425594",
          "exception": false,
          "start_time": "2020-09-06T03:42:27.414756",
          "status": "completed"
        },
        "tags": [],
        "id": "3kKxOXHdah5j"
      },
      "source": [
        "In this study, we tried to predict Customer Churn using logistic regression, Random Forest and Naive Bayesian classifier.\n",
        "\n",
        "Variable Prediction:\n",
        "1.    CustomerID                   \n",
        "1.   MonthlyRevenue             \n",
        "1.     MonthlyMinutes            \n",
        "1.     TotalRecurringCharge      \n",
        "1.     DirectorAssistedCalls      \n",
        "1.     OverageMinutes             \n",
        "1.    RoamingCalls              \n",
        "1.    PercChangeMinutes         \n",
        "1.     PercChangeRevenues        \n",
        "1.    DroppedCalls               \n",
        "1.    BlockedCalls               \n",
        "1.    UnansweredCalls           \n",
        "1.    CustomerCareCalls         \n",
        "1.    ThreewayCalls             \n",
        "1.    ReceivedCalls              \n",
        "1.    OutboundCalls              \n",
        "1.    InboundCalls              \n",
        "1.    PeakCallsInOut            \n",
        "1.   OffPeakCallsInOut          \n",
        "1.   DroppedBlockedCalls        \n",
        "1.    CallForwardingCalls        \n",
        "1.    CallWaitingCalls           \n",
        "1.    MonthsInService           \n",
        "1.   UniqueSubs               \n",
        "1.    ActiveSubs                \n",
        "1.   ServiceArea                \n",
        "1.   Handsets                  \n",
        "1.   HandsetModels              \n",
        "1.    CurrentEquipmentDays      \n",
        "1.   AgeHH1                     \n",
        "1.    AgeHH2                    \n",
        "1.    ChildrenInHH              \n",
        "1.    HandsetRefurbished         \n",
        "1.   HandsetWebCapable          \n",
        "1.    TruckOwner                 \n",
        "1.   RVOwner                   \n",
        "1.    Homeownership            \n",
        "1.    BuysViaMailOrder           \n",
        "1.    RespondsToMailOffers       \n",
        "1.    OptOutMailings            \n",
        "1.   NonUSTravel               \n",
        "1.    OwnsComputer              \n",
        "1.    HasCreditCard             \n",
        "1.   RetentionCalls            \n",
        "1.    RetentionOffersAccepted    \n",
        "1.   NewCellphoneUser         \n",
        "1.    NotNewCellphoneUser       \n",
        "1.    ReferralsMadeBySubscriber  \n",
        "1.    IncomeGroup                \n",
        "1.   OwnsMotorcycle           \n",
        "1.   AdjustmentsToCreditRating  \n",
        "1.    HandsetPrice               \n",
        "1.    MadeCallToRetentionTeam    \n",
        "1.   CreditRating               \n",
        "1.    PrizmCode                 \n",
        "1.    Occupation                \n",
        "1.   MaritalStatus              "
      ]
    },
    {
      "cell_type": "markdown",
      "metadata": {
        "papermill": {
          "duration": 0.010916,
          "end_time": "2020-09-06T03:42:27.448083",
          "exception": false,
          "start_time": "2020-09-06T03:42:27.437167",
          "status": "completed"
        },
        "tags": [],
        "id": "J6d6DCA7ah5l"
      },
      "source": [
        "## # <img align=\"left\" width=\"80\" height=\"80\" src=\"https://raw.githubusercontent.com/akarsh/akarsh-seggemu-resume/master/akarsh%20seggemu%20resume/Assets/Assets.xcassets/AppIcon.appiconset/Icon-App-60x60%403x.png\" alt=\"Resume application project app icon\"> **Packages and setup**"
      ]
    },
    {
      "cell_type": "code",
      "metadata": {
        "_cell_guid": "b1076dfc-b9ad-4769-8c92-a6c4dae69d19",
        "_uuid": "8f2839f25d086af736a60e9eeb907d3b93b6e0e5",
        "execution": {
          "iopub.execute_input": "2020-09-06T03:42:27.483012Z",
          "iopub.status.busy": "2020-09-06T03:42:27.482168Z",
          "iopub.status.idle": "2020-09-06T03:42:29.334140Z",
          "shell.execute_reply": "2020-09-06T03:42:29.334779Z"
        },
        "papermill": {
          "duration": 1.87549,
          "end_time": "2020-09-06T03:42:29.335001",
          "exception": false,
          "start_time": "2020-09-06T03:42:27.459511",
          "status": "completed"
        },
        "tags": [],
        "id": "cGLIVPyIah5m"
      },
      "source": [
        "import numpy as np\n",
        "import pylab as pl\n",
        "import pandas as pd\n",
        "import matplotlib.pyplot as plt \n",
        "%matplotlib inline\n",
        "import seaborn as sns\n",
        "from sklearn.utils import shuffle\n",
        "from sklearn.svm import SVC\n",
        "from sklearn.metrics import confusion_matrix,classification_report\n",
        "from sklearn.model_selection import cross_val_score, GridSearchCV\n"
      ],
      "execution_count": 48,
      "outputs": []
    },
    {
      "cell_type": "markdown",
      "metadata": {
        "papermill": {
          "duration": 0.011166,
          "end_time": "2020-09-06T03:42:29.358123",
          "exception": false,
          "start_time": "2020-09-06T03:42:29.346957",
          "status": "completed"
        },
        "tags": [],
        "id": "kWOOgj5dah5o"
      },
      "source": [
        "## # # <img align=\"left\" width=\"80\" height=\"80\" src=\"https://raw.githubusercontent.com/akarsh/akarsh-seggemu-resume/master/akarsh%20seggemu%20resume/Assets/Assets.xcassets/AppIcon.appiconset/Icon-App-60x60%403x.png\" alt=\"Resume application project app icon\"> **Reading data and initial processing**"
      ]
    },
    {
      "cell_type": "code",
      "metadata": {
        "_cell_guid": "79c7e3d0-c299-4dcb-8224-4455121ee9b0",
        "_uuid": "d629ff2d2480ee46fbb7e2d37f6b5fab8052498a",
        "execution": {
          "iopub.execute_input": "2020-09-06T03:42:29.412570Z",
          "iopub.status.busy": "2020-09-06T03:42:29.411319Z",
          "iopub.status.idle": "2020-09-06T03:42:30.546489Z",
          "shell.execute_reply": "2020-09-06T03:42:30.545592Z"
        },
        "papermill": {
          "duration": 1.176804,
          "end_time": "2020-09-06T03:42:30.546703",
          "exception": false,
          "start_time": "2020-09-06T03:42:29.369899",
          "status": "completed"
        },
        "tags": [],
        "id": "9tUK0U1Xah5o"
      },
      "source": [
        "cust_df_train = pd.read_csv(\"/content/TelecomData.csv\")\n",
        "cust_df_test = pd.read_csv(\"/content/Telecom-PredictionData.csv\")"
      ],
      "execution_count": 49,
      "outputs": []
    },
    {
      "cell_type": "markdown",
      "metadata": {
        "id": "08L7qXjGd7I2"
      },
      "source": [
        "### **Placeholder for your analysis**"
      ]
    },
    {
      "cell_type": "code",
      "metadata": {
        "colab": {
          "base_uri": "https://localhost:8080/"
        },
        "id": "20oqUaP0eCqa",
        "outputId": "b0e586e9-dd5b-4094-f5bc-fa2019d9ab56"
      },
      "source": [
        "cust_df_train.shape"
      ],
      "execution_count": 50,
      "outputs": [
        {
          "output_type": "execute_result",
          "data": {
            "text/plain": [
              "(51047, 58)"
            ]
          },
          "metadata": {},
          "execution_count": 50
        }
      ]
    },
    {
      "cell_type": "markdown",
      "metadata": {
        "id": "z1nRadXqeFWS"
      },
      "source": [
        "58 Columns and 51K rows approximately"
      ]
    },
    {
      "cell_type": "code",
      "metadata": {
        "colab": {
          "base_uri": "https://localhost:8080/"
        },
        "id": "MXPCClEEtvDt",
        "outputId": "c64df11f-1d76-4ced-df4f-f530c47238eb"
      },
      "source": [
        "cust_df_test.shape"
      ],
      "execution_count": 51,
      "outputs": [
        {
          "output_type": "execute_result",
          "data": {
            "text/plain": [
              "(20000, 58)"
            ]
          },
          "metadata": {},
          "execution_count": 51
        }
      ]
    },
    {
      "cell_type": "code",
      "metadata": {
        "execution": {
          "iopub.execute_input": "2020-09-06T03:42:30.586351Z",
          "iopub.status.busy": "2020-09-06T03:42:30.585521Z",
          "iopub.status.idle": "2020-09-06T03:42:30.796608Z",
          "shell.execute_reply": "2020-09-06T03:42:30.795538Z"
        },
        "papermill": {
          "duration": 0.234322,
          "end_time": "2020-09-06T03:42:30.796813",
          "exception": false,
          "start_time": "2020-09-06T03:42:30.562491",
          "status": "completed"
        },
        "tags": [],
        "colab": {
          "base_uri": "https://localhost:8080/"
        },
        "id": "q8li5XQbah5p",
        "outputId": "b68f62c2-3458-42a9-cc9b-39edff484f0b"
      },
      "source": [
        "cust_df_train.info()"
      ],
      "execution_count": 52,
      "outputs": [
        {
          "output_type": "stream",
          "name": "stdout",
          "text": [
            "<class 'pandas.core.frame.DataFrame'>\n",
            "RangeIndex: 51047 entries, 0 to 51046\n",
            "Data columns (total 58 columns):\n",
            " #   Column                     Non-Null Count  Dtype  \n",
            "---  ------                     --------------  -----  \n",
            " 0   CustomerID                 51047 non-null  int64  \n",
            " 1   Churn                      51047 non-null  object \n",
            " 2   MonthlyRevenue             50891 non-null  float64\n",
            " 3   MonthlyMinutes             50891 non-null  float64\n",
            " 4   TotalRecurringCharge       50891 non-null  float64\n",
            " 5   DirectorAssistedCalls      50891 non-null  float64\n",
            " 6   OverageMinutes             50891 non-null  float64\n",
            " 7   RoamingCalls               50891 non-null  float64\n",
            " 8   PercChangeMinutes          50680 non-null  float64\n",
            " 9   PercChangeRevenues         50680 non-null  float64\n",
            " 10  DroppedCalls               51047 non-null  float64\n",
            " 11  BlockedCalls               51047 non-null  float64\n",
            " 12  UnansweredCalls            51047 non-null  float64\n",
            " 13  CustomerCareCalls          51047 non-null  float64\n",
            " 14  ThreewayCalls              51047 non-null  float64\n",
            " 15  ReceivedCalls              51047 non-null  float64\n",
            " 16  OutboundCalls              51047 non-null  float64\n",
            " 17  InboundCalls               51047 non-null  float64\n",
            " 18  PeakCallsInOut             51047 non-null  float64\n",
            " 19  OffPeakCallsInOut          51047 non-null  float64\n",
            " 20  DroppedBlockedCalls        51047 non-null  float64\n",
            " 21  CallForwardingCalls        51047 non-null  float64\n",
            " 22  CallWaitingCalls           51047 non-null  float64\n",
            " 23  MonthsInService            51047 non-null  int64  \n",
            " 24  UniqueSubs                 51047 non-null  int64  \n",
            " 25  ActiveSubs                 51047 non-null  int64  \n",
            " 26  ServiceArea                51023 non-null  object \n",
            " 27  Handsets                   51046 non-null  float64\n",
            " 28  HandsetModels              51046 non-null  float64\n",
            " 29  CurrentEquipmentDays       51046 non-null  float64\n",
            " 30  AgeHH1                     50138 non-null  float64\n",
            " 31  AgeHH2                     50138 non-null  float64\n",
            " 32  ChildrenInHH               51047 non-null  object \n",
            " 33  HandsetRefurbished         51047 non-null  object \n",
            " 34  HandsetWebCapable          51047 non-null  object \n",
            " 35  TruckOwner                 51047 non-null  object \n",
            " 36  RVOwner                    51047 non-null  object \n",
            " 37  Homeownership              51047 non-null  object \n",
            " 38  BuysViaMailOrder           51047 non-null  object \n",
            " 39  RespondsToMailOffers       51047 non-null  object \n",
            " 40  OptOutMailings             51047 non-null  object \n",
            " 41  NonUSTravel                51047 non-null  object \n",
            " 42  OwnsComputer               51047 non-null  object \n",
            " 43  HasCreditCard              51047 non-null  object \n",
            " 44  RetentionCalls             51047 non-null  int64  \n",
            " 45  RetentionOffersAccepted    51047 non-null  int64  \n",
            " 46  NewCellphoneUser           51047 non-null  object \n",
            " 47  NotNewCellphoneUser        51047 non-null  object \n",
            " 48  ReferralsMadeBySubscriber  51047 non-null  int64  \n",
            " 49  IncomeGroup                51047 non-null  int64  \n",
            " 50  OwnsMotorcycle             51047 non-null  object \n",
            " 51  AdjustmentsToCreditRating  51047 non-null  int64  \n",
            " 52  HandsetPrice               51047 non-null  object \n",
            " 53  MadeCallToRetentionTeam    51047 non-null  object \n",
            " 54  CreditRating               51047 non-null  object \n",
            " 55  PrizmCode                  51047 non-null  object \n",
            " 56  Occupation                 51047 non-null  object \n",
            " 57  MaritalStatus              51047 non-null  object \n",
            "dtypes: float64(26), int64(9), object(23)\n",
            "memory usage: 22.6+ MB\n"
          ]
        }
      ]
    },
    {
      "cell_type": "code",
      "metadata": {
        "colab": {
          "base_uri": "https://localhost:8080/",
          "height": 224
        },
        "id": "TWCLoN5QenkN",
        "outputId": "0866eb05-516f-4c23-d4c1-17428e8da186"
      },
      "source": [
        "cust_df_train.head(5)"
      ],
      "execution_count": 53,
      "outputs": [
        {
          "output_type": "execute_result",
          "data": {
            "text/html": [
              "<div>\n",
              "<style scoped>\n",
              "    .dataframe tbody tr th:only-of-type {\n",
              "        vertical-align: middle;\n",
              "    }\n",
              "\n",
              "    .dataframe tbody tr th {\n",
              "        vertical-align: top;\n",
              "    }\n",
              "\n",
              "    .dataframe thead th {\n",
              "        text-align: right;\n",
              "    }\n",
              "</style>\n",
              "<table border=\"1\" class=\"dataframe\">\n",
              "  <thead>\n",
              "    <tr style=\"text-align: right;\">\n",
              "      <th></th>\n",
              "      <th>CustomerID</th>\n",
              "      <th>Churn</th>\n",
              "      <th>MonthlyRevenue</th>\n",
              "      <th>MonthlyMinutes</th>\n",
              "      <th>TotalRecurringCharge</th>\n",
              "      <th>DirectorAssistedCalls</th>\n",
              "      <th>OverageMinutes</th>\n",
              "      <th>RoamingCalls</th>\n",
              "      <th>PercChangeMinutes</th>\n",
              "      <th>PercChangeRevenues</th>\n",
              "      <th>DroppedCalls</th>\n",
              "      <th>BlockedCalls</th>\n",
              "      <th>UnansweredCalls</th>\n",
              "      <th>CustomerCareCalls</th>\n",
              "      <th>ThreewayCalls</th>\n",
              "      <th>ReceivedCalls</th>\n",
              "      <th>OutboundCalls</th>\n",
              "      <th>InboundCalls</th>\n",
              "      <th>PeakCallsInOut</th>\n",
              "      <th>OffPeakCallsInOut</th>\n",
              "      <th>DroppedBlockedCalls</th>\n",
              "      <th>CallForwardingCalls</th>\n",
              "      <th>CallWaitingCalls</th>\n",
              "      <th>MonthsInService</th>\n",
              "      <th>UniqueSubs</th>\n",
              "      <th>ActiveSubs</th>\n",
              "      <th>ServiceArea</th>\n",
              "      <th>Handsets</th>\n",
              "      <th>HandsetModels</th>\n",
              "      <th>CurrentEquipmentDays</th>\n",
              "      <th>AgeHH1</th>\n",
              "      <th>AgeHH2</th>\n",
              "      <th>ChildrenInHH</th>\n",
              "      <th>HandsetRefurbished</th>\n",
              "      <th>HandsetWebCapable</th>\n",
              "      <th>TruckOwner</th>\n",
              "      <th>RVOwner</th>\n",
              "      <th>Homeownership</th>\n",
              "      <th>BuysViaMailOrder</th>\n",
              "      <th>RespondsToMailOffers</th>\n",
              "      <th>OptOutMailings</th>\n",
              "      <th>NonUSTravel</th>\n",
              "      <th>OwnsComputer</th>\n",
              "      <th>HasCreditCard</th>\n",
              "      <th>RetentionCalls</th>\n",
              "      <th>RetentionOffersAccepted</th>\n",
              "      <th>NewCellphoneUser</th>\n",
              "      <th>NotNewCellphoneUser</th>\n",
              "      <th>ReferralsMadeBySubscriber</th>\n",
              "      <th>IncomeGroup</th>\n",
              "      <th>OwnsMotorcycle</th>\n",
              "      <th>AdjustmentsToCreditRating</th>\n",
              "      <th>HandsetPrice</th>\n",
              "      <th>MadeCallToRetentionTeam</th>\n",
              "      <th>CreditRating</th>\n",
              "      <th>PrizmCode</th>\n",
              "      <th>Occupation</th>\n",
              "      <th>MaritalStatus</th>\n",
              "    </tr>\n",
              "  </thead>\n",
              "  <tbody>\n",
              "    <tr>\n",
              "      <th>0</th>\n",
              "      <td>3000002</td>\n",
              "      <td>Yes</td>\n",
              "      <td>24.00</td>\n",
              "      <td>219.0</td>\n",
              "      <td>22.0</td>\n",
              "      <td>0.25</td>\n",
              "      <td>0.0</td>\n",
              "      <td>0.0</td>\n",
              "      <td>-157.0</td>\n",
              "      <td>-19.0</td>\n",
              "      <td>0.7</td>\n",
              "      <td>0.7</td>\n",
              "      <td>6.3</td>\n",
              "      <td>0.0</td>\n",
              "      <td>0.0</td>\n",
              "      <td>97.2</td>\n",
              "      <td>0.0</td>\n",
              "      <td>0.0</td>\n",
              "      <td>58.0</td>\n",
              "      <td>24.0</td>\n",
              "      <td>1.3</td>\n",
              "      <td>0.0</td>\n",
              "      <td>0.3</td>\n",
              "      <td>61</td>\n",
              "      <td>2</td>\n",
              "      <td>1</td>\n",
              "      <td>SEAPOR503</td>\n",
              "      <td>2.0</td>\n",
              "      <td>2.0</td>\n",
              "      <td>361.0</td>\n",
              "      <td>62.0</td>\n",
              "      <td>0.0</td>\n",
              "      <td>No</td>\n",
              "      <td>No</td>\n",
              "      <td>Yes</td>\n",
              "      <td>No</td>\n",
              "      <td>No</td>\n",
              "      <td>Known</td>\n",
              "      <td>Yes</td>\n",
              "      <td>Yes</td>\n",
              "      <td>No</td>\n",
              "      <td>No</td>\n",
              "      <td>Yes</td>\n",
              "      <td>Yes</td>\n",
              "      <td>1</td>\n",
              "      <td>0</td>\n",
              "      <td>No</td>\n",
              "      <td>No</td>\n",
              "      <td>0</td>\n",
              "      <td>4</td>\n",
              "      <td>No</td>\n",
              "      <td>0</td>\n",
              "      <td>30</td>\n",
              "      <td>Yes</td>\n",
              "      <td>1-Highest</td>\n",
              "      <td>Suburban</td>\n",
              "      <td>Professional</td>\n",
              "      <td>No</td>\n",
              "    </tr>\n",
              "    <tr>\n",
              "      <th>1</th>\n",
              "      <td>3000010</td>\n",
              "      <td>Yes</td>\n",
              "      <td>16.99</td>\n",
              "      <td>10.0</td>\n",
              "      <td>17.0</td>\n",
              "      <td>0.00</td>\n",
              "      <td>0.0</td>\n",
              "      <td>0.0</td>\n",
              "      <td>-4.0</td>\n",
              "      <td>0.0</td>\n",
              "      <td>0.3</td>\n",
              "      <td>0.0</td>\n",
              "      <td>2.7</td>\n",
              "      <td>0.0</td>\n",
              "      <td>0.0</td>\n",
              "      <td>0.0</td>\n",
              "      <td>0.0</td>\n",
              "      <td>0.0</td>\n",
              "      <td>5.0</td>\n",
              "      <td>1.0</td>\n",
              "      <td>0.3</td>\n",
              "      <td>0.0</td>\n",
              "      <td>0.0</td>\n",
              "      <td>58</td>\n",
              "      <td>1</td>\n",
              "      <td>1</td>\n",
              "      <td>PITHOM412</td>\n",
              "      <td>2.0</td>\n",
              "      <td>1.0</td>\n",
              "      <td>1504.0</td>\n",
              "      <td>40.0</td>\n",
              "      <td>42.0</td>\n",
              "      <td>Yes</td>\n",
              "      <td>No</td>\n",
              "      <td>No</td>\n",
              "      <td>No</td>\n",
              "      <td>No</td>\n",
              "      <td>Known</td>\n",
              "      <td>Yes</td>\n",
              "      <td>Yes</td>\n",
              "      <td>No</td>\n",
              "      <td>No</td>\n",
              "      <td>Yes</td>\n",
              "      <td>Yes</td>\n",
              "      <td>0</td>\n",
              "      <td>0</td>\n",
              "      <td>Yes</td>\n",
              "      <td>No</td>\n",
              "      <td>0</td>\n",
              "      <td>5</td>\n",
              "      <td>No</td>\n",
              "      <td>0</td>\n",
              "      <td>30</td>\n",
              "      <td>No</td>\n",
              "      <td>4-Medium</td>\n",
              "      <td>Suburban</td>\n",
              "      <td>Professional</td>\n",
              "      <td>Yes</td>\n",
              "    </tr>\n",
              "    <tr>\n",
              "      <th>2</th>\n",
              "      <td>3000014</td>\n",
              "      <td>No</td>\n",
              "      <td>38.00</td>\n",
              "      <td>8.0</td>\n",
              "      <td>38.0</td>\n",
              "      <td>0.00</td>\n",
              "      <td>0.0</td>\n",
              "      <td>0.0</td>\n",
              "      <td>-2.0</td>\n",
              "      <td>0.0</td>\n",
              "      <td>0.0</td>\n",
              "      <td>0.0</td>\n",
              "      <td>0.0</td>\n",
              "      <td>0.0</td>\n",
              "      <td>0.0</td>\n",
              "      <td>0.4</td>\n",
              "      <td>0.3</td>\n",
              "      <td>0.0</td>\n",
              "      <td>1.3</td>\n",
              "      <td>3.7</td>\n",
              "      <td>0.0</td>\n",
              "      <td>0.0</td>\n",
              "      <td>0.0</td>\n",
              "      <td>60</td>\n",
              "      <td>1</td>\n",
              "      <td>1</td>\n",
              "      <td>MILMIL414</td>\n",
              "      <td>1.0</td>\n",
              "      <td>1.0</td>\n",
              "      <td>1812.0</td>\n",
              "      <td>26.0</td>\n",
              "      <td>26.0</td>\n",
              "      <td>Yes</td>\n",
              "      <td>No</td>\n",
              "      <td>No</td>\n",
              "      <td>No</td>\n",
              "      <td>No</td>\n",
              "      <td>Unknown</td>\n",
              "      <td>No</td>\n",
              "      <td>No</td>\n",
              "      <td>No</td>\n",
              "      <td>No</td>\n",
              "      <td>No</td>\n",
              "      <td>Yes</td>\n",
              "      <td>0</td>\n",
              "      <td>0</td>\n",
              "      <td>Yes</td>\n",
              "      <td>No</td>\n",
              "      <td>0</td>\n",
              "      <td>6</td>\n",
              "      <td>No</td>\n",
              "      <td>0</td>\n",
              "      <td>Unknown</td>\n",
              "      <td>No</td>\n",
              "      <td>3-Good</td>\n",
              "      <td>Town</td>\n",
              "      <td>Crafts</td>\n",
              "      <td>Yes</td>\n",
              "    </tr>\n",
              "    <tr>\n",
              "      <th>3</th>\n",
              "      <td>3000022</td>\n",
              "      <td>No</td>\n",
              "      <td>82.28</td>\n",
              "      <td>1312.0</td>\n",
              "      <td>75.0</td>\n",
              "      <td>1.24</td>\n",
              "      <td>0.0</td>\n",
              "      <td>0.0</td>\n",
              "      <td>157.0</td>\n",
              "      <td>8.1</td>\n",
              "      <td>52.0</td>\n",
              "      <td>7.7</td>\n",
              "      <td>76.0</td>\n",
              "      <td>4.3</td>\n",
              "      <td>1.3</td>\n",
              "      <td>200.3</td>\n",
              "      <td>370.3</td>\n",
              "      <td>147.0</td>\n",
              "      <td>555.7</td>\n",
              "      <td>303.7</td>\n",
              "      <td>59.7</td>\n",
              "      <td>0.0</td>\n",
              "      <td>22.7</td>\n",
              "      <td>59</td>\n",
              "      <td>2</td>\n",
              "      <td>2</td>\n",
              "      <td>PITHOM412</td>\n",
              "      <td>9.0</td>\n",
              "      <td>4.0</td>\n",
              "      <td>458.0</td>\n",
              "      <td>30.0</td>\n",
              "      <td>0.0</td>\n",
              "      <td>No</td>\n",
              "      <td>No</td>\n",
              "      <td>Yes</td>\n",
              "      <td>No</td>\n",
              "      <td>No</td>\n",
              "      <td>Known</td>\n",
              "      <td>Yes</td>\n",
              "      <td>Yes</td>\n",
              "      <td>No</td>\n",
              "      <td>No</td>\n",
              "      <td>No</td>\n",
              "      <td>Yes</td>\n",
              "      <td>0</td>\n",
              "      <td>0</td>\n",
              "      <td>Yes</td>\n",
              "      <td>No</td>\n",
              "      <td>0</td>\n",
              "      <td>6</td>\n",
              "      <td>No</td>\n",
              "      <td>0</td>\n",
              "      <td>10</td>\n",
              "      <td>No</td>\n",
              "      <td>4-Medium</td>\n",
              "      <td>Other</td>\n",
              "      <td>Other</td>\n",
              "      <td>No</td>\n",
              "    </tr>\n",
              "    <tr>\n",
              "      <th>4</th>\n",
              "      <td>3000026</td>\n",
              "      <td>Yes</td>\n",
              "      <td>17.14</td>\n",
              "      <td>0.0</td>\n",
              "      <td>17.0</td>\n",
              "      <td>0.00</td>\n",
              "      <td>0.0</td>\n",
              "      <td>0.0</td>\n",
              "      <td>0.0</td>\n",
              "      <td>-0.2</td>\n",
              "      <td>0.0</td>\n",
              "      <td>0.0</td>\n",
              "      <td>0.0</td>\n",
              "      <td>0.0</td>\n",
              "      <td>0.0</td>\n",
              "      <td>0.0</td>\n",
              "      <td>0.0</td>\n",
              "      <td>0.0</td>\n",
              "      <td>0.0</td>\n",
              "      <td>0.0</td>\n",
              "      <td>0.0</td>\n",
              "      <td>0.0</td>\n",
              "      <td>0.0</td>\n",
              "      <td>53</td>\n",
              "      <td>2</td>\n",
              "      <td>2</td>\n",
              "      <td>OKCTUL918</td>\n",
              "      <td>4.0</td>\n",
              "      <td>3.0</td>\n",
              "      <td>852.0</td>\n",
              "      <td>46.0</td>\n",
              "      <td>54.0</td>\n",
              "      <td>No</td>\n",
              "      <td>No</td>\n",
              "      <td>No</td>\n",
              "      <td>No</td>\n",
              "      <td>No</td>\n",
              "      <td>Known</td>\n",
              "      <td>Yes</td>\n",
              "      <td>Yes</td>\n",
              "      <td>No</td>\n",
              "      <td>No</td>\n",
              "      <td>Yes</td>\n",
              "      <td>Yes</td>\n",
              "      <td>0</td>\n",
              "      <td>0</td>\n",
              "      <td>No</td>\n",
              "      <td>Yes</td>\n",
              "      <td>0</td>\n",
              "      <td>9</td>\n",
              "      <td>No</td>\n",
              "      <td>1</td>\n",
              "      <td>10</td>\n",
              "      <td>No</td>\n",
              "      <td>1-Highest</td>\n",
              "      <td>Other</td>\n",
              "      <td>Professional</td>\n",
              "      <td>Yes</td>\n",
              "    </tr>\n",
              "  </tbody>\n",
              "</table>\n",
              "</div>"
            ],
            "text/plain": [
              "   CustomerID Churn  MonthlyRevenue  ...  PrizmCode    Occupation  MaritalStatus\n",
              "0     3000002   Yes           24.00  ...   Suburban  Professional             No\n",
              "1     3000010   Yes           16.99  ...   Suburban  Professional            Yes\n",
              "2     3000014    No           38.00  ...       Town        Crafts            Yes\n",
              "3     3000022    No           82.28  ...      Other         Other             No\n",
              "4     3000026   Yes           17.14  ...      Other  Professional            Yes\n",
              "\n",
              "[5 rows x 58 columns]"
            ]
          },
          "metadata": {},
          "execution_count": 53
        }
      ]
    },
    {
      "cell_type": "markdown",
      "metadata": {
        "id": "KnH3aZkueUKB"
      },
      "source": [
        "First we will focus on target Feature and convert the same into the numerical column where Yes -> 1 and No -> 0"
      ]
    },
    {
      "cell_type": "code",
      "metadata": {
        "colab": {
          "base_uri": "https://localhost:8080/",
          "height": 284
        },
        "id": "UfmBU9OShq7E",
        "outputId": "fcb71814-42fe-4aec-8629-6160f20e03ae"
      },
      "source": [
        "churn_df=cust_df_train[cust_df_train['Churn']=='Yes']\n",
        "non_churn_df= cust_df_train[cust_df_train['Churn']=='No']\n",
        "\n",
        "churned= cust_df_train[cust_df_train['Churn']=='Yes'].shape[0]\n",
        "notchurned= cust_df_train[cust_df_train['Churn']=='No'].shape[0]\n",
        "\n",
        "print(\"Total Churned customer {} \".format(churned))\n",
        "\n",
        "print('------------------XX--------------XX----------------')\n",
        "\n",
        "slices=[churned,notchurned]\n",
        "labels=['Churned','Not Churned']\n",
        "explode=[0.1,0]\n",
        "\n",
        "colors = sns.color_palette('pastel')[0:5]\n",
        "plt.pie(slices, labels = labels, colors = colors, autopct='%.0f%%')\n",
        "plt.show()\n"
      ],
      "execution_count": 54,
      "outputs": [
        {
          "output_type": "stream",
          "name": "stdout",
          "text": [
            "Total Churned customer 14711 \n",
            "------------------XX--------------XX----------------\n"
          ]
        },
        {
          "output_type": "display_data",
          "data": {
            "image/png": "[encoded data removed]",
            "text/plain": [
              "<Figure size 432x288 with 1 Axes>"
            ]
          },
          "metadata": {}
        }
      ]
    },
    {
      "cell_type": "markdown",
      "metadata": {
        "id": "Ne2Ycea-jSa4"
      },
      "source": [
        "Data is balanced , hence we no need to go with imblanced methods"
      ]
    },
    {
      "cell_type": "code",
      "metadata": {
        "execution": {
          "iopub.execute_input": "2020-09-06T03:42:30.846294Z",
          "iopub.status.busy": "2020-09-06T03:42:30.834837Z",
          "iopub.status.idle": "2020-09-06T03:42:30.981698Z",
          "shell.execute_reply": "2020-09-06T03:42:30.980502Z"
        },
        "papermill": {
          "duration": 0.168896,
          "end_time": "2020-09-06T03:42:30.981900",
          "exception": false,
          "start_time": "2020-09-06T03:42:30.813004",
          "status": "completed"
        },
        "tags": [],
        "id": "V7mpFj3Yah5p"
      },
      "source": [
        "#Churn : Yes:1 , No:0\n",
        "Churn = {'Yes': 1,'No': 0} \n",
        "  \n",
        "# traversing through dataframe \n",
        "# values where key matches \n",
        "cust_df_train.Churn = [Churn[item] for item in cust_df_train.Churn] \n"
      ],
      "execution_count": 55,
      "outputs": []
    },
    {
      "cell_type": "markdown",
      "metadata": {
        "id": "puYEYHfygAks"
      },
      "source": [
        "Pretty Good !! We have changed Churn categorical value to numerical column or binary values"
      ]
    },
    {
      "cell_type": "code",
      "metadata": {
        "colab": {
          "base_uri": "https://localhost:8080/",
          "height": 224
        },
        "id": "h-RJAbl-ghah",
        "outputId": "8941abc7-1334-425d-9f84-1397f795ce04"
      },
      "source": [
        "cust_df_train.head()"
      ],
      "execution_count": 56,
      "outputs": [
        {
          "output_type": "execute_result",
          "data": {
            "text/html": [
              "<div>\n",
              "<style scoped>\n",
              "    .dataframe tbody tr th:only-of-type {\n",
              "        vertical-align: middle;\n",
              "    }\n",
              "\n",
              "    .dataframe tbody tr th {\n",
              "        vertical-align: top;\n",
              "    }\n",
              "\n",
              "    .dataframe thead th {\n",
              "        text-align: right;\n",
              "    }\n",
              "</style>\n",
              "<table border=\"1\" class=\"dataframe\">\n",
              "  <thead>\n",
              "    <tr style=\"text-align: right;\">\n",
              "      <th></th>\n",
              "      <th>CustomerID</th>\n",
              "      <th>Churn</th>\n",
              "      <th>MonthlyRevenue</th>\n",
              "      <th>MonthlyMinutes</th>\n",
              "      <th>TotalRecurringCharge</th>\n",
              "      <th>DirectorAssistedCalls</th>\n",
              "      <th>OverageMinutes</th>\n",
              "      <th>RoamingCalls</th>\n",
              "      <th>PercChangeMinutes</th>\n",
              "      <th>PercChangeRevenues</th>\n",
              "      <th>DroppedCalls</th>\n",
              "      <th>BlockedCalls</th>\n",
              "      <th>UnansweredCalls</th>\n",
              "      <th>CustomerCareCalls</th>\n",
              "      <th>ThreewayCalls</th>\n",
              "      <th>ReceivedCalls</th>\n",
              "      <th>OutboundCalls</th>\n",
              "      <th>InboundCalls</th>\n",
              "      <th>PeakCallsInOut</th>\n",
              "      <th>OffPeakCallsInOut</th>\n",
              "      <th>DroppedBlockedCalls</th>\n",
              "      <th>CallForwardingCalls</th>\n",
              "      <th>CallWaitingCalls</th>\n",
              "      <th>MonthsInService</th>\n",
              "      <th>UniqueSubs</th>\n",
              "      <th>ActiveSubs</th>\n",
              "      <th>ServiceArea</th>\n",
              "      <th>Handsets</th>\n",
              "      <th>HandsetModels</th>\n",
              "      <th>CurrentEquipmentDays</th>\n",
              "      <th>AgeHH1</th>\n",
              "      <th>AgeHH2</th>\n",
              "      <th>ChildrenInHH</th>\n",
              "      <th>HandsetRefurbished</th>\n",
              "      <th>HandsetWebCapable</th>\n",
              "      <th>TruckOwner</th>\n",
              "      <th>RVOwner</th>\n",
              "      <th>Homeownership</th>\n",
              "      <th>BuysViaMailOrder</th>\n",
              "      <th>RespondsToMailOffers</th>\n",
              "      <th>OptOutMailings</th>\n",
              "      <th>NonUSTravel</th>\n",
              "      <th>OwnsComputer</th>\n",
              "      <th>HasCreditCard</th>\n",
              "      <th>RetentionCalls</th>\n",
              "      <th>RetentionOffersAccepted</th>\n",
              "      <th>NewCellphoneUser</th>\n",
              "      <th>NotNewCellphoneUser</th>\n",
              "      <th>ReferralsMadeBySubscriber</th>\n",
              "      <th>IncomeGroup</th>\n",
              "      <th>OwnsMotorcycle</th>\n",
              "      <th>AdjustmentsToCreditRating</th>\n",
              "      <th>HandsetPrice</th>\n",
              "      <th>MadeCallToRetentionTeam</th>\n",
              "      <th>CreditRating</th>\n",
              "      <th>PrizmCode</th>\n",
              "      <th>Occupation</th>\n",
              "      <th>MaritalStatus</th>\n",
              "    </tr>\n",
              "  </thead>\n",
              "  <tbody>\n",
              "    <tr>\n",
              "      <th>0</th>\n",
              "      <td>3000002</td>\n",
              "      <td>1</td>\n",
              "      <td>24.00</td>\n",
              "      <td>219.0</td>\n",
              "      <td>22.0</td>\n",
              "      <td>0.25</td>\n",
              "      <td>0.0</td>\n",
              "      <td>0.0</td>\n",
              "      <td>-157.0</td>\n",
              "      <td>-19.0</td>\n",
              "      <td>0.7</td>\n",
              "      <td>0.7</td>\n",
              "      <td>6.3</td>\n",
              "      <td>0.0</td>\n",
              "      <td>0.0</td>\n",
              "      <td>97.2</td>\n",
              "      <td>0.0</td>\n",
              "      <td>0.0</td>\n",
              "      <td>58.0</td>\n",
              "      <td>24.0</td>\n",
              "      <td>1.3</td>\n",
              "      <td>0.0</td>\n",
              "      <td>0.3</td>\n",
              "      <td>61</td>\n",
              "      <td>2</td>\n",
              "      <td>1</td>\n",
              "      <td>SEAPOR503</td>\n",
              "      <td>2.0</td>\n",
              "      <td>2.0</td>\n",
              "      <td>361.0</td>\n",
              "      <td>62.0</td>\n",
              "      <td>0.0</td>\n",
              "      <td>No</td>\n",
              "      <td>No</td>\n",
              "      <td>Yes</td>\n",
              "      <td>No</td>\n",
              "      <td>No</td>\n",
              "      <td>Known</td>\n",
              "      <td>Yes</td>\n",
              "      <td>Yes</td>\n",
              "      <td>No</td>\n",
              "      <td>No</td>\n",
              "      <td>Yes</td>\n",
              "      <td>Yes</td>\n",
              "      <td>1</td>\n",
              "      <td>0</td>\n",
              "      <td>No</td>\n",
              "      <td>No</td>\n",
              "      <td>0</td>\n",
              "      <td>4</td>\n",
              "      <td>No</td>\n",
              "      <td>0</td>\n",
              "      <td>30</td>\n",
              "      <td>Yes</td>\n",
              "      <td>1-Highest</td>\n",
              "      <td>Suburban</td>\n",
              "      <td>Professional</td>\n",
              "      <td>No</td>\n",
              "    </tr>\n",
              "    <tr>\n",
              "      <th>1</th>\n",
              "      <td>3000010</td>\n",
              "      <td>1</td>\n",
              "      <td>16.99</td>\n",
              "      <td>10.0</td>\n",
              "      <td>17.0</td>\n",
              "      <td>0.00</td>\n",
              "      <td>0.0</td>\n",
              "      <td>0.0</td>\n",
              "      <td>-4.0</td>\n",
              "      <td>0.0</td>\n",
              "      <td>0.3</td>\n",
              "      <td>0.0</td>\n",
              "      <td>2.7</td>\n",
              "      <td>0.0</td>\n",
              "      <td>0.0</td>\n",
              "      <td>0.0</td>\n",
              "      <td>0.0</td>\n",
              "      <td>0.0</td>\n",
              "      <td>5.0</td>\n",
              "      <td>1.0</td>\n",
              "      <td>0.3</td>\n",
              "      <td>0.0</td>\n",
              "      <td>0.0</td>\n",
              "      <td>58</td>\n",
              "      <td>1</td>\n",
              "      <td>1</td>\n",
              "      <td>PITHOM412</td>\n",
              "      <td>2.0</td>\n",
              "      <td>1.0</td>\n",
              "      <td>1504.0</td>\n",
              "      <td>40.0</td>\n",
              "      <td>42.0</td>\n",
              "      <td>Yes</td>\n",
              "      <td>No</td>\n",
              "      <td>No</td>\n",
              "      <td>No</td>\n",
              "      <td>No</td>\n",
              "      <td>Known</td>\n",
              "      <td>Yes</td>\n",
              "      <td>Yes</td>\n",
              "      <td>No</td>\n",
              "      <td>No</td>\n",
              "      <td>Yes</td>\n",
              "      <td>Yes</td>\n",
              "      <td>0</td>\n",
              "      <td>0</td>\n",
              "      <td>Yes</td>\n",
              "      <td>No</td>\n",
              "      <td>0</td>\n",
              "      <td>5</td>\n",
              "      <td>No</td>\n",
              "      <td>0</td>\n",
              "      <td>30</td>\n",
              "      <td>No</td>\n",
              "      <td>4-Medium</td>\n",
              "      <td>Suburban</td>\n",
              "      <td>Professional</td>\n",
              "      <td>Yes</td>\n",
              "    </tr>\n",
              "    <tr>\n",
              "      <th>2</th>\n",
              "      <td>3000014</td>\n",
              "      <td>0</td>\n",
              "      <td>38.00</td>\n",
              "      <td>8.0</td>\n",
              "      <td>38.0</td>\n",
              "      <td>0.00</td>\n",
              "      <td>0.0</td>\n",
              "      <td>0.0</td>\n",
              "      <td>-2.0</td>\n",
              "      <td>0.0</td>\n",
              "      <td>0.0</td>\n",
              "      <td>0.0</td>\n",
              "      <td>0.0</td>\n",
              "      <td>0.0</td>\n",
              "      <td>0.0</td>\n",
              "      <td>0.4</td>\n",
              "      <td>0.3</td>\n",
              "      <td>0.0</td>\n",
              "      <td>1.3</td>\n",
              "      <td>3.7</td>\n",
              "      <td>0.0</td>\n",
              "      <td>0.0</td>\n",
              "      <td>0.0</td>\n",
              "      <td>60</td>\n",
              "      <td>1</td>\n",
              "      <td>1</td>\n",
              "      <td>MILMIL414</td>\n",
              "      <td>1.0</td>\n",
              "      <td>1.0</td>\n",
              "      <td>1812.0</td>\n",
              "      <td>26.0</td>\n",
              "      <td>26.0</td>\n",
              "      <td>Yes</td>\n",
              "      <td>No</td>\n",
              "      <td>No</td>\n",
              "      <td>No</td>\n",
              "      <td>No</td>\n",
              "      <td>Unknown</td>\n",
              "      <td>No</td>\n",
              "      <td>No</td>\n",
              "      <td>No</td>\n",
              "      <td>No</td>\n",
              "      <td>No</td>\n",
              "      <td>Yes</td>\n",
              "      <td>0</td>\n",
              "      <td>0</td>\n",
              "      <td>Yes</td>\n",
              "      <td>No</td>\n",
              "      <td>0</td>\n",
              "      <td>6</td>\n",
              "      <td>No</td>\n",
              "      <td>0</td>\n",
              "      <td>Unknown</td>\n",
              "      <td>No</td>\n",
              "      <td>3-Good</td>\n",
              "      <td>Town</td>\n",
              "      <td>Crafts</td>\n",
              "      <td>Yes</td>\n",
              "    </tr>\n",
              "    <tr>\n",
              "      <th>3</th>\n",
              "      <td>3000022</td>\n",
              "      <td>0</td>\n",
              "      <td>82.28</td>\n",
              "      <td>1312.0</td>\n",
              "      <td>75.0</td>\n",
              "      <td>1.24</td>\n",
              "      <td>0.0</td>\n",
              "      <td>0.0</td>\n",
              "      <td>157.0</td>\n",
              "      <td>8.1</td>\n",
              "      <td>52.0</td>\n",
              "      <td>7.7</td>\n",
              "      <td>76.0</td>\n",
              "      <td>4.3</td>\n",
              "      <td>1.3</td>\n",
              "      <td>200.3</td>\n",
              "      <td>370.3</td>\n",
              "      <td>147.0</td>\n",
              "      <td>555.7</td>\n",
              "      <td>303.7</td>\n",
              "      <td>59.7</td>\n",
              "      <td>0.0</td>\n",
              "      <td>22.7</td>\n",
              "      <td>59</td>\n",
              "      <td>2</td>\n",
              "      <td>2</td>\n",
              "      <td>PITHOM412</td>\n",
              "      <td>9.0</td>\n",
              "      <td>4.0</td>\n",
              "      <td>458.0</td>\n",
              "      <td>30.0</td>\n",
              "      <td>0.0</td>\n",
              "      <td>No</td>\n",
              "      <td>No</td>\n",
              "      <td>Yes</td>\n",
              "      <td>No</td>\n",
              "      <td>No</td>\n",
              "      <td>Known</td>\n",
              "      <td>Yes</td>\n",
              "      <td>Yes</td>\n",
              "      <td>No</td>\n",
              "      <td>No</td>\n",
              "      <td>No</td>\n",
              "      <td>Yes</td>\n",
              "      <td>0</td>\n",
              "      <td>0</td>\n",
              "      <td>Yes</td>\n",
              "      <td>No</td>\n",
              "      <td>0</td>\n",
              "      <td>6</td>\n",
              "      <td>No</td>\n",
              "      <td>0</td>\n",
              "      <td>10</td>\n",
              "      <td>No</td>\n",
              "      <td>4-Medium</td>\n",
              "      <td>Other</td>\n",
              "      <td>Other</td>\n",
              "      <td>No</td>\n",
              "    </tr>\n",
              "    <tr>\n",
              "      <th>4</th>\n",
              "      <td>3000026</td>\n",
              "      <td>1</td>\n",
              "      <td>17.14</td>\n",
              "      <td>0.0</td>\n",
              "      <td>17.0</td>\n",
              "      <td>0.00</td>\n",
              "      <td>0.0</td>\n",
              "      <td>0.0</td>\n",
              "      <td>0.0</td>\n",
              "      <td>-0.2</td>\n",
              "      <td>0.0</td>\n",
              "      <td>0.0</td>\n",
              "      <td>0.0</td>\n",
              "      <td>0.0</td>\n",
              "      <td>0.0</td>\n",
              "      <td>0.0</td>\n",
              "      <td>0.0</td>\n",
              "      <td>0.0</td>\n",
              "      <td>0.0</td>\n",
              "      <td>0.0</td>\n",
              "      <td>0.0</td>\n",
              "      <td>0.0</td>\n",
              "      <td>0.0</td>\n",
              "      <td>53</td>\n",
              "      <td>2</td>\n",
              "      <td>2</td>\n",
              "      <td>OKCTUL918</td>\n",
              "      <td>4.0</td>\n",
              "      <td>3.0</td>\n",
              "      <td>852.0</td>\n",
              "      <td>46.0</td>\n",
              "      <td>54.0</td>\n",
              "      <td>No</td>\n",
              "      <td>No</td>\n",
              "      <td>No</td>\n",
              "      <td>No</td>\n",
              "      <td>No</td>\n",
              "      <td>Known</td>\n",
              "      <td>Yes</td>\n",
              "      <td>Yes</td>\n",
              "      <td>No</td>\n",
              "      <td>No</td>\n",
              "      <td>Yes</td>\n",
              "      <td>Yes</td>\n",
              "      <td>0</td>\n",
              "      <td>0</td>\n",
              "      <td>No</td>\n",
              "      <td>Yes</td>\n",
              "      <td>0</td>\n",
              "      <td>9</td>\n",
              "      <td>No</td>\n",
              "      <td>1</td>\n",
              "      <td>10</td>\n",
              "      <td>No</td>\n",
              "      <td>1-Highest</td>\n",
              "      <td>Other</td>\n",
              "      <td>Professional</td>\n",
              "      <td>Yes</td>\n",
              "    </tr>\n",
              "  </tbody>\n",
              "</table>\n",
              "</div>"
            ],
            "text/plain": [
              "   CustomerID  Churn  MonthlyRevenue  ...  PrizmCode    Occupation  MaritalStatus\n",
              "0     3000002      1           24.00  ...   Suburban  Professional             No\n",
              "1     3000010      1           16.99  ...   Suburban  Professional            Yes\n",
              "2     3000014      0           38.00  ...       Town        Crafts            Yes\n",
              "3     3000022      0           82.28  ...      Other         Other             No\n",
              "4     3000026      1           17.14  ...      Other  Professional            Yes\n",
              "\n",
              "[5 rows x 58 columns]"
            ]
          },
          "metadata": {},
          "execution_count": 56
        }
      ]
    },
    {
      "cell_type": "markdown",
      "metadata": {
        "id": "Ui9ZHqAsgQQy"
      },
      "source": [
        "# **Q1. Detect and resolve problems in the data (Missing value, Outliers, Unexpected value, etc.)**"
      ]
    },
    {
      "cell_type": "markdown",
      "metadata": {
        "papermill": {
          "duration": 0.012343,
          "end_time": "2020-09-06T03:42:31.007563",
          "exception": false,
          "start_time": "2020-09-06T03:42:30.995220",
          "status": "completed"
        },
        "tags": [],
        "id": "EdyF3ebLah5q"
      },
      "source": [
        "### **Handling missing data**"
      ]
    },
    {
      "cell_type": "markdown",
      "metadata": {
        "papermill": {
          "duration": 0.012891,
          "end_time": "2020-09-06T03:42:31.033310",
          "exception": false,
          "start_time": "2020-09-06T03:42:31.020419",
          "status": "completed"
        },
        "tags": [],
        "id": "ytRBPkK2ah5r"
      },
      "source": [
        "Some might quibble over our usage of missing. By “missing” we simply mean NA (“not available”) or “not present for whatever reason”. Many data sets simply arrive with missing data, either because it exists and was not collected or it never existed.\n",
        "\n"
      ]
    },
    {
      "cell_type": "code",
      "metadata": {
        "execution": {
          "iopub.execute_input": "2020-09-06T03:42:31.066983Z",
          "iopub.status.busy": "2020-09-06T03:42:31.066028Z",
          "iopub.status.idle": "2020-09-06T03:42:31.254088Z",
          "shell.execute_reply": "2020-09-06T03:42:31.253012Z"
        },
        "papermill": {
          "duration": 0.20809,
          "end_time": "2020-09-06T03:42:31.254261",
          "exception": false,
          "start_time": "2020-09-06T03:42:31.046171",
          "status": "completed"
        },
        "tags": [],
        "colab": {
          "base_uri": "https://localhost:8080/"
        },
        "id": "Wr8HbkNfah5r",
        "outputId": "f4dc6a49-b025-498c-cfe1-a71afd8af8f5"
      },
      "source": [
        "print(\"Any missing sample in training set:\",cust_df_train.isnull().values.any())\n",
        "print(\"Any missing sample in test set:\",cust_df_test.isnull().values.any(), \"\\n\")"
      ],
      "execution_count": 57,
      "outputs": [
        {
          "output_type": "stream",
          "name": "stdout",
          "text": [
            "Any missing sample in training set: True\n",
            "Any missing sample in test set: True \n",
            "\n"
          ]
        }
      ]
    },
    {
      "cell_type": "markdown",
      "metadata": {
        "papermill": {
          "duration": 0.017809,
          "end_time": "2020-09-06T03:42:31.290977",
          "exception": false,
          "start_time": "2020-09-06T03:42:31.273168",
          "status": "completed"
        },
        "tags": [],
        "id": "i6B2b1qLah5r"
      },
      "source": [
        "Here we handling missing value filled by zero rather than dropping NA values. Another technique of handling missing value in addition to filled by a single number like zero, or it might be some sort of imputation or interpolation from the good values. You could do this in-place using the isnull() method as a mask, but because it is such a common operation Pandas provides the fillna() method, which returns a copy of the array with the null values replaced."
      ]
    },
    {
      "cell_type": "markdown",
      "metadata": {
        "id": "w3h7-O-2g9KZ"
      },
      "source": [
        "#### Q1.1 How many customers had zero monthly revenue?"
      ]
    },
    {
      "cell_type": "code",
      "metadata": {
        "colab": {
          "base_uri": "https://localhost:8080/"
        },
        "id": "9ZMRKIwfib5a",
        "outputId": "c0cf846c-ea65-4a4c-b355-7ae9e10c957d"
      },
      "source": [
        "len(cust_df_train[cust_df_train['MonthlyRevenue']==0].index)"
      ],
      "execution_count": 58,
      "outputs": [
        {
          "output_type": "execute_result",
          "data": {
            "text/plain": [
              "6"
            ]
          },
          "metadata": {},
          "execution_count": 58
        }
      ]
    },
    {
      "cell_type": "markdown",
      "metadata": {
        "id": "dw1aMBcqkyzO"
      },
      "source": [
        "#### **Q1.2 How many columns has missing values percentage > 5%**\n",
        "#### *Handling Missing Values**"
      ]
    },
    {
      "cell_type": "code",
      "metadata": {
        "colab": {
          "base_uri": "https://localhost:8080/"
        },
        "id": "KO6POxE-ht60",
        "outputId": "cf69c852-29d9-40e5-8030-fcebddf4b975"
      },
      "source": [
        "cust_df_train.isna().sum()"
      ],
      "execution_count": 59,
      "outputs": [
        {
          "output_type": "execute_result",
          "data": {
            "text/plain": [
              "CustomerID                     0\n",
              "Churn                          0\n",
              "MonthlyRevenue               156\n",
              "MonthlyMinutes               156\n",
              "TotalRecurringCharge         156\n",
              "DirectorAssistedCalls        156\n",
              "OverageMinutes               156\n",
              "RoamingCalls                 156\n",
              "PercChangeMinutes            367\n",
              "PercChangeRevenues           367\n",
              "DroppedCalls                   0\n",
              "BlockedCalls                   0\n",
              "UnansweredCalls                0\n",
              "CustomerCareCalls              0\n",
              "ThreewayCalls                  0\n",
              "ReceivedCalls                  0\n",
              "OutboundCalls                  0\n",
              "InboundCalls                   0\n",
              "PeakCallsInOut                 0\n",
              "OffPeakCallsInOut              0\n",
              "DroppedBlockedCalls            0\n",
              "CallForwardingCalls            0\n",
              "CallWaitingCalls               0\n",
              "MonthsInService                0\n",
              "UniqueSubs                     0\n",
              "ActiveSubs                     0\n",
              "ServiceArea                   24\n",
              "Handsets                       1\n",
              "HandsetModels                  1\n",
              "CurrentEquipmentDays           1\n",
              "AgeHH1                       909\n",
              "AgeHH2                       909\n",
              "ChildrenInHH                   0\n",
              "HandsetRefurbished             0\n",
              "HandsetWebCapable              0\n",
              "TruckOwner                     0\n",
              "RVOwner                        0\n",
              "Homeownership                  0\n",
              "BuysViaMailOrder               0\n",
              "RespondsToMailOffers           0\n",
              "OptOutMailings                 0\n",
              "NonUSTravel                    0\n",
              "OwnsComputer                   0\n",
              "HasCreditCard                  0\n",
              "RetentionCalls                 0\n",
              "RetentionOffersAccepted        0\n",
              "NewCellphoneUser               0\n",
              "NotNewCellphoneUser            0\n",
              "ReferralsMadeBySubscriber      0\n",
              "IncomeGroup                    0\n",
              "OwnsMotorcycle                 0\n",
              "AdjustmentsToCreditRating      0\n",
              "HandsetPrice                   0\n",
              "MadeCallToRetentionTeam        0\n",
              "CreditRating                   0\n",
              "PrizmCode                      0\n",
              "Occupation                     0\n",
              "MaritalStatus                  0\n",
              "dtype: int64"
            ]
          },
          "metadata": {},
          "execution_count": 59
        }
      ]
    },
    {
      "cell_type": "code",
      "metadata": {
        "colab": {
          "base_uri": "https://localhost:8080/",
          "height": 1000
        },
        "id": "iA7IIzODm7gU",
        "outputId": "fddfe2fe-58af-408d-ef52-dce39157d612"
      },
      "source": [
        "total = cust_df_train.isnull().sum().sort_values(ascending=False)\n",
        "percent = (cust_df_train.isnull().sum()/cust_df_train.isnull().count()).sort_values(ascending=False)\n",
        "missing_data = pd.concat([total, percent], axis=1, keys=['Total', 'Percent'])\n",
        "missing_data.head(40)"
      ],
      "execution_count": 60,
      "outputs": [
        {
          "output_type": "execute_result",
          "data": {
            "text/html": [
              "<div>\n",
              "<style scoped>\n",
              "    .dataframe tbody tr th:only-of-type {\n",
              "        vertical-align: middle;\n",
              "    }\n",
              "\n",
              "    .dataframe tbody tr th {\n",
              "        vertical-align: top;\n",
              "    }\n",
              "\n",
              "    .dataframe thead th {\n",
              "        text-align: right;\n",
              "    }\n",
              "</style>\n",
              "<table border=\"1\" class=\"dataframe\">\n",
              "  <thead>\n",
              "    <tr style=\"text-align: right;\">\n",
              "      <th></th>\n",
              "      <th>Total</th>\n",
              "      <th>Percent</th>\n",
              "    </tr>\n",
              "  </thead>\n",
              "  <tbody>\n",
              "    <tr>\n",
              "      <th>AgeHH1</th>\n",
              "      <td>909</td>\n",
              "      <td>0.017807</td>\n",
              "    </tr>\n",
              "    <tr>\n",
              "      <th>AgeHH2</th>\n",
              "      <td>909</td>\n",
              "      <td>0.017807</td>\n",
              "    </tr>\n",
              "    <tr>\n",
              "      <th>PercChangeMinutes</th>\n",
              "      <td>367</td>\n",
              "      <td>0.007189</td>\n",
              "    </tr>\n",
              "    <tr>\n",
              "      <th>PercChangeRevenues</th>\n",
              "      <td>367</td>\n",
              "      <td>0.007189</td>\n",
              "    </tr>\n",
              "    <tr>\n",
              "      <th>MonthlyRevenue</th>\n",
              "      <td>156</td>\n",
              "      <td>0.003056</td>\n",
              "    </tr>\n",
              "    <tr>\n",
              "      <th>MonthlyMinutes</th>\n",
              "      <td>156</td>\n",
              "      <td>0.003056</td>\n",
              "    </tr>\n",
              "    <tr>\n",
              "      <th>TotalRecurringCharge</th>\n",
              "      <td>156</td>\n",
              "      <td>0.003056</td>\n",
              "    </tr>\n",
              "    <tr>\n",
              "      <th>DirectorAssistedCalls</th>\n",
              "      <td>156</td>\n",
              "      <td>0.003056</td>\n",
              "    </tr>\n",
              "    <tr>\n",
              "      <th>OverageMinutes</th>\n",
              "      <td>156</td>\n",
              "      <td>0.003056</td>\n",
              "    </tr>\n",
              "    <tr>\n",
              "      <th>RoamingCalls</th>\n",
              "      <td>156</td>\n",
              "      <td>0.003056</td>\n",
              "    </tr>\n",
              "    <tr>\n",
              "      <th>ServiceArea</th>\n",
              "      <td>24</td>\n",
              "      <td>0.000470</td>\n",
              "    </tr>\n",
              "    <tr>\n",
              "      <th>HandsetModels</th>\n",
              "      <td>1</td>\n",
              "      <td>0.000020</td>\n",
              "    </tr>\n",
              "    <tr>\n",
              "      <th>CurrentEquipmentDays</th>\n",
              "      <td>1</td>\n",
              "      <td>0.000020</td>\n",
              "    </tr>\n",
              "    <tr>\n",
              "      <th>Handsets</th>\n",
              "      <td>1</td>\n",
              "      <td>0.000020</td>\n",
              "    </tr>\n",
              "    <tr>\n",
              "      <th>CustomerCareCalls</th>\n",
              "      <td>0</td>\n",
              "      <td>0.000000</td>\n",
              "    </tr>\n",
              "    <tr>\n",
              "      <th>CallWaitingCalls</th>\n",
              "      <td>0</td>\n",
              "      <td>0.000000</td>\n",
              "    </tr>\n",
              "    <tr>\n",
              "      <th>ActiveSubs</th>\n",
              "      <td>0</td>\n",
              "      <td>0.000000</td>\n",
              "    </tr>\n",
              "    <tr>\n",
              "      <th>Churn</th>\n",
              "      <td>0</td>\n",
              "      <td>0.000000</td>\n",
              "    </tr>\n",
              "    <tr>\n",
              "      <th>DroppedCalls</th>\n",
              "      <td>0</td>\n",
              "      <td>0.000000</td>\n",
              "    </tr>\n",
              "    <tr>\n",
              "      <th>BlockedCalls</th>\n",
              "      <td>0</td>\n",
              "      <td>0.000000</td>\n",
              "    </tr>\n",
              "    <tr>\n",
              "      <th>UniqueSubs</th>\n",
              "      <td>0</td>\n",
              "      <td>0.000000</td>\n",
              "    </tr>\n",
              "    <tr>\n",
              "      <th>MonthsInService</th>\n",
              "      <td>0</td>\n",
              "      <td>0.000000</td>\n",
              "    </tr>\n",
              "    <tr>\n",
              "      <th>CallForwardingCalls</th>\n",
              "      <td>0</td>\n",
              "      <td>0.000000</td>\n",
              "    </tr>\n",
              "    <tr>\n",
              "      <th>UnansweredCalls</th>\n",
              "      <td>0</td>\n",
              "      <td>0.000000</td>\n",
              "    </tr>\n",
              "    <tr>\n",
              "      <th>DroppedBlockedCalls</th>\n",
              "      <td>0</td>\n",
              "      <td>0.000000</td>\n",
              "    </tr>\n",
              "    <tr>\n",
              "      <th>OffPeakCallsInOut</th>\n",
              "      <td>0</td>\n",
              "      <td>0.000000</td>\n",
              "    </tr>\n",
              "    <tr>\n",
              "      <th>PeakCallsInOut</th>\n",
              "      <td>0</td>\n",
              "      <td>0.000000</td>\n",
              "    </tr>\n",
              "    <tr>\n",
              "      <th>InboundCalls</th>\n",
              "      <td>0</td>\n",
              "      <td>0.000000</td>\n",
              "    </tr>\n",
              "    <tr>\n",
              "      <th>OutboundCalls</th>\n",
              "      <td>0</td>\n",
              "      <td>0.000000</td>\n",
              "    </tr>\n",
              "    <tr>\n",
              "      <th>ReceivedCalls</th>\n",
              "      <td>0</td>\n",
              "      <td>0.000000</td>\n",
              "    </tr>\n",
              "    <tr>\n",
              "      <th>ThreewayCalls</th>\n",
              "      <td>0</td>\n",
              "      <td>0.000000</td>\n",
              "    </tr>\n",
              "    <tr>\n",
              "      <th>MaritalStatus</th>\n",
              "      <td>0</td>\n",
              "      <td>0.000000</td>\n",
              "    </tr>\n",
              "    <tr>\n",
              "      <th>Occupation</th>\n",
              "      <td>0</td>\n",
              "      <td>0.000000</td>\n",
              "    </tr>\n",
              "    <tr>\n",
              "      <th>ChildrenInHH</th>\n",
              "      <td>0</td>\n",
              "      <td>0.000000</td>\n",
              "    </tr>\n",
              "    <tr>\n",
              "      <th>PrizmCode</th>\n",
              "      <td>0</td>\n",
              "      <td>0.000000</td>\n",
              "    </tr>\n",
              "    <tr>\n",
              "      <th>CreditRating</th>\n",
              "      <td>0</td>\n",
              "      <td>0.000000</td>\n",
              "    </tr>\n",
              "    <tr>\n",
              "      <th>MadeCallToRetentionTeam</th>\n",
              "      <td>0</td>\n",
              "      <td>0.000000</td>\n",
              "    </tr>\n",
              "    <tr>\n",
              "      <th>HandsetPrice</th>\n",
              "      <td>0</td>\n",
              "      <td>0.000000</td>\n",
              "    </tr>\n",
              "    <tr>\n",
              "      <th>AdjustmentsToCreditRating</th>\n",
              "      <td>0</td>\n",
              "      <td>0.000000</td>\n",
              "    </tr>\n",
              "    <tr>\n",
              "      <th>OwnsMotorcycle</th>\n",
              "      <td>0</td>\n",
              "      <td>0.000000</td>\n",
              "    </tr>\n",
              "  </tbody>\n",
              "</table>\n",
              "</div>"
            ],
            "text/plain": [
              "                           Total   Percent\n",
              "AgeHH1                       909  0.017807\n",
              "AgeHH2                       909  0.017807\n",
              "PercChangeMinutes            367  0.007189\n",
              "PercChangeRevenues           367  0.007189\n",
              "MonthlyRevenue               156  0.003056\n",
              "MonthlyMinutes               156  0.003056\n",
              "TotalRecurringCharge         156  0.003056\n",
              "DirectorAssistedCalls        156  0.003056\n",
              "OverageMinutes               156  0.003056\n",
              "RoamingCalls                 156  0.003056\n",
              "ServiceArea                   24  0.000470\n",
              "HandsetModels                  1  0.000020\n",
              "CurrentEquipmentDays           1  0.000020\n",
              "Handsets                       1  0.000020\n",
              "CustomerCareCalls              0  0.000000\n",
              "CallWaitingCalls               0  0.000000\n",
              "ActiveSubs                     0  0.000000\n",
              "Churn                          0  0.000000\n",
              "DroppedCalls                   0  0.000000\n",
              "BlockedCalls                   0  0.000000\n",
              "UniqueSubs                     0  0.000000\n",
              "MonthsInService                0  0.000000\n",
              "CallForwardingCalls            0  0.000000\n",
              "UnansweredCalls                0  0.000000\n",
              "DroppedBlockedCalls            0  0.000000\n",
              "OffPeakCallsInOut              0  0.000000\n",
              "PeakCallsInOut                 0  0.000000\n",
              "InboundCalls                   0  0.000000\n",
              "OutboundCalls                  0  0.000000\n",
              "ReceivedCalls                  0  0.000000\n",
              "ThreewayCalls                  0  0.000000\n",
              "MaritalStatus                  0  0.000000\n",
              "Occupation                     0  0.000000\n",
              "ChildrenInHH                   0  0.000000\n",
              "PrizmCode                      0  0.000000\n",
              "CreditRating                   0  0.000000\n",
              "MadeCallToRetentionTeam        0  0.000000\n",
              "HandsetPrice                   0  0.000000\n",
              "AdjustmentsToCreditRating      0  0.000000\n",
              "OwnsMotorcycle                 0  0.000000"
            ]
          },
          "metadata": {},
          "execution_count": 60
        }
      ]
    },
    {
      "cell_type": "markdown",
      "metadata": {
        "id": "JKaKpMwInX0e"
      },
      "source": [
        "Below Features have less than 5% missing values\n",
        "- AgeHH1\n",
        "- AgeHH2\n",
        "- PercChangeMinutes\n",
        "- PercChangeRevenues\n",
        "- MonthlyRevenue\n",
        "- MonthlyMinutes\n",
        "- TotalRecurringCharge\n",
        "- DirectorAssistedCalls\n",
        "- OverageMinutes\n",
        "- RoamingCalls\n",
        "- ServiceArea\t\n",
        "- HandsetModels\t\n",
        "- CurrentEquipmentDays\n",
        "- Handsets"
      ]
    },
    {
      "cell_type": "markdown",
      "metadata": {
        "id": "nx3QR9oJiITG"
      },
      "source": [
        "<mark>__Result:__\n",
        "156 customer has \"NA\" monthly revenue hence we need to take of these null value by replacing the same with \"0\"."
      ]
    },
    {
      "cell_type": "code",
      "metadata": {
        "id": "vYR6t8AFkNFb"
      },
      "source": [
        "# In case of imputation replaced all values with zero, There is no point to apply Median or mean for the below features because of distribution for all of them is far away from the normal disptribution\n",
        "\n",
        "cust_df_train['MonthlyRevenue'] = cust_df_train['MonthlyRevenue'].replace(np.nan, 0)\n",
        "cust_df_train['MonthlyMinutes'] = cust_df_train['MonthlyMinutes'].replace(np.nan, 0)\n",
        "cust_df_train['TotalRecurringCharge'] = cust_df_train['TotalRecurringCharge'].replace(np.nan, 0)\n",
        "cust_df_train['DirectorAssistedCalls'] = cust_df_train['DirectorAssistedCalls'].replace(np.nan, 0)"
      ],
      "execution_count": 61,
      "outputs": []
    },
    {
      "cell_type": "code",
      "metadata": {
        "id": "pjD9F6_QkUnw"
      },
      "source": [
        "cust_df_train = cust_df_train.replace(np.nan, 0)\n",
        "\n",
        "cust_df_train.replace(np.nan, 0, inplace=True)"
      ],
      "execution_count": 62,
      "outputs": []
    },
    {
      "cell_type": "code",
      "metadata": {
        "papermill": {
          "duration": 0.014483,
          "end_time": "2020-09-06T03:42:33.009330",
          "exception": false,
          "start_time": "2020-09-06T03:42:32.994847",
          "status": "completed"
        },
        "tags": [],
        "colab": {
          "base_uri": "https://localhost:8080/"
        },
        "id": "6uXoUdyrah5t",
        "outputId": "2bf934b3-c972-4aec-cc41-e21d02932fbc"
      },
      "source": [
        "print(cust_df_train.isna().sum())\n",
        "\n",
        "print('---------As we can see , All missing values is being handled-------')"
      ],
      "execution_count": 63,
      "outputs": [
        {
          "output_type": "stream",
          "name": "stdout",
          "text": [
            "CustomerID                   0\n",
            "Churn                        0\n",
            "MonthlyRevenue               0\n",
            "MonthlyMinutes               0\n",
            "TotalRecurringCharge         0\n",
            "DirectorAssistedCalls        0\n",
            "OverageMinutes               0\n",
            "RoamingCalls                 0\n",
            "PercChangeMinutes            0\n",
            "PercChangeRevenues           0\n",
            "DroppedCalls                 0\n",
            "BlockedCalls                 0\n",
            "UnansweredCalls              0\n",
            "CustomerCareCalls            0\n",
            "ThreewayCalls                0\n",
            "ReceivedCalls                0\n",
            "OutboundCalls                0\n",
            "InboundCalls                 0\n",
            "PeakCallsInOut               0\n",
            "OffPeakCallsInOut            0\n",
            "DroppedBlockedCalls          0\n",
            "CallForwardingCalls          0\n",
            "CallWaitingCalls             0\n",
            "MonthsInService              0\n",
            "UniqueSubs                   0\n",
            "ActiveSubs                   0\n",
            "ServiceArea                  0\n",
            "Handsets                     0\n",
            "HandsetModels                0\n",
            "CurrentEquipmentDays         0\n",
            "AgeHH1                       0\n",
            "AgeHH2                       0\n",
            "ChildrenInHH                 0\n",
            "HandsetRefurbished           0\n",
            "HandsetWebCapable            0\n",
            "TruckOwner                   0\n",
            "RVOwner                      0\n",
            "Homeownership                0\n",
            "BuysViaMailOrder             0\n",
            "RespondsToMailOffers         0\n",
            "OptOutMailings               0\n",
            "NonUSTravel                  0\n",
            "OwnsComputer                 0\n",
            "HasCreditCard                0\n",
            "RetentionCalls               0\n",
            "RetentionOffersAccepted      0\n",
            "NewCellphoneUser             0\n",
            "NotNewCellphoneUser          0\n",
            "ReferralsMadeBySubscriber    0\n",
            "IncomeGroup                  0\n",
            "OwnsMotorcycle               0\n",
            "AdjustmentsToCreditRating    0\n",
            "HandsetPrice                 0\n",
            "MadeCallToRetentionTeam      0\n",
            "CreditRating                 0\n",
            "PrizmCode                    0\n",
            "Occupation                   0\n",
            "MaritalStatus                0\n",
            "dtype: int64\n",
            "---------As we can see , All missing values is being handled-------\n"
          ]
        }
      ]
    },
    {
      "cell_type": "markdown",
      "metadata": {
        "id": "7RI8Rtk0qbvQ"
      },
      "source": [
        "### Q1.3 For columns, \"UniqueSubs\" and \"DirectorAssistedCalls\" remove outliers, if any"
      ]
    },
    {
      "cell_type": "code",
      "metadata": {
        "colab": {
          "base_uri": "https://localhost:8080/",
          "height": 265
        },
        "id": "2-vhhjWnqXhD",
        "outputId": "1e4236ba-d508-4a70-a8dd-fde73e6c555d"
      },
      "source": [
        "plt.boxplot(cust_df_train[\"UniqueSubs\"])\n",
        "plt.show()"
      ],
      "execution_count": 64,
      "outputs": [
        {
          "output_type": "display_data",
          "data": {
            "image/png": "[encoded data removed]",
            "text/plain": [
              "<Figure size 432x288 with 1 Axes>"
            ]
          },
          "metadata": {
            "needs_background": "light"
          }
        }
      ]
    },
    {
      "cell_type": "code",
      "metadata": {
        "colab": {
          "base_uri": "https://localhost:8080/",
          "height": 265
        },
        "id": "Kh1DkT_grI-m",
        "outputId": "2a32276b-d50c-4385-a00d-332c7c5f42d8"
      },
      "source": [
        "plt.boxplot(cust_df_train[\"DirectorAssistedCalls\"])\n",
        "plt.show()"
      ],
      "execution_count": 65,
      "outputs": [
        {
          "output_type": "display_data",
          "data": {
            "image/png": "[encoded data removed]",
            "text/plain": [
              "<Figure size 432x288 with 1 Axes>"
            ]
          },
          "metadata": {
            "needs_background": "light"
          }
        }
      ]
    },
    {
      "cell_type": "code",
      "metadata": {
        "id": "CsCDJSRXryYb"
      },
      "source": [
        "def remove_outliers(df, q=0.05):\n",
        "    upper = df.quantile(1-q)\n",
        "    lower = df.quantile(q)\n",
        "    mask = (df < upper) & (df > lower)\n",
        "    return mask"
      ],
      "execution_count": 66,
      "outputs": []
    },
    {
      "cell_type": "code",
      "metadata": {
        "id": "lrvR55AzrZU-"
      },
      "source": [
        "cust_df_train[\"UniqueSubs\"] = remove_outliers(cust_df_train['UniqueSubs'])\n",
        "cust_df_train[\"DirectorAssistedCalls\"] = remove_outliers(cust_df_train['DirectorAssistedCalls'])"
      ],
      "execution_count": 67,
      "outputs": []
    },
    {
      "cell_type": "markdown",
      "metadata": {
        "id": "NMfO3Hs5spdu"
      },
      "source": [
        "# Q2. Perform exploratory analysis to analyze customer churn"
      ]
    },
    {
      "cell_type": "markdown",
      "metadata": {
        "id": "XVA30YKqs-Wp"
      },
      "source": [
        "Let's convert categorical columns to numerical columns before further analysis"
      ]
    },
    {
      "cell_type": "code",
      "metadata": {
        "execution": {
          "iopub.execute_input": "2020-09-06T03:42:33.047258Z",
          "iopub.status.busy": "2020-09-06T03:42:33.046084Z",
          "iopub.status.idle": "2020-09-06T03:42:33.049929Z",
          "shell.execute_reply": "2020-09-06T03:42:33.049130Z"
        },
        "papermill": {
          "duration": 0.0262,
          "end_time": "2020-09-06T03:42:33.050063",
          "exception": false,
          "start_time": "2020-09-06T03:42:33.023863",
          "status": "completed"
        },
        "tags": [],
        "id": "QpOPP2YFah5u"
      },
      "source": [
        "from sklearn.preprocessing import LabelEncoder\n",
        "le = LabelEncoder()\n",
        "def FunLabelEncoder(df):\n",
        "    for c in df.columns:\n",
        "        if df.dtypes[c] == object:\n",
        "            le.fit(df[c].astype(str))\n",
        "            df[c] = le.transform(df[c].astype(str))\n",
        "    return df"
      ],
      "execution_count": 68,
      "outputs": []
    },
    {
      "cell_type": "code",
      "metadata": {
        "execution": {
          "iopub.execute_input": "2020-09-06T03:42:33.144391Z",
          "iopub.status.busy": "2020-09-06T03:42:33.092585Z",
          "iopub.status.idle": "2020-09-06T03:42:34.411877Z",
          "shell.execute_reply": "2020-09-06T03:42:34.410976Z"
        },
        "papermill": {
          "duration": 1.347631,
          "end_time": "2020-09-06T03:42:34.412048",
          "exception": false,
          "start_time": "2020-09-06T03:42:33.064417",
          "status": "completed"
        },
        "tags": [],
        "colab": {
          "base_uri": "https://localhost:8080/"
        },
        "id": "UH1S6dNyah5u",
        "outputId": "43f80c44-5edd-4e9f-9151-c70f322a2ae6"
      },
      "source": [
        "# for train dataset\n",
        "cust_df_train = FunLabelEncoder(cust_df_train)\n",
        "cust_df_train.info()\n"
      ],
      "execution_count": 69,
      "outputs": [
        {
          "output_type": "stream",
          "name": "stdout",
          "text": [
            "<class 'pandas.core.frame.DataFrame'>\n",
            "RangeIndex: 51047 entries, 0 to 51046\n",
            "Data columns (total 58 columns):\n",
            " #   Column                     Non-Null Count  Dtype  \n",
            "---  ------                     --------------  -----  \n",
            " 0   CustomerID                 51047 non-null  int64  \n",
            " 1   Churn                      51047 non-null  int64  \n",
            " 2   MonthlyRevenue             51047 non-null  float64\n",
            " 3   MonthlyMinutes             51047 non-null  float64\n",
            " 4   TotalRecurringCharge       51047 non-null  float64\n",
            " 5   DirectorAssistedCalls      51047 non-null  bool   \n",
            " 6   OverageMinutes             51047 non-null  float64\n",
            " 7   RoamingCalls               51047 non-null  float64\n",
            " 8   PercChangeMinutes          51047 non-null  float64\n",
            " 9   PercChangeRevenues         51047 non-null  float64\n",
            " 10  DroppedCalls               51047 non-null  float64\n",
            " 11  BlockedCalls               51047 non-null  float64\n",
            " 12  UnansweredCalls            51047 non-null  float64\n",
            " 13  CustomerCareCalls          51047 non-null  float64\n",
            " 14  ThreewayCalls              51047 non-null  float64\n",
            " 15  ReceivedCalls              51047 non-null  float64\n",
            " 16  OutboundCalls              51047 non-null  float64\n",
            " 17  InboundCalls               51047 non-null  float64\n",
            " 18  PeakCallsInOut             51047 non-null  float64\n",
            " 19  OffPeakCallsInOut          51047 non-null  float64\n",
            " 20  DroppedBlockedCalls        51047 non-null  float64\n",
            " 21  CallForwardingCalls        51047 non-null  float64\n",
            " 22  CallWaitingCalls           51047 non-null  float64\n",
            " 23  MonthsInService            51047 non-null  int64  \n",
            " 24  UniqueSubs                 51047 non-null  bool   \n",
            " 25  ActiveSubs                 51047 non-null  int64  \n",
            " 26  ServiceArea                51047 non-null  int64  \n",
            " 27  Handsets                   51047 non-null  float64\n",
            " 28  HandsetModels              51047 non-null  float64\n",
            " 29  CurrentEquipmentDays       51047 non-null  float64\n",
            " 30  AgeHH1                     51047 non-null  float64\n",
            " 31  AgeHH2                     51047 non-null  float64\n",
            " 32  ChildrenInHH               51047 non-null  int64  \n",
            " 33  HandsetRefurbished         51047 non-null  int64  \n",
            " 34  HandsetWebCapable          51047 non-null  int64  \n",
            " 35  TruckOwner                 51047 non-null  int64  \n",
            " 36  RVOwner                    51047 non-null  int64  \n",
            " 37  Homeownership              51047 non-null  int64  \n",
            " 38  BuysViaMailOrder           51047 non-null  int64  \n",
            " 39  RespondsToMailOffers       51047 non-null  int64  \n",
            " 40  OptOutMailings             51047 non-null  int64  \n",
            " 41  NonUSTravel                51047 non-null  int64  \n",
            " 42  OwnsComputer               51047 non-null  int64  \n",
            " 43  HasCreditCard              51047 non-null  int64  \n",
            " 44  RetentionCalls             51047 non-null  int64  \n",
            " 45  RetentionOffersAccepted    51047 non-null  int64  \n",
            " 46  NewCellphoneUser           51047 non-null  int64  \n",
            " 47  NotNewCellphoneUser        51047 non-null  int64  \n",
            " 48  ReferralsMadeBySubscriber  51047 non-null  int64  \n",
            " 49  IncomeGroup                51047 non-null  int64  \n",
            " 50  OwnsMotorcycle             51047 non-null  int64  \n",
            " 51  AdjustmentsToCreditRating  51047 non-null  int64  \n",
            " 52  HandsetPrice               51047 non-null  int64  \n",
            " 53  MadeCallToRetentionTeam    51047 non-null  int64  \n",
            " 54  CreditRating               51047 non-null  int64  \n",
            " 55  PrizmCode                  51047 non-null  int64  \n",
            " 56  Occupation                 51047 non-null  int64  \n",
            " 57  MaritalStatus              51047 non-null  int64  \n",
            "dtypes: bool(2), float64(25), int64(31)\n",
            "memory usage: 21.9 MB\n"
          ]
        }
      ]
    },
    {
      "cell_type": "code",
      "metadata": {
        "colab": {
          "base_uri": "https://localhost:8080/",
          "height": 224
        },
        "id": "HBNYLEsr1Opa",
        "outputId": "f2261f85-71cc-4670-a6b6-2be96aa2dddc"
      },
      "source": [
        "cust_df_train.head()"
      ],
      "execution_count": 70,
      "outputs": [
        {
          "output_type": "execute_result",
          "data": {
            "text/html": [
              "<div>\n",
              "<style scoped>\n",
              "    .dataframe tbody tr th:only-of-type {\n",
              "        vertical-align: middle;\n",
              "    }\n",
              "\n",
              "    .dataframe tbody tr th {\n",
              "        vertical-align: top;\n",
              "    }\n",
              "\n",
              "    .dataframe thead th {\n",
              "        text-align: right;\n",
              "    }\n",
              "</style>\n",
              "<table border=\"1\" class=\"dataframe\">\n",
              "  <thead>\n",
              "    <tr style=\"text-align: right;\">\n",
              "      <th></th>\n",
              "      <th>CustomerID</th>\n",
              "      <th>Churn</th>\n",
              "      <th>MonthlyRevenue</th>\n",
              "      <th>MonthlyMinutes</th>\n",
              "      <th>TotalRecurringCharge</th>\n",
              "      <th>DirectorAssistedCalls</th>\n",
              "      <th>OverageMinutes</th>\n",
              "      <th>RoamingCalls</th>\n",
              "      <th>PercChangeMinutes</th>\n",
              "      <th>PercChangeRevenues</th>\n",
              "      <th>DroppedCalls</th>\n",
              "      <th>BlockedCalls</th>\n",
              "      <th>UnansweredCalls</th>\n",
              "      <th>CustomerCareCalls</th>\n",
              "      <th>ThreewayCalls</th>\n",
              "      <th>ReceivedCalls</th>\n",
              "      <th>OutboundCalls</th>\n",
              "      <th>InboundCalls</th>\n",
              "      <th>PeakCallsInOut</th>\n",
              "      <th>OffPeakCallsInOut</th>\n",
              "      <th>DroppedBlockedCalls</th>\n",
              "      <th>CallForwardingCalls</th>\n",
              "      <th>CallWaitingCalls</th>\n",
              "      <th>MonthsInService</th>\n",
              "      <th>UniqueSubs</th>\n",
              "      <th>ActiveSubs</th>\n",
              "      <th>ServiceArea</th>\n",
              "      <th>Handsets</th>\n",
              "      <th>HandsetModels</th>\n",
              "      <th>CurrentEquipmentDays</th>\n",
              "      <th>AgeHH1</th>\n",
              "      <th>AgeHH2</th>\n",
              "      <th>ChildrenInHH</th>\n",
              "      <th>HandsetRefurbished</th>\n",
              "      <th>HandsetWebCapable</th>\n",
              "      <th>TruckOwner</th>\n",
              "      <th>RVOwner</th>\n",
              "      <th>Homeownership</th>\n",
              "      <th>BuysViaMailOrder</th>\n",
              "      <th>RespondsToMailOffers</th>\n",
              "      <th>OptOutMailings</th>\n",
              "      <th>NonUSTravel</th>\n",
              "      <th>OwnsComputer</th>\n",
              "      <th>HasCreditCard</th>\n",
              "      <th>RetentionCalls</th>\n",
              "      <th>RetentionOffersAccepted</th>\n",
              "      <th>NewCellphoneUser</th>\n",
              "      <th>NotNewCellphoneUser</th>\n",
              "      <th>ReferralsMadeBySubscriber</th>\n",
              "      <th>IncomeGroup</th>\n",
              "      <th>OwnsMotorcycle</th>\n",
              "      <th>AdjustmentsToCreditRating</th>\n",
              "      <th>HandsetPrice</th>\n",
              "      <th>MadeCallToRetentionTeam</th>\n",
              "      <th>CreditRating</th>\n",
              "      <th>PrizmCode</th>\n",
              "      <th>Occupation</th>\n",
              "      <th>MaritalStatus</th>\n",
              "    </tr>\n",
              "  </thead>\n",
              "  <tbody>\n",
              "    <tr>\n",
              "      <th>0</th>\n",
              "      <td>3000002</td>\n",
              "      <td>1</td>\n",
              "      <td>24.00</td>\n",
              "      <td>219.0</td>\n",
              "      <td>22.0</td>\n",
              "      <td>True</td>\n",
              "      <td>0.0</td>\n",
              "      <td>0.0</td>\n",
              "      <td>-157.0</td>\n",
              "      <td>-19.0</td>\n",
              "      <td>0.7</td>\n",
              "      <td>0.7</td>\n",
              "      <td>6.3</td>\n",
              "      <td>0.0</td>\n",
              "      <td>0.0</td>\n",
              "      <td>97.2</td>\n",
              "      <td>0.0</td>\n",
              "      <td>0.0</td>\n",
              "      <td>58.0</td>\n",
              "      <td>24.0</td>\n",
              "      <td>1.3</td>\n",
              "      <td>0.0</td>\n",
              "      <td>0.3</td>\n",
              "      <td>61</td>\n",
              "      <td>True</td>\n",
              "      <td>1</td>\n",
              "      <td>659</td>\n",
              "      <td>2.0</td>\n",
              "      <td>2.0</td>\n",
              "      <td>361.0</td>\n",
              "      <td>62.0</td>\n",
              "      <td>0.0</td>\n",
              "      <td>0</td>\n",
              "      <td>0</td>\n",
              "      <td>1</td>\n",
              "      <td>0</td>\n",
              "      <td>0</td>\n",
              "      <td>0</td>\n",
              "      <td>1</td>\n",
              "      <td>1</td>\n",
              "      <td>0</td>\n",
              "      <td>0</td>\n",
              "      <td>1</td>\n",
              "      <td>1</td>\n",
              "      <td>1</td>\n",
              "      <td>0</td>\n",
              "      <td>0</td>\n",
              "      <td>0</td>\n",
              "      <td>0</td>\n",
              "      <td>4</td>\n",
              "      <td>0</td>\n",
              "      <td>0</td>\n",
              "      <td>8</td>\n",
              "      <td>1</td>\n",
              "      <td>0</td>\n",
              "      <td>2</td>\n",
              "      <td>4</td>\n",
              "      <td>0</td>\n",
              "    </tr>\n",
              "    <tr>\n",
              "      <th>1</th>\n",
              "      <td>3000010</td>\n",
              "      <td>1</td>\n",
              "      <td>16.99</td>\n",
              "      <td>10.0</td>\n",
              "      <td>17.0</td>\n",
              "      <td>False</td>\n",
              "      <td>0.0</td>\n",
              "      <td>0.0</td>\n",
              "      <td>-4.0</td>\n",
              "      <td>0.0</td>\n",
              "      <td>0.3</td>\n",
              "      <td>0.0</td>\n",
              "      <td>2.7</td>\n",
              "      <td>0.0</td>\n",
              "      <td>0.0</td>\n",
              "      <td>0.0</td>\n",
              "      <td>0.0</td>\n",
              "      <td>0.0</td>\n",
              "      <td>5.0</td>\n",
              "      <td>1.0</td>\n",
              "      <td>0.3</td>\n",
              "      <td>0.0</td>\n",
              "      <td>0.0</td>\n",
              "      <td>58</td>\n",
              "      <td>False</td>\n",
              "      <td>1</td>\n",
              "      <td>611</td>\n",
              "      <td>2.0</td>\n",
              "      <td>1.0</td>\n",
              "      <td>1504.0</td>\n",
              "      <td>40.0</td>\n",
              "      <td>42.0</td>\n",
              "      <td>1</td>\n",
              "      <td>0</td>\n",
              "      <td>0</td>\n",
              "      <td>0</td>\n",
              "      <td>0</td>\n",
              "      <td>0</td>\n",
              "      <td>1</td>\n",
              "      <td>1</td>\n",
              "      <td>0</td>\n",
              "      <td>0</td>\n",
              "      <td>1</td>\n",
              "      <td>1</td>\n",
              "      <td>0</td>\n",
              "      <td>0</td>\n",
              "      <td>1</td>\n",
              "      <td>0</td>\n",
              "      <td>0</td>\n",
              "      <td>5</td>\n",
              "      <td>0</td>\n",
              "      <td>0</td>\n",
              "      <td>8</td>\n",
              "      <td>0</td>\n",
              "      <td>3</td>\n",
              "      <td>2</td>\n",
              "      <td>4</td>\n",
              "      <td>2</td>\n",
              "    </tr>\n",
              "    <tr>\n",
              "      <th>2</th>\n",
              "      <td>3000014</td>\n",
              "      <td>0</td>\n",
              "      <td>38.00</td>\n",
              "      <td>8.0</td>\n",
              "      <td>38.0</td>\n",
              "      <td>False</td>\n",
              "      <td>0.0</td>\n",
              "      <td>0.0</td>\n",
              "      <td>-2.0</td>\n",
              "      <td>0.0</td>\n",
              "      <td>0.0</td>\n",
              "      <td>0.0</td>\n",
              "      <td>0.0</td>\n",
              "      <td>0.0</td>\n",
              "      <td>0.0</td>\n",
              "      <td>0.4</td>\n",
              "      <td>0.3</td>\n",
              "      <td>0.0</td>\n",
              "      <td>1.3</td>\n",
              "      <td>3.7</td>\n",
              "      <td>0.0</td>\n",
              "      <td>0.0</td>\n",
              "      <td>0.0</td>\n",
              "      <td>60</td>\n",
              "      <td>False</td>\n",
              "      <td>1</td>\n",
              "      <td>353</td>\n",
              "      <td>1.0</td>\n",
              "      <td>1.0</td>\n",
              "      <td>1812.0</td>\n",
              "      <td>26.0</td>\n",
              "      <td>26.0</td>\n",
              "      <td>1</td>\n",
              "      <td>0</td>\n",
              "      <td>0</td>\n",
              "      <td>0</td>\n",
              "      <td>0</td>\n",
              "      <td>1</td>\n",
              "      <td>0</td>\n",
              "      <td>0</td>\n",
              "      <td>0</td>\n",
              "      <td>0</td>\n",
              "      <td>0</td>\n",
              "      <td>1</td>\n",
              "      <td>0</td>\n",
              "      <td>0</td>\n",
              "      <td>1</td>\n",
              "      <td>0</td>\n",
              "      <td>0</td>\n",
              "      <td>6</td>\n",
              "      <td>0</td>\n",
              "      <td>0</td>\n",
              "      <td>15</td>\n",
              "      <td>0</td>\n",
              "      <td>2</td>\n",
              "      <td>3</td>\n",
              "      <td>1</td>\n",
              "      <td>2</td>\n",
              "    </tr>\n",
              "    <tr>\n",
              "      <th>3</th>\n",
              "      <td>3000022</td>\n",
              "      <td>0</td>\n",
              "      <td>82.28</td>\n",
              "      <td>1312.0</td>\n",
              "      <td>75.0</td>\n",
              "      <td>True</td>\n",
              "      <td>0.0</td>\n",
              "      <td>0.0</td>\n",
              "      <td>157.0</td>\n",
              "      <td>8.1</td>\n",
              "      <td>52.0</td>\n",
              "      <td>7.7</td>\n",
              "      <td>76.0</td>\n",
              "      <td>4.3</td>\n",
              "      <td>1.3</td>\n",
              "      <td>200.3</td>\n",
              "      <td>370.3</td>\n",
              "      <td>147.0</td>\n",
              "      <td>555.7</td>\n",
              "      <td>303.7</td>\n",
              "      <td>59.7</td>\n",
              "      <td>0.0</td>\n",
              "      <td>22.7</td>\n",
              "      <td>59</td>\n",
              "      <td>True</td>\n",
              "      <td>2</td>\n",
              "      <td>611</td>\n",
              "      <td>9.0</td>\n",
              "      <td>4.0</td>\n",
              "      <td>458.0</td>\n",
              "      <td>30.0</td>\n",
              "      <td>0.0</td>\n",
              "      <td>0</td>\n",
              "      <td>0</td>\n",
              "      <td>1</td>\n",
              "      <td>0</td>\n",
              "      <td>0</td>\n",
              "      <td>0</td>\n",
              "      <td>1</td>\n",
              "      <td>1</td>\n",
              "      <td>0</td>\n",
              "      <td>0</td>\n",
              "      <td>0</td>\n",
              "      <td>1</td>\n",
              "      <td>0</td>\n",
              "      <td>0</td>\n",
              "      <td>1</td>\n",
              "      <td>0</td>\n",
              "      <td>0</td>\n",
              "      <td>6</td>\n",
              "      <td>0</td>\n",
              "      <td>0</td>\n",
              "      <td>0</td>\n",
              "      <td>0</td>\n",
              "      <td>3</td>\n",
              "      <td>0</td>\n",
              "      <td>3</td>\n",
              "      <td>0</td>\n",
              "    </tr>\n",
              "    <tr>\n",
              "      <th>4</th>\n",
              "      <td>3000026</td>\n",
              "      <td>1</td>\n",
              "      <td>17.14</td>\n",
              "      <td>0.0</td>\n",
              "      <td>17.0</td>\n",
              "      <td>False</td>\n",
              "      <td>0.0</td>\n",
              "      <td>0.0</td>\n",
              "      <td>0.0</td>\n",
              "      <td>-0.2</td>\n",
              "      <td>0.0</td>\n",
              "      <td>0.0</td>\n",
              "      <td>0.0</td>\n",
              "      <td>0.0</td>\n",
              "      <td>0.0</td>\n",
              "      <td>0.0</td>\n",
              "      <td>0.0</td>\n",
              "      <td>0.0</td>\n",
              "      <td>0.0</td>\n",
              "      <td>0.0</td>\n",
              "      <td>0.0</td>\n",
              "      <td>0.0</td>\n",
              "      <td>0.0</td>\n",
              "      <td>53</td>\n",
              "      <td>True</td>\n",
              "      <td>2</td>\n",
              "      <td>564</td>\n",
              "      <td>4.0</td>\n",
              "      <td>3.0</td>\n",
              "      <td>852.0</td>\n",
              "      <td>46.0</td>\n",
              "      <td>54.0</td>\n",
              "      <td>0</td>\n",
              "      <td>0</td>\n",
              "      <td>0</td>\n",
              "      <td>0</td>\n",
              "      <td>0</td>\n",
              "      <td>0</td>\n",
              "      <td>1</td>\n",
              "      <td>1</td>\n",
              "      <td>0</td>\n",
              "      <td>0</td>\n",
              "      <td>1</td>\n",
              "      <td>1</td>\n",
              "      <td>0</td>\n",
              "      <td>0</td>\n",
              "      <td>0</td>\n",
              "      <td>1</td>\n",
              "      <td>0</td>\n",
              "      <td>9</td>\n",
              "      <td>0</td>\n",
              "      <td>1</td>\n",
              "      <td>0</td>\n",
              "      <td>0</td>\n",
              "      <td>0</td>\n",
              "      <td>0</td>\n",
              "      <td>4</td>\n",
              "      <td>2</td>\n",
              "    </tr>\n",
              "  </tbody>\n",
              "</table>\n",
              "</div>"
            ],
            "text/plain": [
              "   CustomerID  Churn  MonthlyRevenue  ...  PrizmCode  Occupation  MaritalStatus\n",
              "0     3000002      1           24.00  ...          2           4              0\n",
              "1     3000010      1           16.99  ...          2           4              2\n",
              "2     3000014      0           38.00  ...          3           1              2\n",
              "3     3000022      0           82.28  ...          0           3              0\n",
              "4     3000026      1           17.14  ...          0           4              2\n",
              "\n",
              "[5 rows x 58 columns]"
            ]
          },
          "metadata": {},
          "execution_count": 70
        }
      ]
    },
    {
      "cell_type": "code",
      "metadata": {
        "execution": {
          "iopub.execute_input": "2020-09-06T03:42:34.479976Z",
          "iopub.status.busy": "2020-09-06T03:42:34.478844Z",
          "iopub.status.idle": "2020-09-06T03:42:35.024499Z",
          "shell.execute_reply": "2020-09-06T03:42:35.025332Z"
        },
        "papermill": {
          "duration": 0.593921,
          "end_time": "2020-09-06T03:42:35.025520",
          "exception": false,
          "start_time": "2020-09-06T03:42:34.431599",
          "status": "completed"
        },
        "tags": [],
        "colab": {
          "base_uri": "https://localhost:8080/"
        },
        "id": "jUELrqmtah5u",
        "outputId": "ea29ed60-ca9b-4090-d586-72ee01dcc2ba"
      },
      "source": [
        "# for test Dataset\n",
        "cust_df_test = FunLabelEncoder(cust_df_test)\n",
        "cust_df_test.info()\n"
      ],
      "execution_count": 71,
      "outputs": [
        {
          "output_type": "stream",
          "name": "stdout",
          "text": [
            "<class 'pandas.core.frame.DataFrame'>\n",
            "RangeIndex: 20000 entries, 0 to 19999\n",
            "Data columns (total 58 columns):\n",
            " #   Column                     Non-Null Count  Dtype  \n",
            "---  ------                     --------------  -----  \n",
            " 0   CustomerID                 20000 non-null  int64  \n",
            " 1   Churn                      0 non-null      float64\n",
            " 2   MonthlyRevenue             19940 non-null  float64\n",
            " 3   MonthlyMinutes             19940 non-null  float64\n",
            " 4   TotalRecurringCharge       19940 non-null  float64\n",
            " 5   DirectorAssistedCalls      19940 non-null  float64\n",
            " 6   OverageMinutes             19940 non-null  float64\n",
            " 7   RoamingCalls               19940 non-null  float64\n",
            " 8   PercChangeMinutes          19865 non-null  float64\n",
            " 9   PercChangeRevenues         19865 non-null  float64\n",
            " 10  DroppedCalls               20000 non-null  float64\n",
            " 11  BlockedCalls               20000 non-null  float64\n",
            " 12  UnansweredCalls            20000 non-null  float64\n",
            " 13  CustomerCareCalls          20000 non-null  float64\n",
            " 14  ThreewayCalls              20000 non-null  float64\n",
            " 15  ReceivedCalls              20000 non-null  float64\n",
            " 16  OutboundCalls              20000 non-null  float64\n",
            " 17  InboundCalls               20000 non-null  float64\n",
            " 18  PeakCallsInOut             20000 non-null  float64\n",
            " 19  OffPeakCallsInOut          20000 non-null  float64\n",
            " 20  DroppedBlockedCalls        20000 non-null  float64\n",
            " 21  CallForwardingCalls        20000 non-null  float64\n",
            " 22  CallWaitingCalls           20000 non-null  float64\n",
            " 23  MonthsInService            20000 non-null  int64  \n",
            " 24  UniqueSubs                 20000 non-null  int64  \n",
            " 25  ActiveSubs                 20000 non-null  int64  \n",
            " 26  ServiceArea                20000 non-null  int64  \n",
            " 27  Handsets                   20000 non-null  int64  \n",
            " 28  HandsetModels              20000 non-null  int64  \n",
            " 29  CurrentEquipmentDays       20000 non-null  int64  \n",
            " 30  AgeHH1                     19665 non-null  float64\n",
            " 31  AgeHH2                     19665 non-null  float64\n",
            " 32  ChildrenInHH               20000 non-null  int64  \n",
            " 33  HandsetRefurbished         20000 non-null  int64  \n",
            " 34  HandsetWebCapable          20000 non-null  int64  \n",
            " 35  TruckOwner                 20000 non-null  int64  \n",
            " 36  RVOwner                    20000 non-null  int64  \n",
            " 37  Homeownership              20000 non-null  int64  \n",
            " 38  BuysViaMailOrder           20000 non-null  int64  \n",
            " 39  RespondsToMailOffers       20000 non-null  int64  \n",
            " 40  OptOutMailings             20000 non-null  int64  \n",
            " 41  NonUSTravel                20000 non-null  int64  \n",
            " 42  OwnsComputer               20000 non-null  int64  \n",
            " 43  HasCreditCard              20000 non-null  int64  \n",
            " 44  RetentionCalls             20000 non-null  int64  \n",
            " 45  RetentionOffersAccepted    20000 non-null  int64  \n",
            " 46  NewCellphoneUser           20000 non-null  int64  \n",
            " 47  NotNewCellphoneUser        20000 non-null  int64  \n",
            " 48  ReferralsMadeBySubscriber  20000 non-null  int64  \n",
            " 49  IncomeGroup                20000 non-null  int64  \n",
            " 50  OwnsMotorcycle             20000 non-null  int64  \n",
            " 51  AdjustmentsToCreditRating  20000 non-null  int64  \n",
            " 52  HandsetPrice               20000 non-null  int64  \n",
            " 53  MadeCallToRetentionTeam    20000 non-null  int64  \n",
            " 54  CreditRating               20000 non-null  int64  \n",
            " 55  PrizmCode                  20000 non-null  int64  \n",
            " 56  Occupation                 20000 non-null  int64  \n",
            " 57  MaritalStatus              20000 non-null  int64  \n",
            "dtypes: float64(24), int64(34)\n",
            "memory usage: 8.9 MB\n"
          ]
        }
      ]
    },
    {
      "cell_type": "code",
      "metadata": {
        "execution": {
          "iopub.execute_input": "2020-09-06T03:42:35.067521Z",
          "iopub.status.busy": "2020-09-06T03:42:35.066598Z",
          "iopub.status.idle": "2020-09-06T03:42:35.120298Z",
          "shell.execute_reply": "2020-09-06T03:42:35.121372Z"
        },
        "papermill": {
          "duration": 0.079885,
          "end_time": "2020-09-06T03:42:35.121593",
          "exception": false,
          "start_time": "2020-09-06T03:42:35.041708",
          "status": "completed"
        },
        "tags": [],
        "colab": {
          "base_uri": "https://localhost:8080/"
        },
        "id": "qaiIDJYiah5v",
        "outputId": "bfd9609f-8bf4-4b66-c3cb-a886cc7209fb"
      },
      "source": [
        "cust_df_test = cust_df_test.drop(columns=['Churn'], axis=1)\n",
        "cust_df_test = cust_df_test.dropna(how='any')\n",
        "print(cust_df_test.shape)"
      ],
      "execution_count": 72,
      "outputs": [
        {
          "output_type": "stream",
          "name": "stdout",
          "text": [
            "(19533, 57)\n"
          ]
        }
      ]
    },
    {
      "cell_type": "code",
      "metadata": {
        "execution": {
          "iopub.execute_input": "2020-09-06T03:42:35.169423Z",
          "iopub.status.busy": "2020-09-06T03:42:35.168200Z",
          "iopub.status.idle": "2020-09-06T03:42:35.218448Z",
          "shell.execute_reply": "2020-09-06T03:42:35.217628Z"
        },
        "papermill": {
          "duration": 0.074715,
          "end_time": "2020-09-06T03:42:35.218591",
          "exception": false,
          "start_time": "2020-09-06T03:42:35.143876",
          "status": "completed"
        },
        "tags": [],
        "colab": {
          "base_uri": "https://localhost:8080/",
          "height": 141
        },
        "id": "LygenxUKah5v",
        "outputId": "16e29821-0f68-4b85-8e3c-343e861c7fce"
      },
      "source": [
        "#Frequency distribution of classes\"\n",
        "cust_df_train_outcome = pd.crosstab(index=cust_df_train[\"Churn\"],  # Make a crosstab\n",
        "                              columns=\"count\")      # Name the count column\n",
        "\n",
        "cust_df_train_outcome"
      ],
      "execution_count": 73,
      "outputs": [
        {
          "output_type": "execute_result",
          "data": {
            "text/html": [
              "<div>\n",
              "<style scoped>\n",
              "    .dataframe tbody tr th:only-of-type {\n",
              "        vertical-align: middle;\n",
              "    }\n",
              "\n",
              "    .dataframe tbody tr th {\n",
              "        vertical-align: top;\n",
              "    }\n",
              "\n",
              "    .dataframe thead th {\n",
              "        text-align: right;\n",
              "    }\n",
              "</style>\n",
              "<table border=\"1\" class=\"dataframe\">\n",
              "  <thead>\n",
              "    <tr style=\"text-align: right;\">\n",
              "      <th>col_0</th>\n",
              "      <th>count</th>\n",
              "    </tr>\n",
              "    <tr>\n",
              "      <th>Churn</th>\n",
              "      <th></th>\n",
              "    </tr>\n",
              "  </thead>\n",
              "  <tbody>\n",
              "    <tr>\n",
              "      <th>0</th>\n",
              "      <td>36336</td>\n",
              "    </tr>\n",
              "    <tr>\n",
              "      <th>1</th>\n",
              "      <td>14711</td>\n",
              "    </tr>\n",
              "  </tbody>\n",
              "</table>\n",
              "</div>"
            ],
            "text/plain": [
              "col_0  count\n",
              "Churn       \n",
              "0      36336\n",
              "1      14711"
            ]
          },
          "metadata": {},
          "execution_count": 73
        }
      ]
    },
    {
      "cell_type": "code",
      "metadata": {
        "execution": {
          "iopub.execute_input": "2020-09-06T03:42:35.263415Z",
          "iopub.status.busy": "2020-09-06T03:42:35.262544Z",
          "iopub.status.idle": "2020-09-06T03:42:35.482488Z",
          "shell.execute_reply": "2020-09-06T03:42:35.483116Z"
        },
        "papermill": {
          "duration": 0.243598,
          "end_time": "2020-09-06T03:42:35.483296",
          "exception": false,
          "start_time": "2020-09-06T03:42:35.239698",
          "status": "completed"
        },
        "tags": [],
        "colab": {
          "base_uri": "https://localhost:8080/",
          "height": 262
        },
        "id": "iC0RotOPah5v",
        "outputId": "8ddceac5-4e16-4e33-8ea4-caad0a300058"
      },
      "source": [
        "# Distribution of Churn\n",
        "cust_df_train.Churn.value_counts()[0:30].plot(kind='bar')\n",
        "plt.show()"
      ],
      "execution_count": 74,
      "outputs": [
        {
          "output_type": "display_data",
          "data": {
            "image/png": "[encoded data removed]",
            "text/plain": [
              "<Figure size 432x288 with 1 Axes>"
            ]
          },
          "metadata": {
            "needs_background": "light"
          }
        }
      ]
    },
    {
      "cell_type": "markdown",
      "metadata": {
        "id": "e-Q6PMAmvCFn"
      },
      "source": [
        "#### Q2.1 Does customers with high overage minutes also have high revenue?"
      ]
    },
    {
      "cell_type": "code",
      "metadata": {
        "colab": {
          "base_uri": "https://localhost:8080/"
        },
        "id": "Anv1R3YdmI43",
        "outputId": "8479a3c8-55c1-410f-b3c5-144f7cf1789b"
      },
      "source": [
        "cust_df_train['MonthsInService'].describe()"
      ],
      "execution_count": 75,
      "outputs": [
        {
          "output_type": "execute_result",
          "data": {
            "text/plain": [
              "count    51047.000000\n",
              "mean        18.756264\n",
              "std          9.800138\n",
              "min          6.000000\n",
              "25%         11.000000\n",
              "50%         16.000000\n",
              "75%         24.000000\n",
              "max         61.000000\n",
              "Name: MonthsInService, dtype: float64"
            ]
          },
          "metadata": {},
          "execution_count": 75
        }
      ]
    },
    {
      "cell_type": "markdown",
      "metadata": {
        "id": "Js9yfse8mOU-"
      },
      "source": [
        "highly skewed. , Mean is 18.7 ... 1st , 2nd quartile is nearly identical however 3rd quartile look like a skewed."
      ]
    },
    {
      "cell_type": "code",
      "metadata": {
        "colab": {
          "base_uri": "https://localhost:8080/",
          "height": 283
        },
        "id": "L-fB2hBtmrww",
        "outputId": "d75a530f-5c30-4809-ff1d-b389aa7cf44e"
      },
      "source": [
        "cust_df_train['MonthsInService'].hist()"
      ],
      "execution_count": 76,
      "outputs": [
        {
          "output_type": "execute_result",
          "data": {
            "text/plain": [
              "<matplotlib.axes._subplots.AxesSubplot at 0x7f70158ef310>"
            ]
          },
          "metadata": {},
          "execution_count": 76
        },
        {
          "output_type": "display_data",
          "data": {
            "image/png": "[encoded data removed]",
            "text/plain": [
              "<Figure size 432x288 with 1 Axes>"
            ]
          },
          "metadata": {
            "needs_background": "light"
          }
        }
      ]
    },
    {
      "cell_type": "code",
      "metadata": {
        "colab": {
          "base_uri": "https://localhost:8080/",
          "height": 297
        },
        "id": "6Jp9_ZVavD-I",
        "outputId": "882779ac-0dee-4e57-bfba-6db701ae79b7"
      },
      "source": [
        "#use scatter plot to find the correlation between monthly revenue and overage minutes\n",
        "sns.scatterplot(x = 'MonthlyRevenue', y = 'MonthsInService', data = cust_df_train )"
      ],
      "execution_count": 77,
      "outputs": [
        {
          "output_type": "execute_result",
          "data": {
            "text/plain": [
              "<matplotlib.axes._subplots.AxesSubplot at 0x7f70158113d0>"
            ]
          },
          "metadata": {},
          "execution_count": 77
        },
        {
          "output_type": "display_data",
          "data": {
            "image/png": "[encoded data removed]",
            "text/plain": [
              "<Figure size 432x288 with 1 Axes>"
            ]
          },
          "metadata": {
            "needs_background": "light"
          }
        }
      ]
    },
    {
      "cell_type": "code",
      "metadata": {
        "colab": {
          "base_uri": "https://localhost:8080/",
          "height": 297
        },
        "id": "xgf1f1HJnlIP",
        "outputId": "b26617fd-e5ac-4723-c266-b4e45806a97d"
      },
      "source": [
        "sns.scatterplot(x = 'MonthlyRevenue', y = 'OverageMinutes', data = cust_df_train )"
      ],
      "execution_count": 78,
      "outputs": [
        {
          "output_type": "execute_result",
          "data": {
            "text/plain": [
              "<matplotlib.axes._subplots.AxesSubplot at 0x7f7015791410>"
            ]
          },
          "metadata": {},
          "execution_count": 78
        },
        {
          "output_type": "display_data",
          "data": {
            "image/png": "[encoded data removed]",
            "text/plain": [
              "<Figure size 432x288 with 1 Axes>"
            ]
          },
          "metadata": {
            "needs_background": "light"
          }
        }
      ]
    },
    {
      "cell_type": "markdown",
      "metadata": {
        "id": "x60KDez-kMYQ"
      },
      "source": [
        "<mark>__Result:__\n",
        "\n",
        "It is clear that, most of the customers with high overage minutes tend to have high Monthly Revenue."
      ]
    },
    {
      "cell_type": "markdown",
      "metadata": {
        "id": "JtE_ImL3vV9P"
      },
      "source": [
        "#### Q2.2 Does high number of active subscribers lead to low monthly revenue?"
      ]
    },
    {
      "cell_type": "code",
      "metadata": {
        "colab": {
          "base_uri": "https://localhost:8080/",
          "height": 297
        },
        "id": "j6kD93PPoVF2",
        "outputId": "14f7486e-916a-4908-8ffb-0112b5ca6c29"
      },
      "source": [
        "sns.scatterplot(x = 'MonthlyRevenue' , y = 'MonthsInService' , hue=\"Churn\" , data = cust_df_train )"
      ],
      "execution_count": 80,
      "outputs": [
        {
          "output_type": "execute_result",
          "data": {
            "text/plain": [
              "<matplotlib.axes._subplots.AxesSubplot at 0x7f701576fa10>"
            ]
          },
          "metadata": {},
          "execution_count": 80
        },
        {
          "output_type": "display_data",
          "data": {
            "image/png": "[encoded data removed]",
            "text/plain": [
              "<Figure size 432x288 with 1 Axes>"
            ]
          },
          "metadata": {
            "needs_background": "light"
          }
        }
      ]
    },
    {
      "cell_type": "code",
      "metadata": {
        "colab": {
          "base_uri": "https://localhost:8080/",
          "height": 297
        },
        "id": "5NDPXXCrwulB",
        "outputId": "9882d3c5-9a02-4ba2-8cfc-0ab753ffc95e"
      },
      "source": [
        "sns.violinplot(x=cust_df_train[\"Churn\"],y=cust_df_train[\"CreditRating\"],palette = \"Reds\")"
      ],
      "execution_count": 81,
      "outputs": [
        {
          "output_type": "execute_result",
          "data": {
            "text/plain": [
              "<matplotlib.axes._subplots.AxesSubplot at 0x7f7015774210>"
            ]
          },
          "metadata": {},
          "execution_count": 81
        },
        {
          "output_type": "display_data",
          "data": {
            "image/png": "[encoded data removed]",
            "text/plain": [
              "<Figure size 432x288 with 1 Axes>"
            ]
          },
          "metadata": {
            "needs_background": "light"
          }
        }
      ]
    },
    {
      "cell_type": "code",
      "metadata": {
        "colab": {
          "base_uri": "https://localhost:8080/",
          "height": 300
        },
        "id": "WUR6Jh3yaOt2",
        "outputId": "13543fd1-f3e2-49fb-8162-e765723978df"
      },
      "source": [
        "sns.violinplot(x=cust_df_train[\"Churn\"],y=cust_df_train[\"DirectorAssistedCalls\"],palette = \"Reds\")"
      ],
      "execution_count": 82,
      "outputs": [
        {
          "output_type": "execute_result",
          "data": {
            "text/plain": [
              "<matplotlib.axes._subplots.AxesSubplot at 0x7f701530e350>"
            ]
          },
          "metadata": {},
          "execution_count": 82
        },
        {
          "output_type": "display_data",
          "data": {
            "image/png": "[encoded data removed]",
            "text/plain": [
              "<Figure size 432x288 with 1 Axes>"
            ]
          },
          "metadata": {
            "needs_background": "light"
          }
        }
      ]
    },
    {
      "cell_type": "markdown",
      "metadata": {
        "id": "Hp5xB-Hcyk4h"
      },
      "source": [
        "Assuming that High numbers of active subscriber are based on \"occupation\" however by looking into the catplot , We can say that professional folks are into highly churn mode whose monthly revenue is less than 400."
      ]
    },
    {
      "cell_type": "code",
      "metadata": {
        "colab": {
          "base_uri": "https://localhost:8080/",
          "height": 352
        },
        "id": "TxFwGuy-ak5x",
        "outputId": "10c339e6-52da-43b4-a932-f3cd03042716"
      },
      "source": [
        "sns.countplot(cust_df_train[\"CustomerCareCalls\"][:10],hue = cust_df_train[\"Churn\"],palette = \"dark\")"
      ],
      "execution_count": 83,
      "outputs": [
        {
          "output_type": "stream",
          "name": "stderr",
          "text": [
            "/usr/local/lib/python3.7/dist-packages/seaborn/_decorators.py:43: FutureWarning: Pass the following variable as a keyword arg: x. From version 0.12, the only valid positional argument will be `data`, and passing other arguments without an explicit keyword will result in an error or misinterpretation.\n",
            "  FutureWarning\n"
          ]
        },
        {
          "output_type": "execute_result",
          "data": {
            "text/plain": [
              "<matplotlib.axes._subplots.AxesSubplot at 0x7f70156e5910>"
            ]
          },
          "metadata": {},
          "execution_count": 83
        },
        {
          "output_type": "display_data",
          "data": {
            "image/png": "[encoded data removed]",
            "text/plain": [
              "<Figure size 432x288 with 1 Axes>"
            ]
          },
          "metadata": {
            "needs_background": "light"
          }
        }
      ]
    },
    {
      "cell_type": "markdown",
      "metadata": {
        "id": "UvJec3LYyN0P"
      },
      "source": [
        "## Q2.3 Does credit rating have an impact in churn rate?"
      ]
    },
    {
      "cell_type": "code",
      "metadata": {
        "id": "j_GjXFwRvSeQ",
        "colab": {
          "base_uri": "https://localhost:8080/",
          "height": 387
        },
        "outputId": "de70aaa2-5275-4678-9df1-13479134bca0"
      },
      "source": [
        "#use category plot to plot monthly revenue for each active subs category\n",
        "sns.catplot(x = 'CreditRating' , y = 'MonthlyRevenue' , hue=\"Churn\" , data = cust_df_train )"
      ],
      "execution_count": 84,
      "outputs": [
        {
          "output_type": "execute_result",
          "data": {
            "text/plain": [
              "<seaborn.axisgrid.FacetGrid at 0x7f7015640f90>"
            ]
          },
          "metadata": {},
          "execution_count": 84
        },
        {
          "output_type": "display_data",
          "data": {
            "image/png": "[encoded data removed]",
            "text/plain": [
              "<Figure size 402.375x360 with 1 Axes>"
            ]
          },
          "metadata": {
            "needs_background": "light"
          }
        }
      ]
    },
    {
      "cell_type": "code",
      "metadata": {
        "id": "dmvt8Cytw0lk",
        "colab": {
          "base_uri": "https://localhost:8080/",
          "height": 387
        },
        "outputId": "fe051333-915b-4dd8-ca4f-d4ed59fe7c78"
      },
      "source": [
        "sns.catplot(x = 'MaritalStatus' , y = 'MonthlyRevenue' , hue=\"Churn\" , data = cust_df_train )"
      ],
      "execution_count": 85,
      "outputs": [
        {
          "output_type": "execute_result",
          "data": {
            "text/plain": [
              "<seaborn.axisgrid.FacetGrid at 0x7f7015565310>"
            ]
          },
          "metadata": {},
          "execution_count": 85
        },
        {
          "output_type": "display_data",
          "data": {
            "image/png": "[encoded data removed]",
            "text/plain": [
              "<Figure size 402.375x360 with 1 Axes>"
            ]
          },
          "metadata": {
            "needs_background": "light"
          }
        }
      ]
    },
    {
      "cell_type": "code",
      "metadata": {
        "id": "aj1Y5R2zw5T8",
        "colab": {
          "base_uri": "https://localhost:8080/",
          "height": 387
        },
        "outputId": "47cda9bd-688d-4ec4-96da-b03e4fdbf57f"
      },
      "source": [
        "sns.catplot(y = 'MonthlyRevenue' , x = 'PrizmCode' , hue=\"Churn\" , data = cust_df_train )"
      ],
      "execution_count": 86,
      "outputs": [
        {
          "output_type": "execute_result",
          "data": {
            "text/plain": [
              "<seaborn.axisgrid.FacetGrid at 0x7f70156862d0>"
            ]
          },
          "metadata": {},
          "execution_count": 86
        },
        {
          "output_type": "display_data",
          "data": {
            "image/png": "[encoded data removed]",
            "text/plain": [
              "<Figure size 402.375x360 with 1 Axes>"
            ]
          },
          "metadata": {
            "needs_background": "light"
          }
        }
      ]
    },
    {
      "cell_type": "markdown",
      "metadata": {
        "papermill": {
          "duration": 0.020074,
          "end_time": "2020-09-06T03:42:35.523292",
          "exception": false,
          "start_time": "2020-09-06T03:42:35.503218",
          "status": "completed"
        },
        "tags": [],
        "id": "ECJ0TF82ah5w"
      },
      "source": [
        "###### Plotting Heatmap\n"
      ]
    },
    {
      "cell_type": "code",
      "metadata": {
        "execution": {
          "iopub.execute_input": "2020-09-06T03:42:35.577105Z",
          "iopub.status.busy": "2020-09-06T03:42:35.576331Z",
          "iopub.status.idle": "2020-09-06T03:42:36.514422Z",
          "shell.execute_reply": "2020-09-06T03:42:36.513736Z"
        },
        "papermill": {
          "duration": 0.975024,
          "end_time": "2020-09-06T03:42:36.514551",
          "exception": false,
          "start_time": "2020-09-06T03:42:35.539527",
          "status": "completed"
        },
        "tags": [],
        "id": "-37Go1eMah5w",
        "colab": {
          "base_uri": "https://localhost:8080/",
          "height": 384
        },
        "outputId": "8d8adf70-a58f-4a1d-a8c8-0b117b4bbb22"
      },
      "source": [
        "cust_df_train = cust_df_train[['CustomerID','MonthlyRevenue','MonthlyMinutes','TotalRecurringCharge','DirectorAssistedCalls','OverageMinutes',\n",
        "         'RoamingCalls','PercChangeMinutes','PercChangeRevenues','DroppedCalls','BlockedCalls','UnansweredCalls','CustomerCareCalls',\n",
        "         'ThreewayCalls','ReceivedCalls','OutboundCalls','InboundCalls','PeakCallsInOut','OffPeakCallsInOut','DroppedBlockedCalls','CallForwardingCalls'\n",
        "         ,'CallWaitingCalls','MonthsInService','UniqueSubs','ActiveSubs','ServiceArea','Handsets','HandsetModels',              \n",
        "'CurrentEquipmentDays','AgeHH1','AgeHH2','ChildrenInHH','HandsetRefurbished','HandsetWebCapable','TruckOwner','RVOwner','Homeownership','BuysViaMailOrder','RespondsToMailOffers','OptOutMailings',          \n",
        "'NonUSTravel','OwnsComputer','HasCreditCard','RetentionCalls','RetentionOffersAccepted','NewCellphoneUser',          \n",
        "'NotNewCellphoneUser','ReferralsMadeBySubscriber','IncomeGroup','OwnsMotorcycle','AdjustmentsToCreditRating', \n",
        "'HandsetPrice','MadeCallToRetentionTeam','CreditRating','PrizmCode','Occupation','MaritalStatus','Churn']] \n",
        "cor = cust_df_train.corr()\n",
        "sns.heatmap(cor, square = True)"
      ],
      "execution_count": 87,
      "outputs": [
        {
          "output_type": "execute_result",
          "data": {
            "text/plain": [
              "<matplotlib.axes._subplots.AxesSubplot at 0x7f70154ea810>"
            ]
          },
          "metadata": {},
          "execution_count": 87
        },
        {
          "output_type": "display_data",
          "data": {
            "image/png": "[encoded data removed]",
            "text/plain": [
              "<Figure size 432x288 with 2 Axes>"
            ]
          },
          "metadata": {
            "needs_background": "light"
          }
        }
      ]
    },
    {
      "cell_type": "markdown",
      "metadata": {
        "papermill": {
          "duration": 0.017105,
          "end_time": "2020-09-06T03:42:36.549361",
          "exception": false,
          "start_time": "2020-09-06T03:42:36.532256",
          "status": "completed"
        },
        "tags": [],
        "id": "bPD2xrq6ah5w"
      },
      "source": [
        "As you can see above, we obtain the heatmap of correlation among the variables. The color palette in the side represents the amount of correlation among the variables. The lighter shade represents a high correlation. Here appear important variables (customer churn behavior):\n",
        "1. TotalRecurringCharge\n",
        "1. RoamingCalls\n",
        "1. DroppedCalls\n",
        "1. CustomerCareCalls\n",
        "1. OutboundCalls\n",
        "1. OffPeakCallsInOut\n",
        "1. CallWaitingCalls\n",
        "1. ActiveSubs\n",
        "1. HandsetModels\n",
        "1. AgeHH2\n",
        "1. HandsetWebCapable\n",
        "1. Homeownership\n",
        "1. OptOutMailings\n",
        "1. HasCreditCard\n",
        "1. NewCellphoneUser\n",
        "1. IncomeGroup\n",
        "1. HandsetPrice\n",
        "1. PrizmCode"
      ]
    },
    {
      "cell_type": "markdown",
      "metadata": {
        "id": "1v8DwkhPlFIV"
      },
      "source": [
        "## Q3. Create additional features to help predict churn"
      ]
    },
    {
      "cell_type": "code",
      "metadata": {
        "id": "Qtk8mg8OlFIW"
      },
      "source": [
        "#wrapper function to create additional features for churn prediction\n",
        "def create_features(cust_df):\n",
        "    \n",
        "    #3.1 Percent of current active subs over total subs\n",
        "    cust_df['perc_active_subs'] = cust_df['ActiveSubs'] / cust_df['UniqueSubs']\n",
        "    \n",
        "    #3.2 Percent of recurrent charge to monthly charge\n",
        "    #type your code here to create a new column in cust_df\n",
        "    cust_df['perc_recurrent_charge']= cust_df['TotalRecurringCharge']/cust_df['MonthlyRevenue']\n",
        "    \n",
        "    #3.3 Percent of overage minutes over total monthly minutes\n",
        "    #type your code here to create a new column in cust_df\n",
        "\n",
        "    cust_df['perc_AverageMinutes']=cust_df['OverageMinutes']/cust_df['MonthlyMinutes']\n",
        "    \n",
        "    \n",
        "    #type your code here to creat any other additional features which you think will help improve your model accuracy\n",
        "    \n",
        "    \n",
        "    return cust_df  \n"
      ],
      "execution_count": 103,
      "outputs": []
    },
    {
      "cell_type": "code",
      "metadata": {
        "colab": {
          "base_uri": "https://localhost:8080/",
          "height": 758
        },
        "id": "MIbMqWl4l3gL",
        "outputId": "9fd848a0-27a9-496d-a9e4-fb102ffb6169"
      },
      "source": [
        "cust_df_train=create_features(cust_df_train)\n",
        "cust_df_train"
      ],
      "execution_count": 106,
      "outputs": [
        {
          "output_type": "stream",
          "name": "stderr",
          "text": [
            "/usr/local/lib/python3.7/dist-packages/ipykernel_launcher.py:5: SettingWithCopyWarning: \n",
            "A value is trying to be set on a copy of a slice from a DataFrame.\n",
            "Try using .loc[row_indexer,col_indexer] = value instead\n",
            "\n",
            "See the caveats in the documentation: https://pandas.pydata.org/pandas-docs/stable/user_guide/indexing.html#returning-a-view-versus-a-copy\n",
            "  \"\"\"\n",
            "/usr/local/lib/python3.7/dist-packages/ipykernel_launcher.py:9: SettingWithCopyWarning: \n",
            "A value is trying to be set on a copy of a slice from a DataFrame.\n",
            "Try using .loc[row_indexer,col_indexer] = value instead\n",
            "\n",
            "See the caveats in the documentation: https://pandas.pydata.org/pandas-docs/stable/user_guide/indexing.html#returning-a-view-versus-a-copy\n",
            "  if __name__ == '__main__':\n",
            "/usr/local/lib/python3.7/dist-packages/ipykernel_launcher.py:14: SettingWithCopyWarning: \n",
            "A value is trying to be set on a copy of a slice from a DataFrame.\n",
            "Try using .loc[row_indexer,col_indexer] = value instead\n",
            "\n",
            "See the caveats in the documentation: https://pandas.pydata.org/pandas-docs/stable/user_guide/indexing.html#returning-a-view-versus-a-copy\n",
            "  \n"
          ]
        },
        {
          "output_type": "execute_result",
          "data": {
            "text/html": [
              "<div>\n",
              "<style scoped>\n",
              "    .dataframe tbody tr th:only-of-type {\n",
              "        vertical-align: middle;\n",
              "    }\n",
              "\n",
              "    .dataframe tbody tr th {\n",
              "        vertical-align: top;\n",
              "    }\n",
              "\n",
              "    .dataframe thead th {\n",
              "        text-align: right;\n",
              "    }\n",
              "</style>\n",
              "<table border=\"1\" class=\"dataframe\">\n",
              "  <thead>\n",
              "    <tr style=\"text-align: right;\">\n",
              "      <th></th>\n",
              "      <th>CustomerID</th>\n",
              "      <th>MonthlyRevenue</th>\n",
              "      <th>MonthlyMinutes</th>\n",
              "      <th>TotalRecurringCharge</th>\n",
              "      <th>DirectorAssistedCalls</th>\n",
              "      <th>OverageMinutes</th>\n",
              "      <th>RoamingCalls</th>\n",
              "      <th>PercChangeMinutes</th>\n",
              "      <th>PercChangeRevenues</th>\n",
              "      <th>DroppedCalls</th>\n",
              "      <th>BlockedCalls</th>\n",
              "      <th>UnansweredCalls</th>\n",
              "      <th>CustomerCareCalls</th>\n",
              "      <th>ThreewayCalls</th>\n",
              "      <th>ReceivedCalls</th>\n",
              "      <th>OutboundCalls</th>\n",
              "      <th>InboundCalls</th>\n",
              "      <th>PeakCallsInOut</th>\n",
              "      <th>OffPeakCallsInOut</th>\n",
              "      <th>DroppedBlockedCalls</th>\n",
              "      <th>CallForwardingCalls</th>\n",
              "      <th>CallWaitingCalls</th>\n",
              "      <th>MonthsInService</th>\n",
              "      <th>UniqueSubs</th>\n",
              "      <th>ActiveSubs</th>\n",
              "      <th>ServiceArea</th>\n",
              "      <th>Handsets</th>\n",
              "      <th>HandsetModels</th>\n",
              "      <th>CurrentEquipmentDays</th>\n",
              "      <th>AgeHH1</th>\n",
              "      <th>AgeHH2</th>\n",
              "      <th>ChildrenInHH</th>\n",
              "      <th>HandsetRefurbished</th>\n",
              "      <th>HandsetWebCapable</th>\n",
              "      <th>TruckOwner</th>\n",
              "      <th>RVOwner</th>\n",
              "      <th>Homeownership</th>\n",
              "      <th>BuysViaMailOrder</th>\n",
              "      <th>RespondsToMailOffers</th>\n",
              "      <th>OptOutMailings</th>\n",
              "      <th>NonUSTravel</th>\n",
              "      <th>OwnsComputer</th>\n",
              "      <th>HasCreditCard</th>\n",
              "      <th>RetentionCalls</th>\n",
              "      <th>RetentionOffersAccepted</th>\n",
              "      <th>NewCellphoneUser</th>\n",
              "      <th>NotNewCellphoneUser</th>\n",
              "      <th>ReferralsMadeBySubscriber</th>\n",
              "      <th>IncomeGroup</th>\n",
              "      <th>OwnsMotorcycle</th>\n",
              "      <th>AdjustmentsToCreditRating</th>\n",
              "      <th>HandsetPrice</th>\n",
              "      <th>MadeCallToRetentionTeam</th>\n",
              "      <th>CreditRating</th>\n",
              "      <th>PrizmCode</th>\n",
              "      <th>Occupation</th>\n",
              "      <th>MaritalStatus</th>\n",
              "      <th>Churn</th>\n",
              "      <th>perc_active_subs</th>\n",
              "      <th>perc_recurrent_charge</th>\n",
              "      <th>perc_AverageMinutes</th>\n",
              "    </tr>\n",
              "  </thead>\n",
              "  <tbody>\n",
              "    <tr>\n",
              "      <th>0</th>\n",
              "      <td>3000002</td>\n",
              "      <td>24.00</td>\n",
              "      <td>219.0</td>\n",
              "      <td>22.0</td>\n",
              "      <td>True</td>\n",
              "      <td>0.0</td>\n",
              "      <td>0.0</td>\n",
              "      <td>-157.0</td>\n",
              "      <td>-19.0</td>\n",
              "      <td>0.7</td>\n",
              "      <td>0.7</td>\n",
              "      <td>6.3</td>\n",
              "      <td>0.0</td>\n",
              "      <td>0.0</td>\n",
              "      <td>97.2</td>\n",
              "      <td>0.0</td>\n",
              "      <td>0.0</td>\n",
              "      <td>58.0</td>\n",
              "      <td>24.0</td>\n",
              "      <td>1.3</td>\n",
              "      <td>0.0</td>\n",
              "      <td>0.3</td>\n",
              "      <td>61</td>\n",
              "      <td>True</td>\n",
              "      <td>1</td>\n",
              "      <td>659</td>\n",
              "      <td>2.0</td>\n",
              "      <td>2.0</td>\n",
              "      <td>361.0</td>\n",
              "      <td>62.0</td>\n",
              "      <td>0.0</td>\n",
              "      <td>0</td>\n",
              "      <td>0</td>\n",
              "      <td>1</td>\n",
              "      <td>0</td>\n",
              "      <td>0</td>\n",
              "      <td>0</td>\n",
              "      <td>1</td>\n",
              "      <td>1</td>\n",
              "      <td>0</td>\n",
              "      <td>0</td>\n",
              "      <td>1</td>\n",
              "      <td>1</td>\n",
              "      <td>1</td>\n",
              "      <td>0</td>\n",
              "      <td>0</td>\n",
              "      <td>0</td>\n",
              "      <td>0</td>\n",
              "      <td>4</td>\n",
              "      <td>0</td>\n",
              "      <td>0</td>\n",
              "      <td>8</td>\n",
              "      <td>1</td>\n",
              "      <td>0</td>\n",
              "      <td>2</td>\n",
              "      <td>4</td>\n",
              "      <td>0</td>\n",
              "      <td>1</td>\n",
              "      <td>1.0</td>\n",
              "      <td>0.916667</td>\n",
              "      <td>0.000000</td>\n",
              "    </tr>\n",
              "    <tr>\n",
              "      <th>1</th>\n",
              "      <td>3000010</td>\n",
              "      <td>16.99</td>\n",
              "      <td>10.0</td>\n",
              "      <td>17.0</td>\n",
              "      <td>False</td>\n",
              "      <td>0.0</td>\n",
              "      <td>0.0</td>\n",
              "      <td>-4.0</td>\n",
              "      <td>0.0</td>\n",
              "      <td>0.3</td>\n",
              "      <td>0.0</td>\n",
              "      <td>2.7</td>\n",
              "      <td>0.0</td>\n",
              "      <td>0.0</td>\n",
              "      <td>0.0</td>\n",
              "      <td>0.0</td>\n",
              "      <td>0.0</td>\n",
              "      <td>5.0</td>\n",
              "      <td>1.0</td>\n",
              "      <td>0.3</td>\n",
              "      <td>0.0</td>\n",
              "      <td>0.0</td>\n",
              "      <td>58</td>\n",
              "      <td>False</td>\n",
              "      <td>1</td>\n",
              "      <td>611</td>\n",
              "      <td>2.0</td>\n",
              "      <td>1.0</td>\n",
              "      <td>1504.0</td>\n",
              "      <td>40.0</td>\n",
              "      <td>42.0</td>\n",
              "      <td>1</td>\n",
              "      <td>0</td>\n",
              "      <td>0</td>\n",
              "      <td>0</td>\n",
              "      <td>0</td>\n",
              "      <td>0</td>\n",
              "      <td>1</td>\n",
              "      <td>1</td>\n",
              "      <td>0</td>\n",
              "      <td>0</td>\n",
              "      <td>1</td>\n",
              "      <td>1</td>\n",
              "      <td>0</td>\n",
              "      <td>0</td>\n",
              "      <td>1</td>\n",
              "      <td>0</td>\n",
              "      <td>0</td>\n",
              "      <td>5</td>\n",
              "      <td>0</td>\n",
              "      <td>0</td>\n",
              "      <td>8</td>\n",
              "      <td>0</td>\n",
              "      <td>3</td>\n",
              "      <td>2</td>\n",
              "      <td>4</td>\n",
              "      <td>2</td>\n",
              "      <td>1</td>\n",
              "      <td>inf</td>\n",
              "      <td>1.000589</td>\n",
              "      <td>0.000000</td>\n",
              "    </tr>\n",
              "    <tr>\n",
              "      <th>2</th>\n",
              "      <td>3000014</td>\n",
              "      <td>38.00</td>\n",
              "      <td>8.0</td>\n",
              "      <td>38.0</td>\n",
              "      <td>False</td>\n",
              "      <td>0.0</td>\n",
              "      <td>0.0</td>\n",
              "      <td>-2.0</td>\n",
              "      <td>0.0</td>\n",
              "      <td>0.0</td>\n",
              "      <td>0.0</td>\n",
              "      <td>0.0</td>\n",
              "      <td>0.0</td>\n",
              "      <td>0.0</td>\n",
              "      <td>0.4</td>\n",
              "      <td>0.3</td>\n",
              "      <td>0.0</td>\n",
              "      <td>1.3</td>\n",
              "      <td>3.7</td>\n",
              "      <td>0.0</td>\n",
              "      <td>0.0</td>\n",
              "      <td>0.0</td>\n",
              "      <td>60</td>\n",
              "      <td>False</td>\n",
              "      <td>1</td>\n",
              "      <td>353</td>\n",
              "      <td>1.0</td>\n",
              "      <td>1.0</td>\n",
              "      <td>1812.0</td>\n",
              "      <td>26.0</td>\n",
              "      <td>26.0</td>\n",
              "      <td>1</td>\n",
              "      <td>0</td>\n",
              "      <td>0</td>\n",
              "      <td>0</td>\n",
              "      <td>0</td>\n",
              "      <td>1</td>\n",
              "      <td>0</td>\n",
              "      <td>0</td>\n",
              "      <td>0</td>\n",
              "      <td>0</td>\n",
              "      <td>0</td>\n",
              "      <td>1</td>\n",
              "      <td>0</td>\n",
              "      <td>0</td>\n",
              "      <td>1</td>\n",
              "      <td>0</td>\n",
              "      <td>0</td>\n",
              "      <td>6</td>\n",
              "      <td>0</td>\n",
              "      <td>0</td>\n",
              "      <td>15</td>\n",
              "      <td>0</td>\n",
              "      <td>2</td>\n",
              "      <td>3</td>\n",
              "      <td>1</td>\n",
              "      <td>2</td>\n",
              "      <td>0</td>\n",
              "      <td>inf</td>\n",
              "      <td>1.000000</td>\n",
              "      <td>0.000000</td>\n",
              "    </tr>\n",
              "    <tr>\n",
              "      <th>3</th>\n",
              "      <td>3000022</td>\n",
              "      <td>82.28</td>\n",
              "      <td>1312.0</td>\n",
              "      <td>75.0</td>\n",
              "      <td>True</td>\n",
              "      <td>0.0</td>\n",
              "      <td>0.0</td>\n",
              "      <td>157.0</td>\n",
              "      <td>8.1</td>\n",
              "      <td>52.0</td>\n",
              "      <td>7.7</td>\n",
              "      <td>76.0</td>\n",
              "      <td>4.3</td>\n",
              "      <td>1.3</td>\n",
              "      <td>200.3</td>\n",
              "      <td>370.3</td>\n",
              "      <td>147.0</td>\n",
              "      <td>555.7</td>\n",
              "      <td>303.7</td>\n",
              "      <td>59.7</td>\n",
              "      <td>0.0</td>\n",
              "      <td>22.7</td>\n",
              "      <td>59</td>\n",
              "      <td>True</td>\n",
              "      <td>2</td>\n",
              "      <td>611</td>\n",
              "      <td>9.0</td>\n",
              "      <td>4.0</td>\n",
              "      <td>458.0</td>\n",
              "      <td>30.0</td>\n",
              "      <td>0.0</td>\n",
              "      <td>0</td>\n",
              "      <td>0</td>\n",
              "      <td>1</td>\n",
              "      <td>0</td>\n",
              "      <td>0</td>\n",
              "      <td>0</td>\n",
              "      <td>1</td>\n",
              "      <td>1</td>\n",
              "      <td>0</td>\n",
              "      <td>0</td>\n",
              "      <td>0</td>\n",
              "      <td>1</td>\n",
              "      <td>0</td>\n",
              "      <td>0</td>\n",
              "      <td>1</td>\n",
              "      <td>0</td>\n",
              "      <td>0</td>\n",
              "      <td>6</td>\n",
              "      <td>0</td>\n",
              "      <td>0</td>\n",
              "      <td>0</td>\n",
              "      <td>0</td>\n",
              "      <td>3</td>\n",
              "      <td>0</td>\n",
              "      <td>3</td>\n",
              "      <td>0</td>\n",
              "      <td>0</td>\n",
              "      <td>2.0</td>\n",
              "      <td>0.911522</td>\n",
              "      <td>0.000000</td>\n",
              "    </tr>\n",
              "    <tr>\n",
              "      <th>4</th>\n",
              "      <td>3000026</td>\n",
              "      <td>17.14</td>\n",
              "      <td>0.0</td>\n",
              "      <td>17.0</td>\n",
              "      <td>False</td>\n",
              "      <td>0.0</td>\n",
              "      <td>0.0</td>\n",
              "      <td>0.0</td>\n",
              "      <td>-0.2</td>\n",
              "      <td>0.0</td>\n",
              "      <td>0.0</td>\n",
              "      <td>0.0</td>\n",
              "      <td>0.0</td>\n",
              "      <td>0.0</td>\n",
              "      <td>0.0</td>\n",
              "      <td>0.0</td>\n",
              "      <td>0.0</td>\n",
              "      <td>0.0</td>\n",
              "      <td>0.0</td>\n",
              "      <td>0.0</td>\n",
              "      <td>0.0</td>\n",
              "      <td>0.0</td>\n",
              "      <td>53</td>\n",
              "      <td>True</td>\n",
              "      <td>2</td>\n",
              "      <td>564</td>\n",
              "      <td>4.0</td>\n",
              "      <td>3.0</td>\n",
              "      <td>852.0</td>\n",
              "      <td>46.0</td>\n",
              "      <td>54.0</td>\n",
              "      <td>0</td>\n",
              "      <td>0</td>\n",
              "      <td>0</td>\n",
              "      <td>0</td>\n",
              "      <td>0</td>\n",
              "      <td>0</td>\n",
              "      <td>1</td>\n",
              "      <td>1</td>\n",
              "      <td>0</td>\n",
              "      <td>0</td>\n",
              "      <td>1</td>\n",
              "      <td>1</td>\n",
              "      <td>0</td>\n",
              "      <td>0</td>\n",
              "      <td>0</td>\n",
              "      <td>1</td>\n",
              "      <td>0</td>\n",
              "      <td>9</td>\n",
              "      <td>0</td>\n",
              "      <td>1</td>\n",
              "      <td>0</td>\n",
              "      <td>0</td>\n",
              "      <td>0</td>\n",
              "      <td>0</td>\n",
              "      <td>4</td>\n",
              "      <td>2</td>\n",
              "      <td>1</td>\n",
              "      <td>2.0</td>\n",
              "      <td>0.991832</td>\n",
              "      <td>NaN</td>\n",
              "    </tr>\n",
              "    <tr>\n",
              "      <th>...</th>\n",
              "      <td>...</td>\n",
              "      <td>...</td>\n",
              "      <td>...</td>\n",
              "      <td>...</td>\n",
              "      <td>...</td>\n",
              "      <td>...</td>\n",
              "      <td>...</td>\n",
              "      <td>...</td>\n",
              "      <td>...</td>\n",
              "      <td>...</td>\n",
              "      <td>...</td>\n",
              "      <td>...</td>\n",
              "      <td>...</td>\n",
              "      <td>...</td>\n",
              "      <td>...</td>\n",
              "      <td>...</td>\n",
              "      <td>...</td>\n",
              "      <td>...</td>\n",
              "      <td>...</td>\n",
              "      <td>...</td>\n",
              "      <td>...</td>\n",
              "      <td>...</td>\n",
              "      <td>...</td>\n",
              "      <td>...</td>\n",
              "      <td>...</td>\n",
              "      <td>...</td>\n",
              "      <td>...</td>\n",
              "      <td>...</td>\n",
              "      <td>...</td>\n",
              "      <td>...</td>\n",
              "      <td>...</td>\n",
              "      <td>...</td>\n",
              "      <td>...</td>\n",
              "      <td>...</td>\n",
              "      <td>...</td>\n",
              "      <td>...</td>\n",
              "      <td>...</td>\n",
              "      <td>...</td>\n",
              "      <td>...</td>\n",
              "      <td>...</td>\n",
              "      <td>...</td>\n",
              "      <td>...</td>\n",
              "      <td>...</td>\n",
              "      <td>...</td>\n",
              "      <td>...</td>\n",
              "      <td>...</td>\n",
              "      <td>...</td>\n",
              "      <td>...</td>\n",
              "      <td>...</td>\n",
              "      <td>...</td>\n",
              "      <td>...</td>\n",
              "      <td>...</td>\n",
              "      <td>...</td>\n",
              "      <td>...</td>\n",
              "      <td>...</td>\n",
              "      <td>...</td>\n",
              "      <td>...</td>\n",
              "      <td>...</td>\n",
              "      <td>...</td>\n",
              "      <td>...</td>\n",
              "      <td>...</td>\n",
              "    </tr>\n",
              "    <tr>\n",
              "      <th>51042</th>\n",
              "      <td>3399958</td>\n",
              "      <td>0.00</td>\n",
              "      <td>0.0</td>\n",
              "      <td>0.0</td>\n",
              "      <td>False</td>\n",
              "      <td>0.0</td>\n",
              "      <td>0.0</td>\n",
              "      <td>0.0</td>\n",
              "      <td>0.0</td>\n",
              "      <td>9.3</td>\n",
              "      <td>2.7</td>\n",
              "      <td>48.3</td>\n",
              "      <td>0.0</td>\n",
              "      <td>0.0</td>\n",
              "      <td>58.9</td>\n",
              "      <td>17.0</td>\n",
              "      <td>1.3</td>\n",
              "      <td>160.3</td>\n",
              "      <td>33.3</td>\n",
              "      <td>12.0</td>\n",
              "      <td>0.0</td>\n",
              "      <td>0.3</td>\n",
              "      <td>29</td>\n",
              "      <td>False</td>\n",
              "      <td>1</td>\n",
              "      <td>311</td>\n",
              "      <td>2.0</td>\n",
              "      <td>2.0</td>\n",
              "      <td>526.0</td>\n",
              "      <td>68.0</td>\n",
              "      <td>64.0</td>\n",
              "      <td>0</td>\n",
              "      <td>1</td>\n",
              "      <td>1</td>\n",
              "      <td>0</td>\n",
              "      <td>0</td>\n",
              "      <td>0</td>\n",
              "      <td>1</td>\n",
              "      <td>1</td>\n",
              "      <td>0</td>\n",
              "      <td>0</td>\n",
              "      <td>0</td>\n",
              "      <td>1</td>\n",
              "      <td>0</td>\n",
              "      <td>0</td>\n",
              "      <td>0</td>\n",
              "      <td>0</td>\n",
              "      <td>0</td>\n",
              "      <td>6</td>\n",
              "      <td>0</td>\n",
              "      <td>0</td>\n",
              "      <td>13</td>\n",
              "      <td>0</td>\n",
              "      <td>0</td>\n",
              "      <td>2</td>\n",
              "      <td>3</td>\n",
              "      <td>2</td>\n",
              "      <td>1</td>\n",
              "      <td>inf</td>\n",
              "      <td>NaN</td>\n",
              "      <td>NaN</td>\n",
              "    </tr>\n",
              "    <tr>\n",
              "      <th>51043</th>\n",
              "      <td>3399974</td>\n",
              "      <td>95.17</td>\n",
              "      <td>1745.0</td>\n",
              "      <td>85.0</td>\n",
              "      <td>True</td>\n",
              "      <td>45.0</td>\n",
              "      <td>4.7</td>\n",
              "      <td>122.0</td>\n",
              "      <td>15.9</td>\n",
              "      <td>16.7</td>\n",
              "      <td>0.7</td>\n",
              "      <td>41.3</td>\n",
              "      <td>0.0</td>\n",
              "      <td>0.0</td>\n",
              "      <td>681.5</td>\n",
              "      <td>89.7</td>\n",
              "      <td>33.3</td>\n",
              "      <td>318.7</td>\n",
              "      <td>248.3</td>\n",
              "      <td>17.3</td>\n",
              "      <td>0.0</td>\n",
              "      <td>14.3</td>\n",
              "      <td>29</td>\n",
              "      <td>False</td>\n",
              "      <td>1</td>\n",
              "      <td>289</td>\n",
              "      <td>2.0</td>\n",
              "      <td>2.0</td>\n",
              "      <td>464.0</td>\n",
              "      <td>48.0</td>\n",
              "      <td>48.0</td>\n",
              "      <td>1</td>\n",
              "      <td>0</td>\n",
              "      <td>1</td>\n",
              "      <td>0</td>\n",
              "      <td>0</td>\n",
              "      <td>0</td>\n",
              "      <td>1</td>\n",
              "      <td>1</td>\n",
              "      <td>0</td>\n",
              "      <td>0</td>\n",
              "      <td>1</td>\n",
              "      <td>1</td>\n",
              "      <td>0</td>\n",
              "      <td>0</td>\n",
              "      <td>0</td>\n",
              "      <td>0</td>\n",
              "      <td>0</td>\n",
              "      <td>9</td>\n",
              "      <td>0</td>\n",
              "      <td>1</td>\n",
              "      <td>13</td>\n",
              "      <td>0</td>\n",
              "      <td>2</td>\n",
              "      <td>0</td>\n",
              "      <td>3</td>\n",
              "      <td>0</td>\n",
              "      <td>0</td>\n",
              "      <td>inf</td>\n",
              "      <td>0.893139</td>\n",
              "      <td>0.025788</td>\n",
              "    </tr>\n",
              "    <tr>\n",
              "      <th>51044</th>\n",
              "      <td>3399978</td>\n",
              "      <td>0.00</td>\n",
              "      <td>0.0</td>\n",
              "      <td>0.0</td>\n",
              "      <td>False</td>\n",
              "      <td>0.0</td>\n",
              "      <td>0.0</td>\n",
              "      <td>0.0</td>\n",
              "      <td>0.0</td>\n",
              "      <td>71.7</td>\n",
              "      <td>4.3</td>\n",
              "      <td>287.0</td>\n",
              "      <td>1.3</td>\n",
              "      <td>13.7</td>\n",
              "      <td>1225.3</td>\n",
              "      <td>430.3</td>\n",
              "      <td>87.7</td>\n",
              "      <td>1359.0</td>\n",
              "      <td>910.3</td>\n",
              "      <td>76.0</td>\n",
              "      <td>0.0</td>\n",
              "      <td>6.7</td>\n",
              "      <td>25</td>\n",
              "      <td>False</td>\n",
              "      <td>1</td>\n",
              "      <td>289</td>\n",
              "      <td>3.0</td>\n",
              "      <td>2.0</td>\n",
              "      <td>378.0</td>\n",
              "      <td>36.0</td>\n",
              "      <td>0.0</td>\n",
              "      <td>0</td>\n",
              "      <td>0</td>\n",
              "      <td>1</td>\n",
              "      <td>0</td>\n",
              "      <td>0</td>\n",
              "      <td>0</td>\n",
              "      <td>0</td>\n",
              "      <td>0</td>\n",
              "      <td>0</td>\n",
              "      <td>0</td>\n",
              "      <td>0</td>\n",
              "      <td>1</td>\n",
              "      <td>0</td>\n",
              "      <td>0</td>\n",
              "      <td>0</td>\n",
              "      <td>0</td>\n",
              "      <td>0</td>\n",
              "      <td>7</td>\n",
              "      <td>0</td>\n",
              "      <td>1</td>\n",
              "      <td>14</td>\n",
              "      <td>0</td>\n",
              "      <td>4</td>\n",
              "      <td>0</td>\n",
              "      <td>0</td>\n",
              "      <td>0</td>\n",
              "      <td>1</td>\n",
              "      <td>inf</td>\n",
              "      <td>NaN</td>\n",
              "      <td>NaN</td>\n",
              "    </tr>\n",
              "    <tr>\n",
              "      <th>51045</th>\n",
              "      <td>3399990</td>\n",
              "      <td>0.00</td>\n",
              "      <td>0.0</td>\n",
              "      <td>0.0</td>\n",
              "      <td>False</td>\n",
              "      <td>0.0</td>\n",
              "      <td>0.0</td>\n",
              "      <td>0.0</td>\n",
              "      <td>0.0</td>\n",
              "      <td>0.0</td>\n",
              "      <td>0.0</td>\n",
              "      <td>0.0</td>\n",
              "      <td>0.0</td>\n",
              "      <td>0.0</td>\n",
              "      <td>0.0</td>\n",
              "      <td>0.0</td>\n",
              "      <td>0.0</td>\n",
              "      <td>0.0</td>\n",
              "      <td>0.0</td>\n",
              "      <td>0.0</td>\n",
              "      <td>0.0</td>\n",
              "      <td>0.0</td>\n",
              "      <td>31</td>\n",
              "      <td>False</td>\n",
              "      <td>1</td>\n",
              "      <td>412</td>\n",
              "      <td>2.0</td>\n",
              "      <td>2.0</td>\n",
              "      <td>433.0</td>\n",
              "      <td>32.0</td>\n",
              "      <td>0.0</td>\n",
              "      <td>1</td>\n",
              "      <td>0</td>\n",
              "      <td>1</td>\n",
              "      <td>0</td>\n",
              "      <td>0</td>\n",
              "      <td>1</td>\n",
              "      <td>0</td>\n",
              "      <td>0</td>\n",
              "      <td>0</td>\n",
              "      <td>0</td>\n",
              "      <td>0</td>\n",
              "      <td>0</td>\n",
              "      <td>0</td>\n",
              "      <td>0</td>\n",
              "      <td>0</td>\n",
              "      <td>0</td>\n",
              "      <td>0</td>\n",
              "      <td>9</td>\n",
              "      <td>0</td>\n",
              "      <td>0</td>\n",
              "      <td>8</td>\n",
              "      <td>0</td>\n",
              "      <td>4</td>\n",
              "      <td>0</td>\n",
              "      <td>3</td>\n",
              "      <td>0</td>\n",
              "      <td>0</td>\n",
              "      <td>inf</td>\n",
              "      <td>NaN</td>\n",
              "      <td>NaN</td>\n",
              "    </tr>\n",
              "    <tr>\n",
              "      <th>51046</th>\n",
              "      <td>3399994</td>\n",
              "      <td>0.00</td>\n",
              "      <td>0.0</td>\n",
              "      <td>0.0</td>\n",
              "      <td>False</td>\n",
              "      <td>0.0</td>\n",
              "      <td>0.0</td>\n",
              "      <td>0.0</td>\n",
              "      <td>0.0</td>\n",
              "      <td>18.7</td>\n",
              "      <td>0.7</td>\n",
              "      <td>117.3</td>\n",
              "      <td>1.3</td>\n",
              "      <td>1.0</td>\n",
              "      <td>330.9</td>\n",
              "      <td>55.0</td>\n",
              "      <td>16.7</td>\n",
              "      <td>442.3</td>\n",
              "      <td>167.3</td>\n",
              "      <td>19.3</td>\n",
              "      <td>0.0</td>\n",
              "      <td>0.0</td>\n",
              "      <td>25</td>\n",
              "      <td>False</td>\n",
              "      <td>1</td>\n",
              "      <td>412</td>\n",
              "      <td>7.0</td>\n",
              "      <td>5.0</td>\n",
              "      <td>75.0</td>\n",
              "      <td>0.0</td>\n",
              "      <td>0.0</td>\n",
              "      <td>0</td>\n",
              "      <td>0</td>\n",
              "      <td>1</td>\n",
              "      <td>0</td>\n",
              "      <td>0</td>\n",
              "      <td>1</td>\n",
              "      <td>0</td>\n",
              "      <td>0</td>\n",
              "      <td>0</td>\n",
              "      <td>0</td>\n",
              "      <td>0</td>\n",
              "      <td>0</td>\n",
              "      <td>2</td>\n",
              "      <td>1</td>\n",
              "      <td>0</td>\n",
              "      <td>0</td>\n",
              "      <td>0</td>\n",
              "      <td>0</td>\n",
              "      <td>0</td>\n",
              "      <td>1</td>\n",
              "      <td>13</td>\n",
              "      <td>1</td>\n",
              "      <td>4</td>\n",
              "      <td>0</td>\n",
              "      <td>3</td>\n",
              "      <td>1</td>\n",
              "      <td>0</td>\n",
              "      <td>inf</td>\n",
              "      <td>NaN</td>\n",
              "      <td>NaN</td>\n",
              "    </tr>\n",
              "  </tbody>\n",
              "</table>\n",
              "<p>51047 rows × 61 columns</p>\n",
              "</div>"
            ],
            "text/plain": [
              "       CustomerID  MonthlyRevenue  ...  perc_recurrent_charge  perc_AverageMinutes\n",
              "0         3000002           24.00  ...               0.916667             0.000000\n",
              "1         3000010           16.99  ...               1.000589             0.000000\n",
              "2         3000014           38.00  ...               1.000000             0.000000\n",
              "3         3000022           82.28  ...               0.911522             0.000000\n",
              "4         3000026           17.14  ...               0.991832                  NaN\n",
              "...           ...             ...  ...                    ...                  ...\n",
              "51042     3399958            0.00  ...                    NaN                  NaN\n",
              "51043     3399974           95.17  ...               0.893139             0.025788\n",
              "51044     3399978            0.00  ...                    NaN                  NaN\n",
              "51045     3399990            0.00  ...                    NaN                  NaN\n",
              "51046     3399994            0.00  ...                    NaN                  NaN\n",
              "\n",
              "[51047 rows x 61 columns]"
            ]
          },
          "metadata": {},
          "execution_count": 106
        }
      ]
    },
    {
      "cell_type": "markdown",
      "metadata": {
        "papermill": {
          "duration": 0.016829,
          "end_time": "2020-09-06T03:42:36.583335",
          "exception": false,
          "start_time": "2020-09-06T03:42:36.566506",
          "status": "completed"
        },
        "tags": [],
        "id": "hkeQNWv1ah5w"
      },
      "source": [
        "## Q4. Build classification model to predict customer churn month in advance"
      ]
    },
    {
      "cell_type": "markdown",
      "metadata": {
        "id": "hwuQszzYz_HE"
      },
      "source": [
        "#### Initial data processing for model building exercise"
      ]
    },
    {
      "cell_type": "code",
      "metadata": {
        "execution": {
          "iopub.execute_input": "2020-09-06T03:42:36.672820Z",
          "iopub.status.busy": "2020-09-06T03:42:36.665284Z",
          "iopub.status.idle": "2020-09-06T03:42:36.704709Z",
          "shell.execute_reply": "2020-09-06T03:42:36.705308Z"
        },
        "papermill": {
          "duration": 0.071646,
          "end_time": "2020-09-06T03:42:36.705522",
          "exception": false,
          "start_time": "2020-09-06T03:42:36.633876",
          "status": "completed"
        },
        "tags": [],
        "id": "9Qhl-OsCah5x"
      },
      "source": [
        "from sklearn.model_selection import train_test_split\n",
        "Y = cust_df_train['Churn']\n",
        "X = cust_df_train.drop(columns=['Churn'])\n",
        "X_train, X_test, Y_train, Y_test = train_test_split(X, Y, test_size=0.3, random_state=9)"
      ],
      "execution_count": 88,
      "outputs": []
    },
    {
      "cell_type": "code",
      "metadata": {
        "execution": {
          "iopub.execute_input": "2020-09-06T03:42:36.747878Z",
          "iopub.status.busy": "2020-09-06T03:42:36.746810Z",
          "iopub.status.idle": "2020-09-06T03:42:36.750399Z",
          "shell.execute_reply": "2020-09-06T03:42:36.751318Z"
        },
        "papermill": {
          "duration": 0.028509,
          "end_time": "2020-09-06T03:42:36.751480",
          "exception": false,
          "start_time": "2020-09-06T03:42:36.722971",
          "status": "completed"
        },
        "tags": [],
        "colab": {
          "base_uri": "https://localhost:8080/"
        },
        "id": "jSobbErNah5x",
        "outputId": "c4060aa7-1a9e-4ef4-8ea2-222e60ca1c60"
      },
      "source": [
        "print('X train shape: ', X_train.shape)\n",
        "print('Y train shape: ', Y_train.shape)\n",
        "print('X test shape: ', X_test.shape)\n",
        "print('Y test shape: ', Y_test.shape)"
      ],
      "execution_count": 89,
      "outputs": [
        {
          "output_type": "stream",
          "name": "stdout",
          "text": [
            "X train shape:  (35732, 57)\n",
            "Y train shape:  (35732,)\n",
            "X test shape:  (15315, 57)\n",
            "Y test shape:  (15315,)\n"
          ]
        }
      ]
    },
    {
      "cell_type": "markdown",
      "metadata": {
        "id": "v_3ZOHev0DnM"
      },
      "source": [
        "## Q4.1 Build a simple logistic regression model to predict churn and evaluate model accuracy on test data set"
      ]
    },
    {
      "cell_type": "code",
      "metadata": {
        "id": "6DzDmP_vzwvl"
      },
      "source": [
        "from sklearn.linear_model import LogisticRegression\n",
        "from sklearn.metrics import classification_report, confusion_matrix\n",
        "\n",
        "lr = LogisticRegression(solver='liblinear', random_state=0)\n",
        "lr.fit(X_train, Y_train)\n",
        "\n",
        "# We predict target values\n",
        "Y_lr_predict = lr.predict(X_test)"
      ],
      "execution_count": 90,
      "outputs": []
    },
    {
      "cell_type": "code",
      "metadata": {
        "colab": {
          "base_uri": "https://localhost:8080/",
          "height": 350
        },
        "id": "B40SwQG56GDg",
        "outputId": "e56e5d73-dae5-4646-846d-9df0aa53b6ea"
      },
      "source": [
        "lr_cm = confusion_matrix(Y_test, Y_lr_predict)\n",
        "f, ax = plt.subplots(figsize=(5,5))\n",
        "sns.heatmap(lr_cm, annot=True, linewidth=0.7, linecolor='black', fmt='g', ax=ax, cmap=\"BuPu\")\n",
        "plt.title('Logistic Regression Classification Confusion Matrix')\n",
        "plt.xlabel('Y predict')\n",
        "plt.ylabel('Y test')\n",
        "plt.show()"
      ],
      "execution_count": 91,
      "outputs": [
        {
          "output_type": "display_data",
          "data": {
            "image/png": "[encoded data removed]",
            "text/plain": [
              "<Figure size 360x360 with 2 Axes>"
            ]
          },
          "metadata": {
            "needs_background": "light"
          }
        }
      ]
    },
    {
      "cell_type": "code",
      "metadata": {
        "colab": {
          "base_uri": "https://localhost:8080/"
        },
        "id": "xqE8uYfn9iNl",
        "outputId": "aea9c2b1-622f-49dc-e28a-255c7f78a6ae"
      },
      "source": [
        "# This gives us the Accuracy score\n",
        "score_lr = lr.score(X_test, Y_test)\n",
        "print(score_lr)"
      ],
      "execution_count": 92,
      "outputs": [
        {
          "output_type": "stream",
          "name": "stdout",
          "text": [
            "0.7123081945804767\n"
          ]
        }
      ]
    },
    {
      "cell_type": "code",
      "metadata": {
        "id": "ZaH4-k7znT1x"
      },
      "source": [
        "TruePositive=lr_cm[0][0]\n",
        "FalsePositive=lr_cm[0][1]\n",
        "FalseNegative=lr_cm[1][0]\n",
        "TrueNegative=lr_cm[1][1]\n",
        "\n"
      ],
      "execution_count": 120,
      "outputs": []
    },
    {
      "cell_type": "code",
      "metadata": {
        "colab": {
          "base_uri": "https://localhost:8080/"
        },
        "id": "RyY2N8AIoSBd",
        "outputId": "7a5cdd70-1ba2-491d-aa82-6513e664a1a0"
      },
      "source": [
        "Accuracy=((TruePositive+TrueNegative) / (TruePositive + TrueNegative + FalseNegative + FalsePositive))\n",
        "Accuracy"
      ],
      "execution_count": 114,
      "outputs": [
        {
          "output_type": "execute_result",
          "data": {
            "text/plain": [
              "0.7123081945804767"
            ]
          },
          "metadata": {},
          "execution_count": 114
        }
      ]
    },
    {
      "cell_type": "code",
      "metadata": {
        "colab": {
          "base_uri": "https://localhost:8080/"
        },
        "id": "hiILkeUmokyb",
        "outputId": "684e4b65-9321-47e3-d642-768370dcae85"
      },
      "source": [
        "Precision=TruePositive / ( TruePositive + FalsePositive)\n",
        "Precision"
      ],
      "execution_count": 121,
      "outputs": [
        {
          "output_type": "execute_result",
          "data": {
            "text/plain": [
              "1.0"
            ]
          },
          "metadata": {},
          "execution_count": 121
        }
      ]
    },
    {
      "cell_type": "code",
      "metadata": {
        "colab": {
          "base_uri": "https://localhost:8080/"
        },
        "id": "uhZLrmToos5A",
        "outputId": "d312fe47-7560-486c-e1f8-70be9af56ecf"
      },
      "source": [
        "Recall=TruePositive/(TruePositive+FalseNegative)\n",
        "Recall"
      ],
      "execution_count": 116,
      "outputs": [
        {
          "output_type": "execute_result",
          "data": {
            "text/plain": [
              "0.7123081945804767"
            ]
          },
          "metadata": {},
          "execution_count": 116
        }
      ]
    },
    {
      "cell_type": "code",
      "metadata": {
        "colab": {
          "base_uri": "https://localhost:8080/"
        },
        "id": "fI2MRQg7oy4a",
        "outputId": "bdf0542b-1ae6-454e-efba-b641aa232083"
      },
      "source": [
        "F1=2*((Precision * Recall))/(Precision+Recall)\n",
        "F1"
      ],
      "execution_count": 117,
      "outputs": [
        {
          "output_type": "execute_result",
          "data": {
            "text/plain": [
              "0.8319859670530811"
            ]
          },
          "metadata": {},
          "execution_count": 117
        }
      ]
    },
    {
      "cell_type": "markdown",
      "metadata": {
        "papermill": {
          "duration": 0.016977,
          "end_time": "2020-09-06T03:42:36.785825",
          "exception": false,
          "start_time": "2020-09-06T03:42:36.768848",
          "status": "completed"
        },
        "tags": [],
        "id": "j9Q_UN-nah5x"
      },
      "source": [
        "### Q4.2 Build Random Forest classifier to compare model accuracy over the logistic regression model\n"
      ]
    },
    {
      "cell_type": "code",
      "metadata": {
        "execution": {
          "iopub.execute_input": "2020-09-06T03:42:36.827756Z",
          "iopub.status.busy": "2020-09-06T03:42:36.826888Z",
          "iopub.status.idle": "2020-09-06T03:42:43.138973Z",
          "shell.execute_reply": "2020-09-06T03:42:43.138274Z"
        },
        "papermill": {
          "duration": 6.335863,
          "end_time": "2020-09-06T03:42:43.139117",
          "exception": false,
          "start_time": "2020-09-06T03:42:36.803254",
          "status": "completed"
        },
        "tags": [],
        "id": "OUYhSb5Fah5x"
      },
      "source": [
        "from sklearn.ensemble import RandomForestClassifier\n",
        "\n",
        "# We define the model\n",
        "rfcla = RandomForestClassifier(n_estimators=100,random_state=9,n_jobs=-1)\n",
        "\n",
        "# We train model\n",
        "rfcla.fit(X_train, Y_train)\n",
        "\n",
        "# We predict target values\n",
        "Y_predict5 = rfcla.predict(X_test)"
      ],
      "execution_count": 93,
      "outputs": []
    },
    {
      "cell_type": "code",
      "metadata": {
        "execution": {
          "iopub.execute_input": "2020-09-06T03:42:43.183614Z",
          "iopub.status.busy": "2020-09-06T03:42:43.182828Z",
          "iopub.status.idle": "2020-09-06T03:42:43.403217Z",
          "shell.execute_reply": "2020-09-06T03:42:43.402559Z"
        },
        "papermill": {
          "duration": 0.246184,
          "end_time": "2020-09-06T03:42:43.403360",
          "exception": false,
          "start_time": "2020-09-06T03:42:43.157176",
          "status": "completed"
        },
        "tags": [],
        "colab": {
          "base_uri": "https://localhost:8080/",
          "height": 350
        },
        "id": "Xof3ShRJah5y",
        "outputId": "1b0362e5-20cc-40ac-ca90-5e9ce733a5f4"
      },
      "source": [
        "# The confusion matrix\n",
        "rfcla_cm = confusion_matrix(Y_test, Y_predict5)\n",
        "f, ax = plt.subplots(figsize=(5,5))\n",
        "sns.heatmap(rfcla_cm, annot=True, linewidth=0.7, linecolor='black', fmt='g', ax=ax, cmap=\"BuPu\")\n",
        "plt.title('Random Forest Classification Confusion Matrix')\n",
        "plt.xlabel('Y predict')\n",
        "plt.ylabel('Y test')\n",
        "plt.show()"
      ],
      "execution_count": 94,
      "outputs": [
        {
          "output_type": "display_data",
          "data": {
            "image/png": "[encoded data removed]",
            "text/plain": [
              "<Figure size 360x360 with 2 Axes>"
            ]
          },
          "metadata": {
            "needs_background": "light"
          }
        }
      ]
    },
    {
      "cell_type": "code",
      "metadata": {
        "execution": {
          "iopub.execute_input": "2020-09-06T03:42:43.449850Z",
          "iopub.status.busy": "2020-09-06T03:42:43.448460Z",
          "iopub.status.idle": "2020-09-06T03:42:43.662818Z",
          "shell.execute_reply": "2020-09-06T03:42:43.662069Z"
        },
        "papermill": {
          "duration": 0.241116,
          "end_time": "2020-09-06T03:42:43.662961",
          "exception": false,
          "start_time": "2020-09-06T03:42:43.421845",
          "status": "completed"
        },
        "tags": [],
        "colab": {
          "base_uri": "https://localhost:8080/"
        },
        "id": "4ZSkBfGHah5y",
        "outputId": "81d18041-b550-4a42-8fd7-d22c5e6e5b12"
      },
      "source": [
        "# Test score\n",
        "score_rfcla = rfcla.score(X_test, Y_test)\n",
        "print(score_rfcla)"
      ],
      "execution_count": 95,
      "outputs": [
        {
          "output_type": "stream",
          "name": "stdout",
          "text": [
            "0.7194906953966699\n"
          ]
        }
      ]
    },
    {
      "cell_type": "code",
      "metadata": {
        "id": "kX30L8BPpzem"
      },
      "source": [
        "TruePositive=rfcla_cm[0][0]\n",
        "FalsePositive=rfcla_cm[0][1]\n",
        "FalseNegative=rfcla_cm[1][0]\n",
        "TrueNegative=rfcla_cm[1][1]"
      ],
      "execution_count": 124,
      "outputs": []
    },
    {
      "cell_type": "code",
      "metadata": {
        "colab": {
          "base_uri": "https://localhost:8080/"
        },
        "id": "mn0R49LgqCaH",
        "outputId": "e97bf1e6-f729-44cd-acac-ce4aa1e4c7b7"
      },
      "source": [
        "Accuracy=((TruePositive+TrueNegative) / (TruePositive + TrueNegative + FalseNegative + FalsePositive))\n",
        "Accuracy"
      ],
      "execution_count": 125,
      "outputs": [
        {
          "output_type": "execute_result",
          "data": {
            "text/plain": [
              "0.7194906953966699"
            ]
          },
          "metadata": {},
          "execution_count": 125
        }
      ]
    },
    {
      "cell_type": "code",
      "metadata": {
        "colab": {
          "base_uri": "https://localhost:8080/"
        },
        "id": "-LriOmdHqEZY",
        "outputId": "fcd65b48-df3f-4455-a4f7-acd47b5970bc"
      },
      "source": [
        "Precision=TruePositive / ( TruePositive + FalsePositive)\n",
        "Precision"
      ],
      "execution_count": 126,
      "outputs": [
        {
          "output_type": "execute_result",
          "data": {
            "text/plain": [
              "0.980291502429187"
            ]
          },
          "metadata": {},
          "execution_count": 126
        }
      ]
    },
    {
      "cell_type": "code",
      "metadata": {
        "colab": {
          "base_uri": "https://localhost:8080/"
        },
        "id": "NSEzQzXkqIQw",
        "outputId": "250f79ad-74df-48b1-f858-96ae24f86fbb"
      },
      "source": [
        "Recall=TruePositive/(TruePositive+FalseNegative)\n",
        "Recall"
      ],
      "execution_count": 127,
      "outputs": [
        {
          "output_type": "execute_result",
          "data": {
            "text/plain": [
              "0.7237901861252115"
            ]
          },
          "metadata": {},
          "execution_count": 127
        }
      ]
    },
    {
      "cell_type": "code",
      "metadata": {
        "colab": {
          "base_uri": "https://localhost:8080/"
        },
        "id": "k127Tgt_qLfo",
        "outputId": "a3ec9efd-8590-480a-a2cf-a91d9b36ee51"
      },
      "source": [
        "F1=2*((Precision * Recall))/(Precision+Recall)\n",
        "F1"
      ],
      "execution_count": 128,
      "outputs": [
        {
          "output_type": "execute_result",
          "data": {
            "text/plain": [
              "0.8327363339043764"
            ]
          },
          "metadata": {},
          "execution_count": 128
        }
      ]
    },
    {
      "cell_type": "markdown",
      "metadata": {
        "papermill": {
          "duration": 0.018483,
          "end_time": "2020-09-06T03:42:43.700445",
          "exception": false,
          "start_time": "2020-09-06T03:42:43.681962",
          "status": "completed"
        },
        "tags": [],
        "id": "r5mm08_hah5y"
      },
      "source": [
        "## Naive bayes classification\n"
      ]
    },
    {
      "cell_type": "code",
      "metadata": {
        "execution": {
          "iopub.execute_input": "2020-09-06T03:42:43.743949Z",
          "iopub.status.busy": "2020-09-06T03:42:43.743112Z",
          "iopub.status.idle": "2020-09-06T03:42:43.813302Z",
          "shell.execute_reply": "2020-09-06T03:42:43.812484Z"
        },
        "papermill": {
          "duration": 0.094471,
          "end_time": "2020-09-06T03:42:43.813430",
          "exception": false,
          "start_time": "2020-09-06T03:42:43.718959",
          "status": "completed"
        },
        "tags": [],
        "id": "KEjmlEWiah5y"
      },
      "source": [
        "from sklearn.naive_bayes import GaussianNB\n",
        "\n",
        "# We define the model\n",
        "nbcla = GaussianNB()\n",
        "\n",
        "# We train model\n",
        "nbcla.fit(X_train, Y_train)\n",
        "\n",
        "# We predict target values\n",
        "Y_predict3 = nbcla.predict(X_test)"
      ],
      "execution_count": 96,
      "outputs": []
    },
    {
      "cell_type": "code",
      "metadata": {
        "execution": {
          "iopub.execute_input": "2020-09-06T03:42:43.860514Z",
          "iopub.status.busy": "2020-09-06T03:42:43.859385Z",
          "iopub.status.idle": "2020-09-06T03:42:44.077812Z",
          "shell.execute_reply": "2020-09-06T03:42:44.077027Z"
        },
        "papermill": {
          "duration": 0.245462,
          "end_time": "2020-09-06T03:42:44.077945",
          "exception": false,
          "start_time": "2020-09-06T03:42:43.832483",
          "status": "completed"
        },
        "tags": [],
        "colab": {
          "base_uri": "https://localhost:8080/",
          "height": 350
        },
        "id": "oUvrlJkUah5y",
        "outputId": "935fc043-29d7-4b92-acde-cda6e62baa06"
      },
      "source": [
        "# The confusion matrix\n",
        "nbcla_cm = confusion_matrix(Y_test, Y_predict3)\n",
        "f, ax = plt.subplots(figsize=(5,5))\n",
        "sns.heatmap(nbcla_cm, annot=True, linewidth=0.7, linecolor='black', fmt='g', ax=ax, cmap=\"BuPu\")\n",
        "plt.title('Naive Bayes Classification Confusion Matrix')\n",
        "plt.xlabel('Y predict')\n",
        "plt.ylabel('Y test')\n",
        "plt.show()"
      ],
      "execution_count": 97,
      "outputs": [
        {
          "output_type": "display_data",
          "data": {
            "image/png": "[encoded data removed]",
            "text/plain": [
              "<Figure size 360x360 with 2 Axes>"
            ]
          },
          "metadata": {
            "needs_background": "light"
          }
        }
      ]
    },
    {
      "cell_type": "code",
      "metadata": {
        "execution": {
          "iopub.execute_input": "2020-09-06T03:42:44.125557Z",
          "iopub.status.busy": "2020-09-06T03:42:44.123919Z",
          "iopub.status.idle": "2020-09-06T03:42:44.140261Z",
          "shell.execute_reply": "2020-09-06T03:42:44.141120Z"
        },
        "papermill": {
          "duration": 0.044683,
          "end_time": "2020-09-06T03:42:44.141382",
          "exception": false,
          "start_time": "2020-09-06T03:42:44.096699",
          "status": "completed"
        },
        "tags": [],
        "colab": {
          "base_uri": "https://localhost:8080/"
        },
        "id": "onB1LOq_ah5z",
        "outputId": "afcd59dc-9def-40c0-e3f6-c699f48abcfd"
      },
      "source": [
        "# Test score\n",
        "score_nbcla = nbcla.score(X_test, Y_test)\n",
        "print(score_nbcla)"
      ],
      "execution_count": 98,
      "outputs": [
        {
          "output_type": "stream",
          "name": "stdout",
          "text": [
            "0.6878876918054195\n"
          ]
        }
      ]
    },
    {
      "cell_type": "code",
      "metadata": {
        "id": "5x6rWNE3qVPN"
      },
      "source": [
        "TruePositive=nbcla_cm[0][0]\n",
        "FalsePositive=nbcla_cm[0][1]\n",
        "FalseNegative=nbcla_cm[1][0]\n",
        "TrueNegative=nbcla_cm[1][1]"
      ],
      "execution_count": 129,
      "outputs": []
    },
    {
      "cell_type": "code",
      "metadata": {
        "colab": {
          "base_uri": "https://localhost:8080/"
        },
        "id": "F6wMeG-jqdu8",
        "outputId": "6f850878-5892-4fcd-c3a9-c0b82a296a0f"
      },
      "source": [
        "Accuracy=((TruePositive+TrueNegative) / (TruePositive + TrueNegative + FalseNegative + FalsePositive))\n",
        "Accuracy"
      ],
      "execution_count": 130,
      "outputs": [
        {
          "output_type": "execute_result",
          "data": {
            "text/plain": [
              "0.6878876918054195"
            ]
          },
          "metadata": {},
          "execution_count": 130
        }
      ]
    },
    {
      "cell_type": "code",
      "metadata": {
        "colab": {
          "base_uri": "https://localhost:8080/"
        },
        "id": "7YVGEGuVqdu9",
        "outputId": "de7b0261-329e-4b42-88be-d47f9a7a80eb"
      },
      "source": [
        "Precision=TruePositive / ( TruePositive + FalsePositive)\n",
        "Precision"
      ],
      "execution_count": 131,
      "outputs": [
        {
          "output_type": "execute_result",
          "data": {
            "text/plain": [
              "0.9129159409661747"
            ]
          },
          "metadata": {},
          "execution_count": 131
        }
      ]
    },
    {
      "cell_type": "code",
      "metadata": {
        "colab": {
          "base_uri": "https://localhost:8080/"
        },
        "id": "y4ma8HuJqdu9",
        "outputId": "b7cb7f2d-9429-4c18-e9ae-4fac0a6410f2"
      },
      "source": [
        "Recall=TruePositive/(TruePositive+FalseNegative)\n",
        "Recall"
      ],
      "execution_count": 132,
      "outputs": [
        {
          "output_type": "execute_result",
          "data": {
            "text/plain": [
              "0.7222423671042135"
            ]
          },
          "metadata": {},
          "execution_count": 132
        }
      ]
    },
    {
      "cell_type": "code",
      "metadata": {
        "colab": {
          "base_uri": "https://localhost:8080/"
        },
        "id": "6RbRzRP2qdu-",
        "outputId": "2eb3e446-9589-418a-98ab-d8208b7631c6"
      },
      "source": [
        "F1=2*((Precision * Recall))/(Precision+Recall)\n",
        "F1"
      ],
      "execution_count": 133,
      "outputs": [
        {
          "output_type": "execute_result",
          "data": {
            "text/plain": [
              "0.8064620617054011"
            ]
          },
          "metadata": {},
          "execution_count": 133
        }
      ]
    },
    {
      "cell_type": "markdown",
      "metadata": {
        "papermill": {
          "duration": 0.018388,
          "end_time": "2020-09-06T03:42:44.179629",
          "exception": false,
          "start_time": "2020-09-06T03:42:44.161241",
          "status": "completed"
        },
        "tags": [],
        "id": "X2IIR59Dah5z"
      },
      "source": [
        "# Comparison of classification techniques"
      ]
    },
    {
      "cell_type": "markdown",
      "metadata": {
        "papermill": {
          "duration": 0.019185,
          "end_time": "2020-09-06T03:42:44.218195",
          "exception": false,
          "start_time": "2020-09-06T03:42:44.199010",
          "status": "completed"
        },
        "tags": [],
        "id": "UgYcNqZbah5z"
      },
      "source": [
        "# Test score\n"
      ]
    },
    {
      "cell_type": "code",
      "metadata": {
        "execution": {
          "iopub.execute_input": "2020-09-06T03:42:44.265683Z",
          "iopub.status.busy": "2020-09-06T03:42:44.264744Z",
          "iopub.status.idle": "2020-09-06T03:42:44.269720Z",
          "shell.execute_reply": "2020-09-06T03:42:44.270691Z"
        },
        "papermill": {
          "duration": 0.033406,
          "end_time": "2020-09-06T03:42:44.270935",
          "exception": false,
          "start_time": "2020-09-06T03:42:44.237529",
          "status": "completed"
        },
        "tags": [],
        "colab": {
          "base_uri": "https://localhost:8080/"
        },
        "id": "JlAutVx3ah5z",
        "outputId": "3277fedb-e068-4cee-ce80-a972335622ae"
      },
      "source": [
        "Testscores = pd.Series([score_rfcla,score_nbcla,score_lr ], \n",
        "                        index=['Random Forest Score','Naive Bayes Score','Logistic Regression' ]) \n",
        "print(Testscores)"
      ],
      "execution_count": 99,
      "outputs": [
        {
          "output_type": "stream",
          "name": "stdout",
          "text": [
            "Random Forest Score    0.719491\n",
            "Naive Bayes Score      0.687888\n",
            "Logistic Regression    0.712308\n",
            "dtype: float64\n"
          ]
        }
      ]
    },
    {
      "cell_type": "markdown",
      "metadata": {
        "papermill": {
          "duration": 0.018828,
          "end_time": "2020-09-06T03:42:44.309875",
          "exception": false,
          "start_time": "2020-09-06T03:42:44.291047",
          "status": "completed"
        },
        "tags": [],
        "id": "z-j2uz5bah5z"
      },
      "source": [
        "# ROC Curve\n",
        "is a graphical plot that illustrates the diagnostic ability of a binary classifier system as its discrimination threshold is varied."
      ]
    },
    {
      "cell_type": "code",
      "metadata": {
        "execution": {
          "iopub.execute_input": "2020-09-06T03:42:44.369331Z",
          "iopub.status.busy": "2020-09-06T03:42:44.367887Z",
          "iopub.status.idle": "2020-09-06T03:42:44.949818Z",
          "shell.execute_reply": "2020-09-06T03:42:44.948769Z"
        },
        "papermill": {
          "duration": 0.621102,
          "end_time": "2020-09-06T03:42:44.950016",
          "exception": false,
          "start_time": "2020-09-06T03:42:44.328914",
          "status": "completed"
        },
        "tags": [],
        "colab": {
          "base_uri": "https://localhost:8080/",
          "height": 423
        },
        "id": "2IB764dnah50",
        "outputId": "7ce575c9-fe91-4721-dba5-b3a6966389b6"
      },
      "source": [
        "from sklearn.metrics import roc_curve\n",
        "# Random Forest Classification\n",
        "Y_predict5_proba = rfcla.predict_proba(X_test)\n",
        "Y_predict5_proba = Y_predict5_proba[:, 1]\n",
        "fpr, tpr, thresholds = roc_curve(Y_test, Y_predict5_proba)\n",
        "plt.subplot(331)\n",
        "plt.plot([0,1],[0,1],'k--')\n",
        "plt.plot(fpr,tpr, label='ANN')\n",
        "plt.xlabel('fpr')\n",
        "plt.ylabel('tpr')\n",
        "plt.title('ROC Curve Random Forest')\n",
        "plt.grid(True)\n",
        "plt.subplots_adjust(top=2, bottom=0.08, left=0.10, right=1.4, hspace=0.45, wspace=0.45)\n",
        "plt.show()\n",
        "\n",
        "# Naive Bayes Classification\n",
        "Y_predict3_proba = nbcla.predict_proba(X_test)\n",
        "Y_predict3_proba = Y_predict3_proba[:, 1]\n",
        "fpr, tpr, thresholds = roc_curve(Y_test, Y_predict3_proba)\n",
        "plt.subplot(332)\n",
        "plt.plot([0,1],[0,1],'k--')\n",
        "plt.plot(fpr,tpr, label='ANN')\n",
        "plt.xlabel('fpr')\n",
        "plt.ylabel('tpr')\n",
        "plt.title('ROC Curve Naive Bayes')\n",
        "plt.grid(True)\n",
        "plt.subplots_adjust(top=2, bottom=0.08, left=0.10, right=1.4, hspace=0.45, wspace=0.45)\n",
        "plt.show()\n"
      ],
      "execution_count": 100,
      "outputs": [
        {
          "output_type": "display_data",
          "data": {
            "image/png": "[encoded data removed]",
            "text/plain": [
              "<Figure size 432x288 with 1 Axes>"
            ]
          },
          "metadata": {
            "needs_background": "light"
          }
        },
        {
          "output_type": "display_data",
          "data": {
            "image/png": "[encoded data removed]",
            "text/plain": [
              "<Figure size 432x288 with 1 Axes>"
            ]
          },
          "metadata": {
            "needs_background": "light"
          }
        }
      ]
    },
    {
      "cell_type": "markdown",
      "metadata": {
        "papermill": {
          "duration": 0.019972,
          "end_time": "2020-09-06T03:42:45.033219",
          "exception": false,
          "start_time": "2020-09-06T03:42:45.013247",
          "status": "completed"
        },
        "tags": [],
        "id": "Z3Cj7wbTah50"
      },
      "source": [
        "Random Forest perform better than Naive Bayes. Random Forest can handle categorical features very well and it can handle high dimensional spaces as well as a large number of training examples. I guess Naive Bayes is not good enough to represent complex behavior."
      ]
    },
    {
      "cell_type": "markdown",
      "metadata": {
        "id": "ppUahqYL-UnX"
      },
      "source": [
        "## Q4.3 Identify most important features impacting churn"
      ]
    },
    {
      "cell_type": "code",
      "metadata": {
        "colab": {
          "base_uri": "https://localhost:8080/"
        },
        "id": "j962_ztj-UAQ",
        "outputId": "68816b0c-f34f-4120-88fd-f61f8d221c4a"
      },
      "source": [
        "print(pd.Series(rfcla.feature_importances_, index=X_train.columns))"
      ],
      "execution_count": 135,
      "outputs": [
        {
          "output_type": "stream",
          "name": "stdout",
          "text": [
            "CustomerID                   0.046291\n",
            "MonthlyRevenue               0.043021\n",
            "MonthlyMinutes               0.046770\n",
            "TotalRecurringCharge         0.029975\n",
            "DirectorAssistedCalls        0.006223\n",
            "OverageMinutes               0.026255\n",
            "RoamingCalls                 0.018326\n",
            "PercChangeMinutes            0.047390\n",
            "PercChangeRevenues           0.041329\n",
            "DroppedCalls                 0.028852\n",
            "BlockedCalls                 0.024535\n",
            "UnansweredCalls              0.035094\n",
            "CustomerCareCalls            0.018194\n",
            "ThreewayCalls                0.010115\n",
            "ReceivedCalls                0.034685\n",
            "OutboundCalls                0.033477\n",
            "InboundCalls                 0.025912\n",
            "PeakCallsInOut               0.036611\n",
            "OffPeakCallsInOut            0.036081\n",
            "DroppedBlockedCalls          0.030357\n",
            "CallForwardingCalls          0.000602\n",
            "CallWaitingCalls             0.016587\n",
            "MonthsInService              0.038298\n",
            "UniqueSubs                   0.006383\n",
            "ActiveSubs                   0.008519\n",
            "ServiceArea                  0.041073\n",
            "Handsets                     0.008978\n",
            "HandsetModels                0.007198\n",
            "CurrentEquipmentDays         0.055180\n",
            "AgeHH1                       0.026242\n",
            "AgeHH2                       0.019832\n",
            "ChildrenInHH                 0.004789\n",
            "HandsetRefurbished           0.004990\n",
            "HandsetWebCapable            0.004625\n",
            "TruckOwner                   0.004431\n",
            "RVOwner                      0.003052\n",
            "Homeownership                0.004398\n",
            "BuysViaMailOrder             0.004138\n",
            "RespondsToMailOffers         0.004460\n",
            "OptOutMailings               0.001338\n",
            "NonUSTravel                  0.002526\n",
            "OwnsComputer                 0.004489\n",
            "HasCreditCard                0.004200\n",
            "RetentionCalls               0.002978\n",
            "RetentionOffersAccepted      0.000995\n",
            "NewCellphoneUser             0.005309\n",
            "NotNewCellphoneUser          0.004907\n",
            "ReferralsMadeBySubscriber    0.002854\n",
            "IncomeGroup                  0.019728\n",
            "OwnsMotorcycle               0.001195\n",
            "AdjustmentsToCreditRating    0.002276\n",
            "HandsetPrice                 0.011570\n",
            "MadeCallToRetentionTeam      0.002609\n",
            "CreditRating                 0.017888\n",
            "PrizmCode                    0.012608\n",
            "Occupation                   0.010099\n",
            "MaritalStatus                0.009161\n",
            "dtype: float64\n"
          ]
        }
      ]
    },
    {
      "cell_type": "markdown",
      "metadata": {
        "id": "_1Ch6QVNtm6j"
      },
      "source": [
        "## Q5. Use the hold out data provided to predict churners using the best model identified in step 4 "
      ]
    },
    {
      "cell_type": "code",
      "metadata": {
        "colab": {
          "base_uri": "https://localhost:8080/",
          "height": 816
        },
        "id": "G12VzBGZquzE",
        "outputId": "df14d7e6-f9aa-4832-e391-3143d541bc64"
      },
      "source": [
        "plt.figure(figsize=(10, 10), dpi=80)\n",
        "pd.Series(rfcla.feature_importances_, index=X_train.columns).plot(kind ='bar')"
      ],
      "execution_count": 141,
      "outputs": [
        {
          "output_type": "execute_result",
          "data": {
            "text/plain": [
              "<matplotlib.axes._subplots.AxesSubplot at 0x7f7012ba2ed0>"
            ]
          },
          "metadata": {},
          "execution_count": 141
        },
        {
          "output_type": "display_data",
          "data": {
            "image/png": "[encoded data removed]",
            "text/plain": [
              "<Figure size 800x800 with 1 Axes>"
            ]
          },
          "metadata": {
            "needs_background": "light"
          }
        }
      ]
    },
    {
      "cell_type": "code",
      "metadata": {
        "colab": {
          "base_uri": "https://localhost:8080/",
          "height": 283
        },
        "id": "ZLOf06jms_jl",
        "outputId": "deaf2f01-ea00-467e-c889-0ea49936c295"
      },
      "source": [
        "pd.Series(rfcla.feature_importances_, index=X_train.columns).nlargest(20).plot(kind='barh')"
      ],
      "execution_count": 140,
      "outputs": [
        {
          "output_type": "execute_result",
          "data": {
            "text/plain": [
              "<matplotlib.axes._subplots.AxesSubplot at 0x7f700c880450>"
            ]
          },
          "metadata": {},
          "execution_count": 140
        },
        {
          "output_type": "display_data",
          "data": {
            "image/png": "[encoded data removed]",
            "text/plain": [
              "<Figure size 432x288 with 1 Axes>"
            ]
          },
          "metadata": {
            "needs_background": "light"
          }
        }
      ]
    }
  ]
}