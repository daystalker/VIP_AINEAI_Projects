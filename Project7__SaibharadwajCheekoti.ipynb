{
  "nbformat": 4,
  "nbformat_minor": 0,
  "metadata": {
    "kernelspec": {
      "display_name": "Python 3",
      "language": "python",
      "name": "python3"
    },
    "language_info": {
      "codemirror_mode": {
        "name": "ipython",
        "version": 3
      },
      "file_extension": ".py",
      "mimetype": "text/x-python",
      "name": "python",
      "nbconvert_exporter": "python",
      "pygments_lexer": "ipython3",
      "version": "3.8.5"
    },
    "colab": {
      "name": "VIP_AINEAI_Project7 _SaibharadwajCheekoti.ipynb",
      "provenance": [],
      "collapsed_sections": []
    }
  },
  "cells": [
    {
      "cell_type": "markdown",
      "metadata": {
        "id": "kv-TcsXdiSZp"
      },
      "source": [
        "# Project 7: Statistical Analysis and Hypothesis Testing"
      ]
    },
    {
      "cell_type": "markdown",
      "metadata": {
        "id": "gi9x4HR1iSZp"
      },
      "source": [
        "## Packages and setup"
      ]
    },
    {
      "cell_type": "code",
      "metadata": {
        "id": "NdQrrUh3iSZq"
      },
      "source": [
        "import numpy as np\n",
        "import pandas as pd\n",
        "import seaborn as sns\n",
        "import matplotlib.pyplot as plt\n",
        "import os\n",
        "\n",
        "from scipy.stats import shapiro\n",
        "import scipy.stats as stats\n",
        "\n",
        "#parameter settings\n",
        "from IPython.core.interactiveshell import InteractiveShell\n",
        "InteractiveShell.ast_node_interactivity = \"all\"\n",
        "import warnings\n",
        "warnings.filterwarnings(\"ignore\")\n",
        "warnings.simplefilter(action='ignore', category=FutureWarning)"
      ],
      "execution_count": 1,
      "outputs": []
    },
    {
      "cell_type": "markdown",
      "metadata": {
        "id": "qqf_XDwZiSZq"
      },
      "source": [
        "### Reading data and initial processing"
      ]
    },
    {
      "cell_type": "code",
      "metadata": {
        "colab": {
          "base_uri": "https://localhost:8080/"
        },
        "id": "f9e2u5M78Hkh",
        "outputId": "538b3d68-8d59-4970-a22a-de0cd79c2a64"
      },
      "source": [
        "from google.colab import drive\n",
        "drive.mount('/content/drive')"
      ],
      "execution_count": 2,
      "outputs": [
        {
          "output_type": "stream",
          "name": "stdout",
          "text": [
            "Mounted at /content/drive\n"
          ]
        }
      ]
    },
    {
      "cell_type": "code",
      "metadata": {
        "id": "OE839ZtOiSZr",
        "colab": {
          "base_uri": "https://localhost:8080/",
          "height": 352
        },
        "outputId": "3acc0a9b-7f48-4690-a39d-69a7688c8018"
      },
      "source": [
        "#Read data using pandas\n",
        "user_df = pd.read_csv(r'/content/drive/MyDrive/VIP/Cookie-Cats/cookie_cats.csv')\n",
        "\n",
        "#Check data types of each column using \"dtypes\" function\n",
        "print(\"Data types for the data set:\")\n",
        "user_df.dtypes\n",
        "\n",
        "#Check dimension of data i.e. # of rows and #column using pandas \"shape\" funtion\n",
        "print(\"Shape of the data i.e. no. of rows and columns\")\n",
        "user_df.shape\n",
        "\n",
        "#display first 5 rows of the data using \"head\" function\n",
        "print(\"First 5 rows of the raw data:\")\n",
        "user_df.head(5)"
      ],
      "execution_count": 3,
      "outputs": [
        {
          "output_type": "stream",
          "name": "stdout",
          "text": [
            "Data types for the data set:\n"
          ]
        },
        {
          "output_type": "execute_result",
          "data": {
            "text/plain": [
              "userid             int64\n",
              "version           object\n",
              "sum_gamerounds     int64\n",
              "retention_1         bool\n",
              "retention_7         bool\n",
              "dtype: object"
            ]
          },
          "metadata": {},
          "execution_count": 3
        },
        {
          "output_type": "stream",
          "name": "stdout",
          "text": [
            "Shape of the data i.e. no. of rows and columns\n"
          ]
        },
        {
          "output_type": "execute_result",
          "data": {
            "text/plain": [
              "(90189, 5)"
            ]
          },
          "metadata": {},
          "execution_count": 3
        },
        {
          "output_type": "stream",
          "name": "stdout",
          "text": [
            "First 5 rows of the raw data:\n"
          ]
        },
        {
          "output_type": "execute_result",
          "data": {
            "text/html": [
              "<div>\n",
              "<style scoped>\n",
              "    .dataframe tbody tr th:only-of-type {\n",
              "        vertical-align: middle;\n",
              "    }\n",
              "\n",
              "    .dataframe tbody tr th {\n",
              "        vertical-align: top;\n",
              "    }\n",
              "\n",
              "    .dataframe thead th {\n",
              "        text-align: right;\n",
              "    }\n",
              "</style>\n",
              "<table border=\"1\" class=\"dataframe\">\n",
              "  <thead>\n",
              "    <tr style=\"text-align: right;\">\n",
              "      <th></th>\n",
              "      <th>userid</th>\n",
              "      <th>version</th>\n",
              "      <th>sum_gamerounds</th>\n",
              "      <th>retention_1</th>\n",
              "      <th>retention_7</th>\n",
              "    </tr>\n",
              "  </thead>\n",
              "  <tbody>\n",
              "    <tr>\n",
              "      <th>0</th>\n",
              "      <td>116</td>\n",
              "      <td>gate_30</td>\n",
              "      <td>3</td>\n",
              "      <td>False</td>\n",
              "      <td>False</td>\n",
              "    </tr>\n",
              "    <tr>\n",
              "      <th>1</th>\n",
              "      <td>337</td>\n",
              "      <td>gate_30</td>\n",
              "      <td>38</td>\n",
              "      <td>True</td>\n",
              "      <td>False</td>\n",
              "    </tr>\n",
              "    <tr>\n",
              "      <th>2</th>\n",
              "      <td>377</td>\n",
              "      <td>gate_40</td>\n",
              "      <td>165</td>\n",
              "      <td>True</td>\n",
              "      <td>False</td>\n",
              "    </tr>\n",
              "    <tr>\n",
              "      <th>3</th>\n",
              "      <td>483</td>\n",
              "      <td>gate_40</td>\n",
              "      <td>1</td>\n",
              "      <td>False</td>\n",
              "      <td>False</td>\n",
              "    </tr>\n",
              "    <tr>\n",
              "      <th>4</th>\n",
              "      <td>488</td>\n",
              "      <td>gate_40</td>\n",
              "      <td>179</td>\n",
              "      <td>True</td>\n",
              "      <td>True</td>\n",
              "    </tr>\n",
              "  </tbody>\n",
              "</table>\n",
              "</div>"
            ],
            "text/plain": [
              "   userid  version  sum_gamerounds  retention_1  retention_7\n",
              "0     116  gate_30               3        False        False\n",
              "1     337  gate_30              38         True        False\n",
              "2     377  gate_40             165         True        False\n",
              "3     483  gate_40               1        False        False\n",
              "4     488  gate_40             179         True         True"
            ]
          },
          "metadata": {},
          "execution_count": 3
        }
      ]
    },
    {
      "cell_type": "markdown",
      "metadata": {
        "id": "hMuveQlXiSZr"
      },
      "source": [
        "## Exercise"
      ]
    },
    {
      "cell_type": "markdown",
      "metadata": {
        "id": "iN8-hwHDiSZs"
      },
      "source": [
        "## Q1. Detect and resolve problems in the data (Missing value, Outliers, etc.)"
      ]
    },
    {
      "cell_type": "markdown",
      "metadata": {
        "id": "h_ZnLazliSZs"
      },
      "source": [
        "### Q1.1 Identify missing value"
      ]
    },
    {
      "cell_type": "code",
      "metadata": {
        "id": "g0YE1IjfiSZs",
        "colab": {
          "base_uri": "https://localhost:8080/",
          "height": 423
        },
        "outputId": "f8c627bc-bccb-4347-8dae-960adff4d697"
      },
      "source": [
        "#Check for any missing values in the data using isnull() function\n",
        "\n",
        "user_df.isnull()\n"
      ],
      "execution_count": 4,
      "outputs": [
        {
          "output_type": "execute_result",
          "data": {
            "text/html": [
              "<div>\n",
              "<style scoped>\n",
              "    .dataframe tbody tr th:only-of-type {\n",
              "        vertical-align: middle;\n",
              "    }\n",
              "\n",
              "    .dataframe tbody tr th {\n",
              "        vertical-align: top;\n",
              "    }\n",
              "\n",
              "    .dataframe thead th {\n",
              "        text-align: right;\n",
              "    }\n",
              "</style>\n",
              "<table border=\"1\" class=\"dataframe\">\n",
              "  <thead>\n",
              "    <tr style=\"text-align: right;\">\n",
              "      <th></th>\n",
              "      <th>userid</th>\n",
              "      <th>version</th>\n",
              "      <th>sum_gamerounds</th>\n",
              "      <th>retention_1</th>\n",
              "      <th>retention_7</th>\n",
              "    </tr>\n",
              "  </thead>\n",
              "  <tbody>\n",
              "    <tr>\n",
              "      <th>0</th>\n",
              "      <td>False</td>\n",
              "      <td>False</td>\n",
              "      <td>False</td>\n",
              "      <td>False</td>\n",
              "      <td>False</td>\n",
              "    </tr>\n",
              "    <tr>\n",
              "      <th>1</th>\n",
              "      <td>False</td>\n",
              "      <td>False</td>\n",
              "      <td>False</td>\n",
              "      <td>False</td>\n",
              "      <td>False</td>\n",
              "    </tr>\n",
              "    <tr>\n",
              "      <th>2</th>\n",
              "      <td>False</td>\n",
              "      <td>False</td>\n",
              "      <td>False</td>\n",
              "      <td>False</td>\n",
              "      <td>False</td>\n",
              "    </tr>\n",
              "    <tr>\n",
              "      <th>3</th>\n",
              "      <td>False</td>\n",
              "      <td>False</td>\n",
              "      <td>False</td>\n",
              "      <td>False</td>\n",
              "      <td>False</td>\n",
              "    </tr>\n",
              "    <tr>\n",
              "      <th>4</th>\n",
              "      <td>False</td>\n",
              "      <td>False</td>\n",
              "      <td>False</td>\n",
              "      <td>False</td>\n",
              "      <td>False</td>\n",
              "    </tr>\n",
              "    <tr>\n",
              "      <th>...</th>\n",
              "      <td>...</td>\n",
              "      <td>...</td>\n",
              "      <td>...</td>\n",
              "      <td>...</td>\n",
              "      <td>...</td>\n",
              "    </tr>\n",
              "    <tr>\n",
              "      <th>90184</th>\n",
              "      <td>False</td>\n",
              "      <td>False</td>\n",
              "      <td>False</td>\n",
              "      <td>False</td>\n",
              "      <td>False</td>\n",
              "    </tr>\n",
              "    <tr>\n",
              "      <th>90185</th>\n",
              "      <td>False</td>\n",
              "      <td>False</td>\n",
              "      <td>False</td>\n",
              "      <td>False</td>\n",
              "      <td>False</td>\n",
              "    </tr>\n",
              "    <tr>\n",
              "      <th>90186</th>\n",
              "      <td>False</td>\n",
              "      <td>False</td>\n",
              "      <td>False</td>\n",
              "      <td>False</td>\n",
              "      <td>False</td>\n",
              "    </tr>\n",
              "    <tr>\n",
              "      <th>90187</th>\n",
              "      <td>False</td>\n",
              "      <td>False</td>\n",
              "      <td>False</td>\n",
              "      <td>False</td>\n",
              "      <td>False</td>\n",
              "    </tr>\n",
              "    <tr>\n",
              "      <th>90188</th>\n",
              "      <td>False</td>\n",
              "      <td>False</td>\n",
              "      <td>False</td>\n",
              "      <td>False</td>\n",
              "      <td>False</td>\n",
              "    </tr>\n",
              "  </tbody>\n",
              "</table>\n",
              "<p>90189 rows × 5 columns</p>\n",
              "</div>"
            ],
            "text/plain": [
              "       userid  version  sum_gamerounds  retention_1  retention_7\n",
              "0       False    False           False        False        False\n",
              "1       False    False           False        False        False\n",
              "2       False    False           False        False        False\n",
              "3       False    False           False        False        False\n",
              "4       False    False           False        False        False\n",
              "...       ...      ...             ...          ...          ...\n",
              "90184   False    False           False        False        False\n",
              "90185   False    False           False        False        False\n",
              "90186   False    False           False        False        False\n",
              "90187   False    False           False        False        False\n",
              "90188   False    False           False        False        False\n",
              "\n",
              "[90189 rows x 5 columns]"
            ]
          },
          "metadata": {},
          "execution_count": 4
        }
      ]
    },
    {
      "cell_type": "code",
      "metadata": {
        "colab": {
          "base_uri": "https://localhost:8080/"
        },
        "id": "ngQDdcx_9XJN",
        "outputId": "d803ff3a-2307-47b6-cf2e-9e3189da312d"
      },
      "source": [
        "user_df.isnull().sum()"
      ],
      "execution_count": 5,
      "outputs": [
        {
          "output_type": "execute_result",
          "data": {
            "text/plain": [
              "userid            0\n",
              "version           0\n",
              "sum_gamerounds    0\n",
              "retention_1       0\n",
              "retention_7       0\n",
              "dtype: int64"
            ]
          },
          "metadata": {},
          "execution_count": 5
        }
      ]
    },
    {
      "cell_type": "markdown",
      "metadata": {
        "id": "9mn87Q0y9a6J"
      },
      "source": [
        "It returns '**False**' for all the rows, and it might be difficult to evaluate 90189 rows × 5 columns with naked eye!\n",
        "\n",
        "So, above statement returns sum/count of null values and here, it is '0' i.e, no NULL **VALUES**"
      ]
    },
    {
      "cell_type": "markdown",
      "metadata": {
        "id": "tMU_kjsiiSZs"
      },
      "source": [
        "### Q1.2 Identify outliers"
      ]
    },
    {
      "cell_type": "code",
      "metadata": {
        "id": "IMwNE8XBiSZt",
        "colab": {
          "base_uri": "https://localhost:8080/",
          "height": 313
        },
        "outputId": "dbd54079-f9c9-49ee-f3e9-17e00da75259"
      },
      "source": [
        "#Check for outlier values in sum_gamerounds column\n",
        "plt.title(\"Total gamerounds played\")\n",
        "plt.xlabel(\"Index\")\n",
        "plt.ylabel(\"sum_gamerounds\")\n",
        "plt.plot(user_df.sum_gamerounds)"
      ],
      "execution_count": 6,
      "outputs": [
        {
          "output_type": "execute_result",
          "data": {
            "text/plain": [
              "Text(0.5, 1.0, 'Total gamerounds played')"
            ]
          },
          "metadata": {},
          "execution_count": 6
        },
        {
          "output_type": "execute_result",
          "data": {
            "text/plain": [
              "Text(0.5, 0, 'Index')"
            ]
          },
          "metadata": {},
          "execution_count": 6
        },
        {
          "output_type": "execute_result",
          "data": {
            "text/plain": [
              "Text(0, 0.5, 'sum_gamerounds')"
            ]
          },
          "metadata": {},
          "execution_count": 6
        },
        {
          "output_type": "execute_result",
          "data": {
            "text/plain": [
              "[<matplotlib.lines.Line2D at 0x7fb6a35ed990>]"
            ]
          },
          "metadata": {},
          "execution_count": 6
        },
        {
          "output_type": "display_data",
          "data": {
            "image/png": "[encoded data removed]",
            "text/plain": [
              "<Figure size 432x288 with 1 Axes>"
            ]
          },
          "metadata": {
            "needs_background": "light"
          }
        }
      ]
    },
    {
      "cell_type": "markdown",
      "metadata": {
        "id": "zGys94T_9207"
      },
      "source": [
        "It is clearly evident that this has Outliers. and it is the highest value in the 'sum_gamerounds' column"
      ]
    },
    {
      "cell_type": "code",
      "metadata": {
        "colab": {
          "base_uri": "https://localhost:8080/"
        },
        "id": "CinrKgiG-bO5",
        "outputId": "1f4e785b-8f25-4c9e-c7ce-a3844bed5031"
      },
      "source": [
        "#Based on the plot, filter out the outlier from sum_gamerounds played; Use max() fucntion to find the index of the outlier\n",
        "\n",
        "user_df.sum_gamerounds.max()"
      ],
      "execution_count": 7,
      "outputs": [
        {
          "output_type": "execute_result",
          "data": {
            "text/plain": [
              "49854"
            ]
          },
          "metadata": {},
          "execution_count": 7
        }
      ]
    },
    {
      "cell_type": "code",
      "metadata": {
        "colab": {
          "base_uri": "https://localhost:8080/",
          "height": 442
        },
        "id": "YtSc5lee-dpc",
        "outputId": "09dc1c38-8b92-4331-c185-0985e443584e"
      },
      "source": [
        "#Let's use this maximum value/Outlier and find the exact record in our dataset and drop it\n",
        "\n",
        "outlierPoint = user_df.index[user_df[\"sum_gamerounds\"] == 49854]\n",
        "# Here I've hardcoded the value,but using the statement from above cell is prefered, if the data changes in this problem.\n",
        "print(outlierPoint)\n",
        "\n",
        "#dropping the outlier\n",
        "\n",
        "user_df= user_df.drop(index=outlierPoint)\n",
        "user_df\n"
      ],
      "execution_count": 8,
      "outputs": [
        {
          "output_type": "stream",
          "name": "stdout",
          "text": [
            "Int64Index([57702], dtype='int64')\n"
          ]
        },
        {
          "output_type": "execute_result",
          "data": {
            "text/html": [
              "<div>\n",
              "<style scoped>\n",
              "    .dataframe tbody tr th:only-of-type {\n",
              "        vertical-align: middle;\n",
              "    }\n",
              "\n",
              "    .dataframe tbody tr th {\n",
              "        vertical-align: top;\n",
              "    }\n",
              "\n",
              "    .dataframe thead th {\n",
              "        text-align: right;\n",
              "    }\n",
              "</style>\n",
              "<table border=\"1\" class=\"dataframe\">\n",
              "  <thead>\n",
              "    <tr style=\"text-align: right;\">\n",
              "      <th></th>\n",
              "      <th>userid</th>\n",
              "      <th>version</th>\n",
              "      <th>sum_gamerounds</th>\n",
              "      <th>retention_1</th>\n",
              "      <th>retention_7</th>\n",
              "    </tr>\n",
              "  </thead>\n",
              "  <tbody>\n",
              "    <tr>\n",
              "      <th>0</th>\n",
              "      <td>116</td>\n",
              "      <td>gate_30</td>\n",
              "      <td>3</td>\n",
              "      <td>False</td>\n",
              "      <td>False</td>\n",
              "    </tr>\n",
              "    <tr>\n",
              "      <th>1</th>\n",
              "      <td>337</td>\n",
              "      <td>gate_30</td>\n",
              "      <td>38</td>\n",
              "      <td>True</td>\n",
              "      <td>False</td>\n",
              "    </tr>\n",
              "    <tr>\n",
              "      <th>2</th>\n",
              "      <td>377</td>\n",
              "      <td>gate_40</td>\n",
              "      <td>165</td>\n",
              "      <td>True</td>\n",
              "      <td>False</td>\n",
              "    </tr>\n",
              "    <tr>\n",
              "      <th>3</th>\n",
              "      <td>483</td>\n",
              "      <td>gate_40</td>\n",
              "      <td>1</td>\n",
              "      <td>False</td>\n",
              "      <td>False</td>\n",
              "    </tr>\n",
              "    <tr>\n",
              "      <th>4</th>\n",
              "      <td>488</td>\n",
              "      <td>gate_40</td>\n",
              "      <td>179</td>\n",
              "      <td>True</td>\n",
              "      <td>True</td>\n",
              "    </tr>\n",
              "    <tr>\n",
              "      <th>...</th>\n",
              "      <td>...</td>\n",
              "      <td>...</td>\n",
              "      <td>...</td>\n",
              "      <td>...</td>\n",
              "      <td>...</td>\n",
              "    </tr>\n",
              "    <tr>\n",
              "      <th>90184</th>\n",
              "      <td>9999441</td>\n",
              "      <td>gate_40</td>\n",
              "      <td>97</td>\n",
              "      <td>True</td>\n",
              "      <td>False</td>\n",
              "    </tr>\n",
              "    <tr>\n",
              "      <th>90185</th>\n",
              "      <td>9999479</td>\n",
              "      <td>gate_40</td>\n",
              "      <td>30</td>\n",
              "      <td>False</td>\n",
              "      <td>False</td>\n",
              "    </tr>\n",
              "    <tr>\n",
              "      <th>90186</th>\n",
              "      <td>9999710</td>\n",
              "      <td>gate_30</td>\n",
              "      <td>28</td>\n",
              "      <td>True</td>\n",
              "      <td>False</td>\n",
              "    </tr>\n",
              "    <tr>\n",
              "      <th>90187</th>\n",
              "      <td>9999768</td>\n",
              "      <td>gate_40</td>\n",
              "      <td>51</td>\n",
              "      <td>True</td>\n",
              "      <td>False</td>\n",
              "    </tr>\n",
              "    <tr>\n",
              "      <th>90188</th>\n",
              "      <td>9999861</td>\n",
              "      <td>gate_40</td>\n",
              "      <td>16</td>\n",
              "      <td>False</td>\n",
              "      <td>False</td>\n",
              "    </tr>\n",
              "  </tbody>\n",
              "</table>\n",
              "<p>90188 rows × 5 columns</p>\n",
              "</div>"
            ],
            "text/plain": [
              "        userid  version  sum_gamerounds  retention_1  retention_7\n",
              "0          116  gate_30               3        False        False\n",
              "1          337  gate_30              38         True        False\n",
              "2          377  gate_40             165         True        False\n",
              "3          483  gate_40               1        False        False\n",
              "4          488  gate_40             179         True         True\n",
              "...        ...      ...             ...          ...          ...\n",
              "90184  9999441  gate_40              97         True        False\n",
              "90185  9999479  gate_40              30        False        False\n",
              "90186  9999710  gate_30              28         True        False\n",
              "90187  9999768  gate_40              51         True        False\n",
              "90188  9999861  gate_40              16        False        False\n",
              "\n",
              "[90188 rows x 5 columns]"
            ]
          },
          "metadata": {},
          "execution_count": 8
        }
      ]
    },
    {
      "cell_type": "code",
      "metadata": {
        "id": "XOdf6IaOiSZt",
        "colab": {
          "base_uri": "https://localhost:8080/",
          "height": 313
        },
        "outputId": "9800da09-ca0f-4635-9dcc-e920686feca6"
      },
      "source": [
        "#Plot the graph for sum_gamerounds player after removing the outlier\n",
        "#Let's take a look at new data plot after removing the outlier value\n",
        "\n",
        "plt.title(\"Total gamerounds played\")\n",
        "plt.xlabel(\"Index\")\n",
        "plt.ylabel(\"sum_gamerounds\")\n",
        "plt.plot(user_df.sum_gamerounds)"
      ],
      "execution_count": 9,
      "outputs": [
        {
          "output_type": "execute_result",
          "data": {
            "text/plain": [
              "Text(0.5, 1.0, 'Total gamerounds played')"
            ]
          },
          "metadata": {},
          "execution_count": 9
        },
        {
          "output_type": "execute_result",
          "data": {
            "text/plain": [
              "Text(0.5, 0, 'Index')"
            ]
          },
          "metadata": {},
          "execution_count": 9
        },
        {
          "output_type": "execute_result",
          "data": {
            "text/plain": [
              "Text(0, 0.5, 'sum_gamerounds')"
            ]
          },
          "metadata": {},
          "execution_count": 9
        },
        {
          "output_type": "execute_result",
          "data": {
            "text/plain": [
              "[<matplotlib.lines.Line2D at 0x7fb6a1e50a90>]"
            ]
          },
          "metadata": {},
          "execution_count": 9
        },
        {
          "output_type": "display_data",
          "data": {
            "image/png": "[encoded data removed]",
            "text/plain": [
              "<Figure size 432x288 with 1 Axes>"
            ]
          },
          "metadata": {
            "needs_background": "light"
          }
        }
      ]
    },
    {
      "cell_type": "markdown",
      "metadata": {
        "id": "MRUPfPr9iSZt"
      },
      "source": [
        "## Q2. Plot summary statistics and identify trends to answer basis business questions"
      ]
    },
    {
      "cell_type": "markdown",
      "metadata": {
        "id": "4-Ah9dqQiSZt"
      },
      "source": [
        "### Q2.1 What is the overall 7-day retention rate of the game?"
      ]
    },
    {
      "cell_type": "code",
      "metadata": {
        "id": "hHykqZ3YiSZu",
        "colab": {
          "base_uri": "https://localhost:8080/"
        },
        "outputId": "426215c2-84c5-4b2f-fe2a-4e5af5c17934"
      },
      "source": [
        "#Insert calculation for 7-day retention rate\n",
        "\n",
        "retentionRate_7Days = ( user_df['retention_7'].mean() )*100\n",
        "print(\"overall 7-day retention rate of the game is: \" ,retentionRate_7Days)\n"
      ],
      "execution_count": 10,
      "outputs": [
        {
          "output_type": "stream",
          "name": "stdout",
          "text": [
            "overall 7-day retention rate of the game is:  18.60557945624695\n"
          ]
        }
      ]
    },
    {
      "cell_type": "markdown",
      "metadata": {
        "id": "5okbyesoiSZu"
      },
      "source": [
        "### Q2.2 How many players never played the game after installing? "
      ]
    },
    {
      "cell_type": "code",
      "metadata": {
        "id": "goO-ALhkiSZu",
        "colab": {
          "base_uri": "https://localhost:8080/"
        },
        "outputId": "ed05eece-6cc4-4e59-c7e2-9abbdf8b4fab"
      },
      "source": [
        "# Find number of customers with sum_gamerounds is equal to zero\n",
        "user_df[user_df.sum_gamerounds == 0].index.shape[0]"
      ],
      "execution_count": 11,
      "outputs": [
        {
          "output_type": "execute_result",
          "data": {
            "text/plain": [
              "3994"
            ]
          },
          "metadata": {},
          "execution_count": 11
        }
      ]
    },
    {
      "cell_type": "markdown",
      "metadata": {
        "id": "EVEICqddiSZu"
      },
      "source": [
        "### Q2.3 Does the number of users decrease as the level progresses highlighting the difficulty of the game?"
      ]
    },
    {
      "cell_type": "code",
      "metadata": {
        "id": "zxwwafgFiSZu",
        "colab": {
          "base_uri": "https://localhost:8080/",
          "height": 299
        },
        "outputId": "bd684d85-ab90-43cf-cd0d-bdfcc555c6c4"
      },
      "source": [
        "#Group by sum_gamerounds and count the number of users for the first 200 gamerounds\n",
        "#Use plot() function on the summarized stats to visualize the chart\n",
        "\n",
        "DecreasingUsers = user_df.groupby(\"sum_gamerounds\").userid.count()[0:200]\n",
        "DecreasingUsers.plot()"
      ],
      "execution_count": 12,
      "outputs": [
        {
          "output_type": "execute_result",
          "data": {
            "text/plain": [
              "<matplotlib.axes._subplots.AxesSubplot at 0x7fb6a1de2e50>"
            ]
          },
          "metadata": {},
          "execution_count": 12
        },
        {
          "output_type": "display_data",
          "data": {
            "image/png": "[encoded data removed]",
            "text/plain": [
              "<Figure size 432x288 with 1 Axes>"
            ]
          },
          "metadata": {
            "needs_background": "light"
          }
        }
      ]
    },
    {
      "cell_type": "markdown",
      "metadata": {
        "id": "DcyQYU-tiSZu"
      },
      "source": [
        "## Q3. Generate crosstab for two groups of players to understand if there is a difference in 7 days retention rate & total number of game rounds played"
      ]
    },
    {
      "cell_type": "markdown",
      "metadata": {
        "id": "2w7GpBd8iSZu"
      },
      "source": [
        "### Q3.1 Seven days retention rate summary for different game versions"
      ]
    },
    {
      "cell_type": "code",
      "metadata": {
        "id": "-t8DdMxBiSZu",
        "colab": {
          "base_uri": "https://localhost:8080/",
          "height": 143
        },
        "outputId": "3c3d24a2-7224-4d3f-e290-b2146c5b2e3b"
      },
      "source": [
        "#Create cross tab for game version and retention_7 flag counting number of users for each possible categories\n",
        "\n",
        "pd.crosstab(user_df.version, user_df.retention_7).apply(lambda r: r/r.sum(), axis=1)"
      ],
      "execution_count": 13,
      "outputs": [
        {
          "output_type": "execute_result",
          "data": {
            "text/html": [
              "<div>\n",
              "<style scoped>\n",
              "    .dataframe tbody tr th:only-of-type {\n",
              "        vertical-align: middle;\n",
              "    }\n",
              "\n",
              "    .dataframe tbody tr th {\n",
              "        vertical-align: top;\n",
              "    }\n",
              "\n",
              "    .dataframe thead th {\n",
              "        text-align: right;\n",
              "    }\n",
              "</style>\n",
              "<table border=\"1\" class=\"dataframe\">\n",
              "  <thead>\n",
              "    <tr style=\"text-align: right;\">\n",
              "      <th>retention_7</th>\n",
              "      <th>False</th>\n",
              "      <th>True</th>\n",
              "    </tr>\n",
              "    <tr>\n",
              "      <th>version</th>\n",
              "      <th></th>\n",
              "      <th></th>\n",
              "    </tr>\n",
              "  </thead>\n",
              "  <tbody>\n",
              "    <tr>\n",
              "      <th>gate_30</th>\n",
              "      <td>0.809817</td>\n",
              "      <td>0.190183</td>\n",
              "    </tr>\n",
              "    <tr>\n",
              "      <th>gate_40</th>\n",
              "      <td>0.818000</td>\n",
              "      <td>0.182000</td>\n",
              "    </tr>\n",
              "  </tbody>\n",
              "</table>\n",
              "</div>"
            ],
            "text/plain": [
              "retention_7     False     True \n",
              "version                        \n",
              "gate_30      0.809817  0.190183\n",
              "gate_40      0.818000  0.182000"
            ]
          },
          "metadata": {},
          "execution_count": 13
        }
      ]
    },
    {
      "cell_type": "markdown",
      "metadata": {
        "id": "aL9bwkcpiSZv"
      },
      "source": [
        "<mark>__Analsysis Results:__\n",
        "\n",
        "Here, with the  cross tab it is clear regarding the number of users for game_Version and retention_7 flag is higher ( and also 'True' ) for gate_30 version i.e, it has higher retention rate and should be considered as prefered gate for retention. Although, in both of them around 80% of players have left the game after 7 days retention time."
      ]
    },
    {
      "cell_type": "markdown",
      "metadata": {
        "id": "62ZIlfh1iSZv"
      },
      "source": [
        "### Q3.2 Gamerounds summary for different game versions"
      ]
    },
    {
      "cell_type": "code",
      "metadata": {
        "id": "BCyf0Q5eiSZv",
        "colab": {
          "base_uri": "https://localhost:8080/"
        },
        "outputId": "ce1f7484-c1ed-4559-9032-b9bc07763b46"
      },
      "source": [
        "#use pandas group by to calculate average game rounds played summarized by different versions\n",
        "\n",
        "gameRounds=user_df.groupby(\"version\").sum_gamerounds\n",
        "gameRounds.agg(\"mean\")"
      ],
      "execution_count": 14,
      "outputs": [
        {
          "output_type": "execute_result",
          "data": {
            "text/plain": [
              "version\n",
              "gate_30    51.342111\n",
              "gate_40    51.298776\n",
              "Name: sum_gamerounds, dtype: float64"
            ]
          },
          "metadata": {},
          "execution_count": 14
        }
      ]
    },
    {
      "cell_type": "code",
      "metadata": {
        "colab": {
          "base_uri": "https://localhost:8080/",
          "height": 143
        },
        "id": "RD8E84jvIGwk",
        "outputId": "7b27f99a-2e56-43b8-9cd4-c55cd9a0f161"
      },
      "source": [
        "gameRounds.agg([\"count\"])"
      ],
      "execution_count": 15,
      "outputs": [
        {
          "output_type": "execute_result",
          "data": {
            "text/html": [
              "<div>\n",
              "<style scoped>\n",
              "    .dataframe tbody tr th:only-of-type {\n",
              "        vertical-align: middle;\n",
              "    }\n",
              "\n",
              "    .dataframe tbody tr th {\n",
              "        vertical-align: top;\n",
              "    }\n",
              "\n",
              "    .dataframe thead th {\n",
              "        text-align: right;\n",
              "    }\n",
              "</style>\n",
              "<table border=\"1\" class=\"dataframe\">\n",
              "  <thead>\n",
              "    <tr style=\"text-align: right;\">\n",
              "      <th></th>\n",
              "      <th>count</th>\n",
              "    </tr>\n",
              "    <tr>\n",
              "      <th>version</th>\n",
              "      <th></th>\n",
              "    </tr>\n",
              "  </thead>\n",
              "  <tbody>\n",
              "    <tr>\n",
              "      <th>gate_30</th>\n",
              "      <td>44699</td>\n",
              "    </tr>\n",
              "    <tr>\n",
              "      <th>gate_40</th>\n",
              "      <td>45489</td>\n",
              "    </tr>\n",
              "  </tbody>\n",
              "</table>\n",
              "</div>"
            ],
            "text/plain": [
              "         count\n",
              "version       \n",
              "gate_30  44699\n",
              "gate_40  45489"
            ]
          },
          "metadata": {},
          "execution_count": 15
        }
      ]
    },
    {
      "cell_type": "markdown",
      "metadata": {
        "id": "DP5BIJZyiSZv"
      },
      "source": [
        "<mark>__Analsysis Results:__\n",
        "\n",
        "Yes, if we consider the count - gate 40 has more number, but the mean shows both are almost similar. \n",
        "\n",
        "SO, they are same as there isn't much difference between them."
      ]
    },
    {
      "cell_type": "markdown",
      "metadata": {
        "id": "HdEYjtfpiSZv"
      },
      "source": [
        "## Q4. Perform two-sample test for groups A and B to test statistical significance amongst the groups in the sum of game rounds played i.e., if groups A and B are statistically different"
      ]
    },
    {
      "cell_type": "markdown",
      "metadata": {
        "id": "3ydc-t8WiSZw"
      },
      "source": [
        "### Initial data processing"
      ]
    },
    {
      "cell_type": "code",
      "metadata": {
        "id": "YtgXXq93iSZw"
      },
      "source": [
        "#Define A/B groups for hypothesis testing\n",
        "user_df[\"version\"] = np.where(user_df.version == \"gate_30\", \"A\", \"B\")\n",
        "group_A=pd.DataFrame(user_df[user_df.version==\"A\"]['sum_gamerounds'])\n",
        "group_B=pd.DataFrame(user_df[user_df.version==\"B\"]['sum_gamerounds'])"
      ],
      "execution_count": 16,
      "outputs": []
    },
    {
      "cell_type": "markdown",
      "metadata": {
        "id": "zlyeTKiTiSZw"
      },
      "source": [
        "### Q4.1 Shapiro test of Normality"
      ]
    },
    {
      "cell_type": "code",
      "metadata": {
        "id": "tXsSQmHdiSZw",
        "colab": {
          "base_uri": "https://localhost:8080/"
        },
        "outputId": "7bc52a33-676b-4e77-fbb8-ae5b9c401369"
      },
      "source": [
        "#---------------------- Shapiro Test ----------------------\n",
        "# NULL Hypothesis H0: Distribution is normal\n",
        "# ALTERNATE Hypothesis H1: Distribution is not normal    \n",
        "\n",
        "#test for group_A\n",
        "shapiro(group_A)\n",
        "\n",
        "\n",
        "#test for group_B\n",
        "shapiro(group_B)"
      ],
      "execution_count": 17,
      "outputs": [
        {
          "output_type": "execute_result",
          "data": {
            "text/plain": [
              "(0.48864424228668213, 0.0)"
            ]
          },
          "metadata": {},
          "execution_count": 17
        },
        {
          "output_type": "execute_result",
          "data": {
            "text/plain": [
              "(0.48256540298461914, 0.0)"
            ]
          },
          "metadata": {},
          "execution_count": 17
        }
      ]
    },
    {
      "cell_type": "markdown",
      "metadata": {
        "id": "AOQIRsuAiSZw"
      },
      "source": [
        "<mark>__Analsysis Results:__\n",
        "  \n",
        "\n",
        "As the P-Value for group_A and group_B are less than 0.05, the Shapiro test rejects the hypothesis of normality for both groups."
      ]
    },
    {
      "cell_type": "markdown",
      "metadata": {
        "id": "q4o9AOd7iSZx"
      },
      "source": [
        "### Q4.2 Test of homegienity of variance"
      ]
    },
    {
      "cell_type": "code",
      "metadata": {
        "id": "mrziVdBNiSZx",
        "colab": {
          "base_uri": "https://localhost:8080/"
        },
        "outputId": "5f519309-7689-45ff-a701-c3796f6591f1"
      },
      "source": [
        "#---------------------- Leven's Test ----------------------\n",
        "# NULL Hypothesis H0: Two groups have equal variances\n",
        "# ALTERNATE Hypothesis H1: Two groups do not have equal variances\n",
        "\n",
        "#perform levene's test and accept or reject the null hypothesis based on the results\n",
        "\n",
        "stats.levene(group_A.sum_gamerounds, group_B.sum_gamerounds)"
      ],
      "execution_count": 18,
      "outputs": [
        {
          "output_type": "execute_result",
          "data": {
            "text/plain": [
              "LeveneResult(statistic=0.07510153837481241, pvalue=0.7840494387892463)"
            ]
          },
          "metadata": {},
          "execution_count": 18
        }
      ]
    },
    {
      "cell_type": "markdown",
      "metadata": {
        "id": "LwTNd1VPiSZx"
      },
      "source": [
        "<mark>__Analsysis Results:__\n",
        "\n",
        "On observing p-Value it is clear that it is not less than 0.05, we fail to reject the Null Hypothesis H0 i.e, Two groups have equal variance."
      ]
    },
    {
      "cell_type": "markdown",
      "metadata": {
        "id": "uWPsJfKPiSZy"
      },
      "source": [
        "### Q4.3 Test of significance: Two sample test"
      ]
    },
    {
      "cell_type": "code",
      "metadata": {
        "id": "l7nqj4X5iSZz",
        "colab": {
          "base_uri": "https://localhost:8080/"
        },
        "outputId": "f5ffa221-a6e3-4392-febd-cf437b1faab7"
      },
      "source": [
        "#---------------------- Two samples test ----------------------\n",
        "# NULL Hypothesis H0: Two samples are equal\n",
        "# ALTERNATE Hypothesis H1: Two samples are different\n",
        "\n",
        "#Apply relevant two sample test to accept or reject the NULL hypothesis\n",
        "\n",
        "stats.mannwhitneyu(group_A.sum_gamerounds, group_B.sum_gamerounds,alternative='greater')\n",
        "\n",
        "#I've used Mann-Whitney U Test to identify whether the two samples are equal or not."
      ],
      "execution_count": 22,
      "outputs": [
        {
          "output_type": "execute_result",
          "data": {
            "text/plain": [
              "MannwhitneyuResult(statistic=1024285761.5, pvalue=0.02544577639572688)"
            ]
          },
          "metadata": {},
          "execution_count": 22
        }
      ]
    },
    {
      "cell_type": "markdown",
      "metadata": {
        "id": "kE7uFYGSiSZz"
      },
      "source": [
        "<mark>__Analsysis Results:__\n",
        "\n",
        "The result obtained from **Mann-Whitney U Test** clearly states that the statistic value is too high which represents distribution underlying distribution is different i.e, they are statistically different. i,e, **Alternate Hypothesis is true**."
      ]
    },
    {
      "cell_type": "markdown",
      "metadata": {
        "id": "AJRShYQFiSZz"
      },
      "source": [
        "## Q5. Based on significance testing results, if groups A and B are statistically different, which level has more advantage in terms of player retention and number of game rounds played"
      ]
    },
    {
      "cell_type": "code",
      "metadata": {
        "id": "1d_q6KSxiSZz",
        "colab": {
          "base_uri": "https://localhost:8080/",
          "height": 143
        },
        "outputId": "6d78664d-e271-4539-b6f1-64dca7765b27"
      },
      "source": [
        "#Analyze the 1 day and 7 days retention rate for two different groups using group by function\n",
        "\n",
        "# we'll take similar to previous calculation used to signify the tesitng results\n",
        "testGroups = user_df[[\"version\",\"retention_1\",\"retention_7\"]].groupby(\"version\")\n",
        "testGroupAggregation = testGroups.agg(\"mean\")\n",
        "testGroupAggregation\n"
      ],
      "execution_count": 28,
      "outputs": [
        {
          "output_type": "execute_result",
          "data": {
            "text/html": [
              "<div>\n",
              "<style scoped>\n",
              "    .dataframe tbody tr th:only-of-type {\n",
              "        vertical-align: middle;\n",
              "    }\n",
              "\n",
              "    .dataframe tbody tr th {\n",
              "        vertical-align: top;\n",
              "    }\n",
              "\n",
              "    .dataframe thead th {\n",
              "        text-align: right;\n",
              "    }\n",
              "</style>\n",
              "<table border=\"1\" class=\"dataframe\">\n",
              "  <thead>\n",
              "    <tr style=\"text-align: right;\">\n",
              "      <th></th>\n",
              "      <th>retention_1</th>\n",
              "      <th>retention_7</th>\n",
              "    </tr>\n",
              "    <tr>\n",
              "      <th>version</th>\n",
              "      <th></th>\n",
              "      <th></th>\n",
              "    </tr>\n",
              "  </thead>\n",
              "  <tbody>\n",
              "    <tr>\n",
              "      <th>A</th>\n",
              "      <td>0.448198</td>\n",
              "      <td>0.190183</td>\n",
              "    </tr>\n",
              "    <tr>\n",
              "      <th>B</th>\n",
              "      <td>0.442283</td>\n",
              "      <td>0.182000</td>\n",
              "    </tr>\n",
              "  </tbody>\n",
              "</table>\n",
              "</div>"
            ],
            "text/plain": [
              "         retention_1  retention_7\n",
              "version                          \n",
              "A           0.448198     0.190183\n",
              "B           0.442283     0.182000"
            ]
          },
          "metadata": {},
          "execution_count": 28
        }
      ]
    },
    {
      "cell_type": "markdown",
      "metadata": {
        "id": "eNFy8DxGiSZz"
      },
      "source": [
        "<mark>__Analsysis Results:__\n",
        "  \n",
        "Based on the above performed significance tests and calculations, it is clear that level - Version-A i.e, Gate 30 has higher retention rate."
      ]
    }
  ]
}
